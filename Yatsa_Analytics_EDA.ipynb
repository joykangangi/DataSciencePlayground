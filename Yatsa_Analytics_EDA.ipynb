{
  "cells": [
    {
      "cell_type": "markdown",
      "metadata": {
        "id": "0y_qHRBUdt1h"
      },
      "source": [
        "## Yatsa Data Analytics"
      ]
    },
    {
      "cell_type": "markdown",
      "metadata": {
        "id": "NVqttLA_dt1k"
      },
      "source": [
        "Yatsa is company that helps you track and manage your assets better. \n",
        "This notebook is a quick look at the data that Yatsa collects from their user's assets and the trips the assets being tracked have made. The goal of the analytics is to provide insights from the data and answer the following business questions:\n",
        "- What is the average distance travelled by vehicles in a day, week or month?\n",
        "- What are the most common destination for vehicles and how frequent do they travel to  these destinations?\n",
        "\n",
        "### Extra\n",
        "- Any trends in driver behaviour for example speeding?\n",
        "- Any pattern or trends in the types of trips made by vehicles for example: do smaller vehicles travel through smaller distances.\n",
        "\n",
        "`trips.json` file is too large to be uploaded to github. It can be download from [here](https://drive.google.com/drive/folders/1cVddbKWqv8B9NF6B0ALS3Rv4vZAxEi1Z?usp=share_link)"
      ]
    },
    {
      "cell_type": "code",
      "execution_count": null,
      "metadata": {
        "id": "zrSFjEXSdt1m"
      },
      "outputs": [],
      "source": [
        "import pandas as pd\n",
        "import matplotlib.pyplot as plt\n",
        "assets = pd.read_json('Data/assets.json')"
      ]
    },
    {
      "cell_type": "code",
      "execution_count": null,
      "metadata": {
        "id": "w9y-CLFedt1o",
        "outputId": "2c4ceaf6-9cce-4a63-f25b-5fd23d159755"
      },
      "outputs": [
        {
          "data": {
            "text/html": [
              "<div>\n",
              "<style scoped>\n",
              "    .dataframe tbody tr th:only-of-type {\n",
              "        vertical-align: middle;\n",
              "    }\n",
              "\n",
              "    .dataframe tbody tr th {\n",
              "        vertical-align: top;\n",
              "    }\n",
              "\n",
              "    .dataframe thead th {\n",
              "        text-align: right;\n",
              "    }\n",
              "</style>\n",
              "<table border=\"1\" class=\"dataframe\">\n",
              "  <thead>\n",
              "    <tr style=\"text-align: right;\">\n",
              "      <th></th>\n",
              "      <th>id</th>\n",
              "      <th>make</th>\n",
              "      <th>model</th>\n",
              "      <th>year</th>\n",
              "    </tr>\n",
              "  </thead>\n",
              "  <tbody>\n",
              "    <tr>\n",
              "      <th>0</th>\n",
              "      <td>QRmYjfT</td>\n",
              "      <td>TOYOTA Ractis 1.0</td>\n",
              "      <td>Ractis 1.0</td>\n",
              "      <td>2006.0</td>\n",
              "    </tr>\n",
              "    <tr>\n",
              "      <th>1</th>\n",
              "      <td>DpXMzg3</td>\n",
              "      <td>Lexus CT 200h</td>\n",
              "      <td>CT 200h</td>\n",
              "      <td>NaN</td>\n",
              "    </tr>\n",
              "    <tr>\n",
              "      <th>2</th>\n",
              "      <td>4tQe9sV</td>\n",
              "      <td>Honda Odyssey</td>\n",
              "      <td>Odyssey</td>\n",
              "      <td>NaN</td>\n",
              "    </tr>\n",
              "    <tr>\n",
              "      <th>3</th>\n",
              "      <td>x2LJWsl</td>\n",
              "      <td>MITSUBISHI Lancer Cedia LA-CS2A</td>\n",
              "      <td>Lancer Cedia LA-CS2A</td>\n",
              "      <td>2005.0</td>\n",
              "    </tr>\n",
              "    <tr>\n",
              "      <th>4</th>\n",
              "      <td>eH0O4bf</td>\n",
              "      <td>Nissan</td>\n",
              "      <td>Note</td>\n",
              "      <td>2011.0</td>\n",
              "    </tr>\n",
              "  </tbody>\n",
              "</table>\n",
              "</div>"
            ],
            "text/plain": [
              "        id                             make                 model    year\n",
              "0  QRmYjfT                TOYOTA Ractis 1.0            Ractis 1.0  2006.0\n",
              "1  DpXMzg3                    Lexus CT 200h               CT 200h     NaN\n",
              "2  4tQe9sV                    Honda Odyssey               Odyssey     NaN\n",
              "3  x2LJWsl  MITSUBISHI Lancer Cedia LA-CS2A  Lancer Cedia LA-CS2A  2005.0\n",
              "4  eH0O4bf                           Nissan                  Note  2011.0"
            ]
          },
          "execution_count": 2,
          "metadata": {},
          "output_type": "execute_result"
        }
      ],
      "source": [
        "assets.head()"
      ]
    },
    {
      "cell_type": "code",
      "execution_count": null,
      "metadata": {
        "id": "OQEyVth2dt1q"
      },
      "outputs": [],
      "source": [
        "import json"
      ]
    },
    {
      "cell_type": "code",
      "execution_count": null,
      "metadata": {
        "id": "sDIk4xhgdt1q",
        "outputId": "c548786b-61f6-42ba-af2d-98a546d7472a"
      },
      "outputs": [
        {
          "ename": "FileNotFoundError",
          "evalue": "[Errno 2] No such file or directory: 'Data/trips.json'",
          "output_type": "error",
          "traceback": [
            "\u001b[1;31m---------------------------------------------------------------------------\u001b[0m",
            "\u001b[1;31mFileNotFoundError\u001b[0m                         Traceback (most recent call last)",
            "\u001b[1;32mc:\\Users\\lenovo\\PycharmProjects\\Kamilimu DS\\ClassProject\\Yatsa-Analytics\\Yatsa-Analytics-EDA.ipynb Cell 6\u001b[0m in \u001b[0;36m<cell line: 1>\u001b[1;34m()\u001b[0m\n\u001b[1;32m----> <a href='vscode-notebook-cell:/c%3A/Users/lenovo/PycharmProjects/Kamilimu%20DS/ClassProject/Yatsa-Analytics/Yatsa-Analytics-EDA.ipynb#W5sZmlsZQ%3D%3D?line=0'>1</a>\u001b[0m \u001b[39mwith\u001b[39;00m \u001b[39mopen\u001b[39;49m(\u001b[39m'\u001b[39;49m\u001b[39mData/trips.json\u001b[39;49m\u001b[39m'\u001b[39;49m) \u001b[39mas\u001b[39;00m f:\n\u001b[0;32m      <a href='vscode-notebook-cell:/c%3A/Users/lenovo/PycharmProjects/Kamilimu%20DS/ClassProject/Yatsa-Analytics/Yatsa-Analytics-EDA.ipynb#W5sZmlsZQ%3D%3D?line=1'>2</a>\u001b[0m     trips \u001b[39m=\u001b[39m json\u001b[39m.\u001b[39mload(f)\n",
            "\u001b[1;31mFileNotFoundError\u001b[0m: [Errno 2] No such file or directory: 'Data/trips.json'"
          ]
        }
      ],
      "source": [
        "with open('Data/trips.json') as f:\n",
        "    trips = json.load(f)"
      ]
    },
    {
      "cell_type": "code",
      "execution_count": null,
      "metadata": {
        "id": "H2daPlFGdt1r",
        "outputId": "e362866a-4187-47a9-adce-b488a8d9c8db"
      },
      "outputs": [
        {
          "ename": "NameError",
          "evalue": "name 'trips' is not defined",
          "output_type": "error",
          "traceback": [
            "\u001b[1;31m---------------------------------------------------------------------------\u001b[0m",
            "\u001b[1;31mNameError\u001b[0m                                 Traceback (most recent call last)",
            "\u001b[1;32mc:\\Users\\lenovo\\PycharmProjects\\Kamilimu DS\\ClassProject\\Yatsa-Analytics\\Yatsa-Analytics-EDA.ipynb Cell 7\u001b[0m in \u001b[0;36m<cell line: 1>\u001b[1;34m()\u001b[0m\n\u001b[1;32m----> <a href='vscode-notebook-cell:/c%3A/Users/lenovo/PycharmProjects/Kamilimu%20DS/ClassProject/Yatsa-Analytics/Yatsa-Analytics-EDA.ipynb#W6sZmlsZQ%3D%3D?line=0'>1</a>\u001b[0m \u001b[39mprint\u001b[39m(trips[\u001b[39m0\u001b[39m])\n",
            "\u001b[1;31mNameError\u001b[0m: name 'trips' is not defined"
          ]
        }
      ],
      "source": [
        "print(trips[0])"
      ]
    },
    {
      "cell_type": "code",
      "execution_count": null,
      "metadata": {
        "id": "uiCJKa3Fdt1r",
        "outputId": "e614c277-0d20-4383-b986-15dea14eabf1"
      },
      "outputs": [
        {
          "name": "stdout",
          "output_type": "stream",
          "text": [
            "['id', 'created', 'asset_id', 'distance', 'origin_latitude', 'origin_longitude', 'origin_time_stamp', 'origin_address', 'origin_odometer', 'destination_latitude', 'destination_longitude', 'destination_time_stamp', 'destination_address', 'destination_odometer', 'point_bearing', 'point_latitude', 'point_longitude', 'point_original_index', 'point_place_id']\n"
          ]
        }
      ],
      "source": [
        "columns = []\n",
        "columns.append('id')\n",
        "columns.append('created')\n",
        "columns.append('asset_id')\n",
        "columns.append('distance')\n",
        "data_origin = trips[3]['origin']\n",
        "data_destination = trips[4]['destination']\n",
        "data_points = trips[6]['points'][0]\n",
        "for key in data_origin.keys():\n",
        "    if key not in columns:\n",
        "        columns.append('origin_' + key)\n",
        "for key in data_destination.keys():\n",
        "    if key not in columns:\n",
        "        columns.append('destination_' + key)\n",
        "for k, v in data_points.items():\n",
        "    if k not in columns:\n",
        "        if k == 'location':\n",
        "            for key in v.keys():\n",
        "                if key not in columns:\n",
        "                    columns.append('point_' + key)\n",
        "        else:\n",
        "            columns.append('point_' + k)\n",
        "print(columns)\n"
      ]
    },
    {
      "cell_type": "code",
      "execution_count": null,
      "metadata": {
        "id": "92R5_FWYdt1s"
      },
      "outputs": [],
      "source": [
        "trips_df = pd.DataFrame(columns=columns)\n",
        "# fill the dataframe columns with trips data "
      ]
    },
    {
      "cell_type": "code",
      "execution_count": null,
      "metadata": {
        "id": "aBaxnrVkdt1t",
        "outputId": "a2f1b4b2-673b-4909-9bc3-618861ebccc4"
      },
      "outputs": [
        {
          "data": {
            "text/html": [
              "<div>\n",
              "<style scoped>\n",
              "    .dataframe tbody tr th:only-of-type {\n",
              "        vertical-align: middle;\n",
              "    }\n",
              "\n",
              "    .dataframe tbody tr th {\n",
              "        vertical-align: top;\n",
              "    }\n",
              "\n",
              "    .dataframe thead th {\n",
              "        text-align: right;\n",
              "    }\n",
              "</style>\n",
              "<table border=\"1\" class=\"dataframe\">\n",
              "  <thead>\n",
              "    <tr style=\"text-align: right;\">\n",
              "      <th></th>\n",
              "      <th>id</th>\n",
              "      <th>created</th>\n",
              "      <th>asset_id</th>\n",
              "      <th>distance</th>\n",
              "      <th>origin_latitude</th>\n",
              "      <th>origin_longitude</th>\n",
              "      <th>origin_time_stamp</th>\n",
              "      <th>origin_address</th>\n",
              "      <th>origin_odometer</th>\n",
              "      <th>destination_latitude</th>\n",
              "      <th>destination_longitude</th>\n",
              "      <th>destination_time_stamp</th>\n",
              "      <th>destination_address</th>\n",
              "      <th>destination_odometer</th>\n",
              "      <th>point_bearing</th>\n",
              "      <th>point_latitude</th>\n",
              "      <th>point_longitude</th>\n",
              "      <th>point_original_index</th>\n",
              "      <th>point_place_id</th>\n",
              "    </tr>\n",
              "  </thead>\n",
              "  <tbody>\n",
              "    <tr>\n",
              "      <th>0</th>\n",
              "      <td>35Ldjpf</td>\n",
              "      <td>2022-03-14T17:31:51.003+00:00</td>\n",
              "      <td>0ROajub</td>\n",
              "      <td>4321.65</td>\n",
              "      <td>-1.04322</td>\n",
              "      <td>37.067928</td>\n",
              "      <td>2022-03-14T17:31:47+00:00</td>\n",
              "      <td>Thika Garissa Highway, Total, Thika, Kenya</td>\n",
              "      <td>None</td>\n",
              "      <td>-1.041213</td>\n",
              "      <td>37.092602</td>\n",
              "      <td>2022-03-14T17:54:07+00:00</td>\n",
              "      <td>Kenyatta Highway, Thika, Kiambu County, Kenya</td>\n",
              "      <td>None</td>\n",
              "      <td>0.0</td>\n",
              "      <td>-1.040909</td>\n",
              "      <td>37.071567</td>\n",
              "      <td>0</td>\n",
              "      <td>ChIJuy2HBJJOLxgRflFygNiz0W4</td>\n",
              "    </tr>\n",
              "    <tr>\n",
              "      <th>1</th>\n",
              "      <td>agWTdy5</td>\n",
              "      <td>2023-03-07T08:53:55.607+00:00</td>\n",
              "      <td>0gMAW5w</td>\n",
              "      <td>24703.24</td>\n",
              "      <td>-1.305577</td>\n",
              "      <td>36.824627</td>\n",
              "      <td>2023-03-07T08:53:51+00:00</td>\n",
              "      <td>Nyayo Stadium, Nairobi, Kenya</td>\n",
              "      <td>None</td>\n",
              "      <td>-1.430601</td>\n",
              "      <td>36.687973</td>\n",
              "      <td>2023-03-07T10:13:47+00:00</td>\n",
              "      <td>Magadi Road, Kiserian, Kajiado County, Kenya</td>\n",
              "      <td>None</td>\n",
              "      <td>-163.431442</td>\n",
              "      <td>-1.041084</td>\n",
              "      <td>37.071515</td>\n",
              "      <td>0</td>\n",
              "      <td>ChIJuy2HBJJOLxgRflFygNiz0W4</td>\n",
              "    </tr>\n",
              "    <tr>\n",
              "      <th>2</th>\n",
              "      <td>mcXsPmo</td>\n",
              "      <td>2023-03-07T06:40:53.771+00:00</td>\n",
              "      <td>0gMAW5w</td>\n",
              "      <td>30689.27</td>\n",
              "      <td>-1.430067</td>\n",
              "      <td>36.688068</td>\n",
              "      <td>2023-03-07T06:40:48+00:00</td>\n",
              "      <td>Magadi Road, Kiserian, Kajiado County, Kenya</td>\n",
              "      <td>None</td>\n",
              "      <td>-1.305638</td>\n",
              "      <td>36.824879</td>\n",
              "      <td>2023-03-07T08:25:04+00:00</td>\n",
              "      <td>Nyayo Stadium, Nairobi, Kenya</td>\n",
              "      <td>None</td>\n",
              "      <td>0.0</td>\n",
              "      <td>-1.041084</td>\n",
              "      <td>37.071515</td>\n",
              "      <td>1</td>\n",
              "      <td>ChIJjRl4E5JOLxgR5QYZp79nAZQ</td>\n",
              "    </tr>\n",
              "    <tr>\n",
              "      <th>3</th>\n",
              "      <td>WRBY3Lt</td>\n",
              "      <td>2023-03-07T05:12:29.007+00:00</td>\n",
              "      <td>0gMAW5w</td>\n",
              "      <td>24609.34</td>\n",
              "      <td>-1.30549</td>\n",
              "      <td>36.825317</td>\n",
              "      <td>2023-03-07T05:12:26+00:00</td>\n",
              "      <td>Nyayo Stadium, Nairobi, Kenya</td>\n",
              "      <td>None</td>\n",
              "      <td>-1.429965</td>\n",
              "      <td>36.688194</td>\n",
              "      <td>2023-03-07T06:29:53+00:00</td>\n",
              "      <td>Magadi Road, Kiserian, Kajiado County, Kenya</td>\n",
              "      <td>None</td>\n",
              "      <td>-72.222748</td>\n",
              "      <td>-1.040909</td>\n",
              "      <td>37.070972</td>\n",
              "      <td>0</td>\n",
              "      <td>ChIJjRl4E5JOLxgR5QYZp79nAZQ</td>\n",
              "    </tr>\n",
              "    <tr>\n",
              "      <th>4</th>\n",
              "      <td>1WaNBeb</td>\n",
              "      <td>2023-03-07T03:15:18.67+00:00</td>\n",
              "      <td>0gMAW5w</td>\n",
              "      <td>28395.71</td>\n",
              "      <td>-1.397144</td>\n",
              "      <td>36.75983</td>\n",
              "      <td>2023-03-07T03:15:15+00:00</td>\n",
              "      <td>Soronik Road, Nairobi, Kenya</td>\n",
              "      <td>None</td>\n",
              "      <td>-1.305595</td>\n",
              "      <td>36.825199</td>\n",
              "      <td>2023-03-07T04:59:31+00:00</td>\n",
              "      <td>Gandhi Avenue, Nairobi West, Nairobi, Nairobi ...</td>\n",
              "      <td>None</td>\n",
              "      <td>0.0</td>\n",
              "      <td>-1.040909</td>\n",
              "      <td>37.070972</td>\n",
              "      <td>0</td>\n",
              "      <td>ChIJx5QNLpJOLxgRzW-2tUJvBuo</td>\n",
              "    </tr>\n",
              "  </tbody>\n",
              "</table>\n",
              "</div>"
            ],
            "text/plain": [
              "        id                        created asset_id  distance origin_latitude  \\\n",
              "0  35Ldjpf  2022-03-14T17:31:51.003+00:00  0ROajub   4321.65        -1.04322   \n",
              "1  agWTdy5  2023-03-07T08:53:55.607+00:00  0gMAW5w  24703.24       -1.305577   \n",
              "2  mcXsPmo  2023-03-07T06:40:53.771+00:00  0gMAW5w  30689.27       -1.430067   \n",
              "3  WRBY3Lt  2023-03-07T05:12:29.007+00:00  0gMAW5w  24609.34        -1.30549   \n",
              "4  1WaNBeb   2023-03-07T03:15:18.67+00:00  0gMAW5w  28395.71       -1.397144   \n",
              "\n",
              "  origin_longitude          origin_time_stamp  \\\n",
              "0        37.067928  2022-03-14T17:31:47+00:00   \n",
              "1        36.824627  2023-03-07T08:53:51+00:00   \n",
              "2        36.688068  2023-03-07T06:40:48+00:00   \n",
              "3        36.825317  2023-03-07T05:12:26+00:00   \n",
              "4         36.75983  2023-03-07T03:15:15+00:00   \n",
              "\n",
              "                                 origin_address origin_odometer  \\\n",
              "0    Thika Garissa Highway, Total, Thika, Kenya            None   \n",
              "1                 Nyayo Stadium, Nairobi, Kenya            None   \n",
              "2  Magadi Road, Kiserian, Kajiado County, Kenya            None   \n",
              "3                 Nyayo Stadium, Nairobi, Kenya            None   \n",
              "4                  Soronik Road, Nairobi, Kenya            None   \n",
              "\n",
              "  destination_latitude destination_longitude     destination_time_stamp  \\\n",
              "0            -1.041213             37.092602  2022-03-14T17:54:07+00:00   \n",
              "1            -1.430601             36.687973  2023-03-07T10:13:47+00:00   \n",
              "2            -1.305638             36.824879  2023-03-07T08:25:04+00:00   \n",
              "3            -1.429965             36.688194  2023-03-07T06:29:53+00:00   \n",
              "4            -1.305595             36.825199  2023-03-07T04:59:31+00:00   \n",
              "\n",
              "                                 destination_address destination_odometer  \\\n",
              "0      Kenyatta Highway, Thika, Kiambu County, Kenya                 None   \n",
              "1       Magadi Road, Kiserian, Kajiado County, Kenya                 None   \n",
              "2                      Nyayo Stadium, Nairobi, Kenya                 None   \n",
              "3       Magadi Road, Kiserian, Kajiado County, Kenya                 None   \n",
              "4  Gandhi Avenue, Nairobi West, Nairobi, Nairobi ...                 None   \n",
              "\n",
              "  point_bearing point_latitude point_longitude point_original_index  \\\n",
              "0           0.0      -1.040909       37.071567                    0   \n",
              "1   -163.431442      -1.041084       37.071515                    0   \n",
              "2           0.0      -1.041084       37.071515                    1   \n",
              "3    -72.222748      -1.040909       37.070972                    0   \n",
              "4           0.0      -1.040909       37.070972                    0   \n",
              "\n",
              "                point_place_id  \n",
              "0  ChIJuy2HBJJOLxgRflFygNiz0W4  \n",
              "1  ChIJuy2HBJJOLxgRflFygNiz0W4  \n",
              "2  ChIJjRl4E5JOLxgR5QYZp79nAZQ  \n",
              "3  ChIJjRl4E5JOLxgR5QYZp79nAZQ  \n",
              "4  ChIJx5QNLpJOLxgRzW-2tUJvBuo  "
            ]
          },
          "execution_count": 43,
          "metadata": {},
          "output_type": "execute_result"
        }
      ],
      "source": [
        "trips_df.head()"
      ]
    },
    {
      "cell_type": "markdown",
      "metadata": {
        "id": "CdYDMGkHdt1t"
      },
      "source": [
        "`Load` data into a Pandas dataframe from the CSV file in the `Data` folder. Do not run the two code cells below as it will take much time to execute."
      ]
    },
    {
      "cell_type": "code",
      "execution_count": null,
      "metadata": {
        "id": "6ptv08_Kdt1u"
      },
      "outputs": [],
      "source": [
        "for i, trip in enumerate(trips):\n",
        "    trips_df.loc[i, 'id'] = trip['id']\n",
        "    trips_df.loc[i, 'created'] = trip['created']\n",
        "    trips_df.loc[i, 'asset_id'] = trip['asset_id']\n",
        "    trips_df.loc[i, 'distance'] = trip['distance']\n",
        "    for key, value in trip['origin'].items():\n",
        "        trips_df.loc[i, 'origin_' + key] = value\n",
        "    for key, value in trip['destination'].items():\n",
        "        trips_df.loc[i, 'destination_' + key] = value\n",
        "    for i, v in enumerate(trip['points']):\n",
        "        for key, value in v.items():\n",
        "            if key == 'location':\n",
        "                for k, v in value.items():\n",
        "                    trips_df.loc[i, 'point_' + k] = v\n",
        "            else:\n",
        "                trips_df.loc[i, 'point_' + key] = value"
      ]
    },
    {
      "cell_type": "code",
      "execution_count": null,
      "metadata": {
        "id": "fODnzgtldt1u"
      },
      "outputs": [],
      "source": [
        "# save the trips_df to csv file\n",
        "trips_df.to_csv('Data/trips_df.csv', index=False)"
      ]
    },
    {
      "cell_type": "markdown",
      "metadata": {
        "id": "qcLT59OZdt1v"
      },
      "source": [
        "# Execute the code cells below to start working with trips data."
      ]
    },
    {
      "cell_type": "code",
      "execution_count": null,
      "metadata": {
        "id": "1xLEfz9Zdt1v"
      },
      "outputs": [],
      "source": [
        "trips_df = pd.read_csv('Data/trips_df.csv')"
      ]
    },
    {
      "cell_type": "code",
      "execution_count": null,
      "metadata": {
        "id": "kepp0yXgdt1w",
        "outputId": "f8540f98-480f-4800-90ba-f1436cf18db6"
      },
      "outputs": [
        {
          "data": {
            "text/plain": [
              "(6703, 19)"
            ]
          },
          "execution_count": 202,
          "metadata": {},
          "output_type": "execute_result"
        }
      ],
      "source": [
        "trips_df.shape"
      ]
    },
    {
      "cell_type": "code",
      "execution_count": null,
      "metadata": {
        "id": "Ylv8abXPdt1w",
        "outputId": "5db18b60-bb11-4904-8437-03395436bd0d"
      },
      "outputs": [
        {
          "data": {
            "text/html": [
              "<div>\n",
              "<style scoped>\n",
              "    .dataframe tbody tr th:only-of-type {\n",
              "        vertical-align: middle;\n",
              "    }\n",
              "\n",
              "    .dataframe tbody tr th {\n",
              "        vertical-align: top;\n",
              "    }\n",
              "\n",
              "    .dataframe thead th {\n",
              "        text-align: right;\n",
              "    }\n",
              "</style>\n",
              "<table border=\"1\" class=\"dataframe\">\n",
              "  <thead>\n",
              "    <tr style=\"text-align: right;\">\n",
              "      <th></th>\n",
              "      <th>distance</th>\n",
              "      <th>origin_latitude</th>\n",
              "      <th>origin_longitude</th>\n",
              "      <th>origin_odometer</th>\n",
              "      <th>destination_latitude</th>\n",
              "      <th>destination_longitude</th>\n",
              "      <th>destination_odometer</th>\n",
              "      <th>point_bearing</th>\n",
              "      <th>point_latitude</th>\n",
              "      <th>point_longitude</th>\n",
              "      <th>point_original_index</th>\n",
              "    </tr>\n",
              "  </thead>\n",
              "  <tbody>\n",
              "    <tr>\n",
              "      <th>count</th>\n",
              "      <td>4804.000000</td>\n",
              "      <td>4804.000000</td>\n",
              "      <td>4804.000000</td>\n",
              "      <td>0.0</td>\n",
              "      <td>4804.000000</td>\n",
              "      <td>4804.000000</td>\n",
              "      <td>0.0</td>\n",
              "      <td>6703.000000</td>\n",
              "      <td>6703.000000</td>\n",
              "      <td>6703.000000</td>\n",
              "      <td>6703.000000</td>\n",
              "    </tr>\n",
              "    <tr>\n",
              "      <th>mean</th>\n",
              "      <td>11241.547325</td>\n",
              "      <td>-1.033155</td>\n",
              "      <td>36.911776</td>\n",
              "      <td>NaN</td>\n",
              "      <td>-1.033224</td>\n",
              "      <td>36.911758</td>\n",
              "      <td>NaN</td>\n",
              "      <td>-15.064304</td>\n",
              "      <td>-0.404014</td>\n",
              "      <td>36.305245</td>\n",
              "      <td>6.828883</td>\n",
              "    </tr>\n",
              "    <tr>\n",
              "      <th>std</th>\n",
              "      <td>20407.447419</td>\n",
              "      <td>0.433675</td>\n",
              "      <td>0.411567</td>\n",
              "      <td>NaN</td>\n",
              "      <td>0.435225</td>\n",
              "      <td>0.411621</td>\n",
              "      <td>NaN</td>\n",
              "      <td>74.698946</td>\n",
              "      <td>0.846147</td>\n",
              "      <td>0.891082</td>\n",
              "      <td>20.025799</td>\n",
              "    </tr>\n",
              "    <tr>\n",
              "      <th>min</th>\n",
              "      <td>101.510000</td>\n",
              "      <td>-3.229457</td>\n",
              "      <td>34.215324</td>\n",
              "      <td>NaN</td>\n",
              "      <td>-3.328162</td>\n",
              "      <td>34.217648</td>\n",
              "      <td>NaN</td>\n",
              "      <td>-180.000000</td>\n",
              "      <td>-1.295174</td>\n",
              "      <td>34.998313</td>\n",
              "      <td>0.000000</td>\n",
              "    </tr>\n",
              "    <tr>\n",
              "      <th>25%</th>\n",
              "      <td>1634.500000</td>\n",
              "      <td>-1.248051</td>\n",
              "      <td>36.824792</td>\n",
              "      <td>NaN</td>\n",
              "      <td>-1.249770</td>\n",
              "      <td>36.824720</td>\n",
              "      <td>NaN</td>\n",
              "      <td>-53.565599</td>\n",
              "      <td>-1.040912</td>\n",
              "      <td>35.256035</td>\n",
              "      <td>0.000000</td>\n",
              "    </tr>\n",
              "    <tr>\n",
              "      <th>50%</th>\n",
              "      <td>4962.310000</td>\n",
              "      <td>-1.126192</td>\n",
              "      <td>36.995655</td>\n",
              "      <td>NaN</td>\n",
              "      <td>-1.126177</td>\n",
              "      <td>36.993961</td>\n",
              "      <td>NaN</td>\n",
              "      <td>0.000000</td>\n",
              "      <td>-1.036796</td>\n",
              "      <td>37.051986</td>\n",
              "      <td>0.000000</td>\n",
              "    </tr>\n",
              "    <tr>\n",
              "      <th>75%</th>\n",
              "      <td>11809.925000</td>\n",
              "      <td>-1.051952</td>\n",
              "      <td>37.092146</td>\n",
              "      <td>NaN</td>\n",
              "      <td>-1.051691</td>\n",
              "      <td>37.092073</td>\n",
              "      <td>NaN</td>\n",
              "      <td>0.000000</td>\n",
              "      <td>0.521471</td>\n",
              "      <td>37.072456</td>\n",
              "      <td>0.000000</td>\n",
              "    </tr>\n",
              "    <tr>\n",
              "      <th>max</th>\n",
              "      <td>342478.600000</td>\n",
              "      <td>1.256370</td>\n",
              "      <td>40.124302</td>\n",
              "      <td>NaN</td>\n",
              "      <td>1.256327</td>\n",
              "      <td>40.126652</td>\n",
              "      <td>NaN</td>\n",
              "      <td>180.000000</td>\n",
              "      <td>1.024317</td>\n",
              "      <td>37.094406</td>\n",
              "      <td>99.000000</td>\n",
              "    </tr>\n",
              "  </tbody>\n",
              "</table>\n",
              "</div>"
            ],
            "text/plain": [
              "            distance  origin_latitude  origin_longitude  origin_odometer  \\\n",
              "count    4804.000000      4804.000000       4804.000000              0.0   \n",
              "mean    11241.547325        -1.033155         36.911776              NaN   \n",
              "std     20407.447419         0.433675          0.411567              NaN   \n",
              "min       101.510000        -3.229457         34.215324              NaN   \n",
              "25%      1634.500000        -1.248051         36.824792              NaN   \n",
              "50%      4962.310000        -1.126192         36.995655              NaN   \n",
              "75%     11809.925000        -1.051952         37.092146              NaN   \n",
              "max    342478.600000         1.256370         40.124302              NaN   \n",
              "\n",
              "       destination_latitude  destination_longitude  destination_odometer  \\\n",
              "count           4804.000000            4804.000000                   0.0   \n",
              "mean              -1.033224              36.911758                   NaN   \n",
              "std                0.435225               0.411621                   NaN   \n",
              "min               -3.328162              34.217648                   NaN   \n",
              "25%               -1.249770              36.824720                   NaN   \n",
              "50%               -1.126177              36.993961                   NaN   \n",
              "75%               -1.051691              37.092073                   NaN   \n",
              "max                1.256327              40.126652                   NaN   \n",
              "\n",
              "       point_bearing  point_latitude  point_longitude  point_original_index  \n",
              "count    6703.000000     6703.000000      6703.000000           6703.000000  \n",
              "mean      -15.064304       -0.404014        36.305245              6.828883  \n",
              "std        74.698946        0.846147         0.891082             20.025799  \n",
              "min      -180.000000       -1.295174        34.998313              0.000000  \n",
              "25%       -53.565599       -1.040912        35.256035              0.000000  \n",
              "50%         0.000000       -1.036796        37.051986              0.000000  \n",
              "75%         0.000000        0.521471        37.072456              0.000000  \n",
              "max       180.000000        1.024317        37.094406             99.000000  "
            ]
          },
          "execution_count": 203,
          "metadata": {},
          "output_type": "execute_result"
        }
      ],
      "source": [
        "trips_df.describe()"
      ]
    },
    {
      "cell_type": "code",
      "execution_count": null,
      "metadata": {
        "id": "l99QmyGhdt1x",
        "outputId": "5adfb60c-c348-47cb-b415-293a19ba28fd"
      },
      "outputs": [
        {
          "data": {
            "text/html": [
              "<div>\n",
              "<style scoped>\n",
              "    .dataframe tbody tr th:only-of-type {\n",
              "        vertical-align: middle;\n",
              "    }\n",
              "\n",
              "    .dataframe tbody tr th {\n",
              "        vertical-align: top;\n",
              "    }\n",
              "\n",
              "    .dataframe thead th {\n",
              "        text-align: right;\n",
              "    }\n",
              "</style>\n",
              "<table border=\"1\" class=\"dataframe\">\n",
              "  <thead>\n",
              "    <tr style=\"text-align: right;\">\n",
              "      <th></th>\n",
              "      <th>id</th>\n",
              "      <th>created</th>\n",
              "      <th>asset_id</th>\n",
              "      <th>distance</th>\n",
              "      <th>origin_latitude</th>\n",
              "      <th>origin_longitude</th>\n",
              "      <th>origin_time_stamp</th>\n",
              "      <th>origin_address</th>\n",
              "      <th>origin_odometer</th>\n",
              "      <th>destination_latitude</th>\n",
              "      <th>destination_longitude</th>\n",
              "      <th>destination_time_stamp</th>\n",
              "      <th>destination_address</th>\n",
              "      <th>destination_odometer</th>\n",
              "      <th>point_bearing</th>\n",
              "      <th>point_latitude</th>\n",
              "      <th>point_longitude</th>\n",
              "      <th>point_original_index</th>\n",
              "      <th>point_place_id</th>\n",
              "    </tr>\n",
              "  </thead>\n",
              "  <tbody>\n",
              "    <tr>\n",
              "      <th>0</th>\n",
              "      <td>35Ldjpf</td>\n",
              "      <td>2022-03-14T17:31:51.003+00:00</td>\n",
              "      <td>0ROajub</td>\n",
              "      <td>4321.65</td>\n",
              "      <td>-1.043220</td>\n",
              "      <td>37.067928</td>\n",
              "      <td>2022-03-14T17:31:47+00:00</td>\n",
              "      <td>Thika Garissa Highway, Total, Thika, Kenya</td>\n",
              "      <td>NaN</td>\n",
              "      <td>-1.041213</td>\n",
              "      <td>37.092602</td>\n",
              "      <td>2022-03-14T17:54:07+00:00</td>\n",
              "      <td>Kenyatta Highway, Thika, Kiambu County, Kenya</td>\n",
              "      <td>NaN</td>\n",
              "      <td>0.000000</td>\n",
              "      <td>-1.040909</td>\n",
              "      <td>37.071567</td>\n",
              "      <td>0</td>\n",
              "      <td>ChIJuy2HBJJOLxgRflFygNiz0W4</td>\n",
              "    </tr>\n",
              "    <tr>\n",
              "      <th>1</th>\n",
              "      <td>agWTdy5</td>\n",
              "      <td>2023-03-07T08:53:55.607+00:00</td>\n",
              "      <td>0gMAW5w</td>\n",
              "      <td>24703.24</td>\n",
              "      <td>-1.305577</td>\n",
              "      <td>36.824627</td>\n",
              "      <td>2023-03-07T08:53:51+00:00</td>\n",
              "      <td>Nyayo Stadium, Nairobi, Kenya</td>\n",
              "      <td>NaN</td>\n",
              "      <td>-1.430601</td>\n",
              "      <td>36.687973</td>\n",
              "      <td>2023-03-07T10:13:47+00:00</td>\n",
              "      <td>Magadi Road, Kiserian, Kajiado County, Kenya</td>\n",
              "      <td>NaN</td>\n",
              "      <td>-163.431442</td>\n",
              "      <td>-1.041084</td>\n",
              "      <td>37.071515</td>\n",
              "      <td>0</td>\n",
              "      <td>ChIJuy2HBJJOLxgRflFygNiz0W4</td>\n",
              "    </tr>\n",
              "    <tr>\n",
              "      <th>2</th>\n",
              "      <td>mcXsPmo</td>\n",
              "      <td>2023-03-07T06:40:53.771+00:00</td>\n",
              "      <td>0gMAW5w</td>\n",
              "      <td>30689.27</td>\n",
              "      <td>-1.430067</td>\n",
              "      <td>36.688068</td>\n",
              "      <td>2023-03-07T06:40:48+00:00</td>\n",
              "      <td>Magadi Road, Kiserian, Kajiado County, Kenya</td>\n",
              "      <td>NaN</td>\n",
              "      <td>-1.305638</td>\n",
              "      <td>36.824879</td>\n",
              "      <td>2023-03-07T08:25:04+00:00</td>\n",
              "      <td>Nyayo Stadium, Nairobi, Kenya</td>\n",
              "      <td>NaN</td>\n",
              "      <td>0.000000</td>\n",
              "      <td>-1.041084</td>\n",
              "      <td>37.071515</td>\n",
              "      <td>1</td>\n",
              "      <td>ChIJjRl4E5JOLxgR5QYZp79nAZQ</td>\n",
              "    </tr>\n",
              "    <tr>\n",
              "      <th>3</th>\n",
              "      <td>WRBY3Lt</td>\n",
              "      <td>2023-03-07T05:12:29.007+00:00</td>\n",
              "      <td>0gMAW5w</td>\n",
              "      <td>24609.34</td>\n",
              "      <td>-1.305490</td>\n",
              "      <td>36.825317</td>\n",
              "      <td>2023-03-07T05:12:26+00:00</td>\n",
              "      <td>Nyayo Stadium, Nairobi, Kenya</td>\n",
              "      <td>NaN</td>\n",
              "      <td>-1.429965</td>\n",
              "      <td>36.688194</td>\n",
              "      <td>2023-03-07T06:29:53+00:00</td>\n",
              "      <td>Magadi Road, Kiserian, Kajiado County, Kenya</td>\n",
              "      <td>NaN</td>\n",
              "      <td>-72.222748</td>\n",
              "      <td>-1.040909</td>\n",
              "      <td>37.070972</td>\n",
              "      <td>0</td>\n",
              "      <td>ChIJjRl4E5JOLxgR5QYZp79nAZQ</td>\n",
              "    </tr>\n",
              "    <tr>\n",
              "      <th>4</th>\n",
              "      <td>1WaNBeb</td>\n",
              "      <td>2023-03-07T03:15:18.67+00:00</td>\n",
              "      <td>0gMAW5w</td>\n",
              "      <td>28395.71</td>\n",
              "      <td>-1.397144</td>\n",
              "      <td>36.759830</td>\n",
              "      <td>2023-03-07T03:15:15+00:00</td>\n",
              "      <td>Soronik Road, Nairobi, Kenya</td>\n",
              "      <td>NaN</td>\n",
              "      <td>-1.305595</td>\n",
              "      <td>36.825199</td>\n",
              "      <td>2023-03-07T04:59:31+00:00</td>\n",
              "      <td>Gandhi Avenue, Nairobi West, Nairobi, Nairobi ...</td>\n",
              "      <td>NaN</td>\n",
              "      <td>0.000000</td>\n",
              "      <td>-1.040909</td>\n",
              "      <td>37.070972</td>\n",
              "      <td>0</td>\n",
              "      <td>ChIJx5QNLpJOLxgRzW-2tUJvBuo</td>\n",
              "    </tr>\n",
              "  </tbody>\n",
              "</table>\n",
              "</div>"
            ],
            "text/plain": [
              "        id                        created asset_id  distance  origin_latitude  \\\n",
              "0  35Ldjpf  2022-03-14T17:31:51.003+00:00  0ROajub   4321.65        -1.043220   \n",
              "1  agWTdy5  2023-03-07T08:53:55.607+00:00  0gMAW5w  24703.24        -1.305577   \n",
              "2  mcXsPmo  2023-03-07T06:40:53.771+00:00  0gMAW5w  30689.27        -1.430067   \n",
              "3  WRBY3Lt  2023-03-07T05:12:29.007+00:00  0gMAW5w  24609.34        -1.305490   \n",
              "4  1WaNBeb   2023-03-07T03:15:18.67+00:00  0gMAW5w  28395.71        -1.397144   \n",
              "\n",
              "   origin_longitude          origin_time_stamp  \\\n",
              "0         37.067928  2022-03-14T17:31:47+00:00   \n",
              "1         36.824627  2023-03-07T08:53:51+00:00   \n",
              "2         36.688068  2023-03-07T06:40:48+00:00   \n",
              "3         36.825317  2023-03-07T05:12:26+00:00   \n",
              "4         36.759830  2023-03-07T03:15:15+00:00   \n",
              "\n",
              "                                 origin_address  origin_odometer  \\\n",
              "0    Thika Garissa Highway, Total, Thika, Kenya              NaN   \n",
              "1                 Nyayo Stadium, Nairobi, Kenya              NaN   \n",
              "2  Magadi Road, Kiserian, Kajiado County, Kenya              NaN   \n",
              "3                 Nyayo Stadium, Nairobi, Kenya              NaN   \n",
              "4                  Soronik Road, Nairobi, Kenya              NaN   \n",
              "\n",
              "   destination_latitude  destination_longitude     destination_time_stamp  \\\n",
              "0             -1.041213              37.092602  2022-03-14T17:54:07+00:00   \n",
              "1             -1.430601              36.687973  2023-03-07T10:13:47+00:00   \n",
              "2             -1.305638              36.824879  2023-03-07T08:25:04+00:00   \n",
              "3             -1.429965              36.688194  2023-03-07T06:29:53+00:00   \n",
              "4             -1.305595              36.825199  2023-03-07T04:59:31+00:00   \n",
              "\n",
              "                                 destination_address  destination_odometer  \\\n",
              "0      Kenyatta Highway, Thika, Kiambu County, Kenya                   NaN   \n",
              "1       Magadi Road, Kiserian, Kajiado County, Kenya                   NaN   \n",
              "2                      Nyayo Stadium, Nairobi, Kenya                   NaN   \n",
              "3       Magadi Road, Kiserian, Kajiado County, Kenya                   NaN   \n",
              "4  Gandhi Avenue, Nairobi West, Nairobi, Nairobi ...                   NaN   \n",
              "\n",
              "   point_bearing  point_latitude  point_longitude  point_original_index  \\\n",
              "0       0.000000       -1.040909        37.071567                     0   \n",
              "1    -163.431442       -1.041084        37.071515                     0   \n",
              "2       0.000000       -1.041084        37.071515                     1   \n",
              "3     -72.222748       -1.040909        37.070972                     0   \n",
              "4       0.000000       -1.040909        37.070972                     0   \n",
              "\n",
              "                point_place_id  \n",
              "0  ChIJuy2HBJJOLxgRflFygNiz0W4  \n",
              "1  ChIJuy2HBJJOLxgRflFygNiz0W4  \n",
              "2  ChIJjRl4E5JOLxgR5QYZp79nAZQ  \n",
              "3  ChIJjRl4E5JOLxgR5QYZp79nAZQ  \n",
              "4  ChIJx5QNLpJOLxgRzW-2tUJvBuo  "
            ]
          },
          "execution_count": 204,
          "metadata": {},
          "output_type": "execute_result"
        }
      ],
      "source": [
        "trips_df.head()"
      ]
    },
    {
      "cell_type": "code",
      "execution_count": null,
      "metadata": {
        "id": "qthHv_COdt1x",
        "outputId": "6a443016-734b-4b1e-cce3-a5ab75800658"
      },
      "outputs": [
        {
          "data": {
            "text/html": [
              "<div>\n",
              "<style scoped>\n",
              "    .dataframe tbody tr th:only-of-type {\n",
              "        vertical-align: middle;\n",
              "    }\n",
              "\n",
              "    .dataframe tbody tr th {\n",
              "        vertical-align: top;\n",
              "    }\n",
              "\n",
              "    .dataframe thead th {\n",
              "        text-align: right;\n",
              "    }\n",
              "</style>\n",
              "<table border=\"1\" class=\"dataframe\">\n",
              "  <thead>\n",
              "    <tr style=\"text-align: right;\">\n",
              "      <th></th>\n",
              "      <th>id</th>\n",
              "      <th>created</th>\n",
              "      <th>asset_id</th>\n",
              "      <th>distance</th>\n",
              "      <th>origin_latitude</th>\n",
              "      <th>origin_longitude</th>\n",
              "      <th>origin_time_stamp</th>\n",
              "      <th>origin_address</th>\n",
              "      <th>origin_odometer</th>\n",
              "      <th>destination_latitude</th>\n",
              "      <th>destination_longitude</th>\n",
              "      <th>destination_time_stamp</th>\n",
              "      <th>destination_address</th>\n",
              "      <th>destination_odometer</th>\n",
              "      <th>point_bearing</th>\n",
              "      <th>point_latitude</th>\n",
              "      <th>point_longitude</th>\n",
              "      <th>point_original_index</th>\n",
              "      <th>point_place_id</th>\n",
              "    </tr>\n",
              "  </thead>\n",
              "  <tbody>\n",
              "    <tr>\n",
              "      <th>6698</th>\n",
              "      <td>NaN</td>\n",
              "      <td>NaN</td>\n",
              "      <td>NaN</td>\n",
              "      <td>NaN</td>\n",
              "      <td>NaN</td>\n",
              "      <td>NaN</td>\n",
              "      <td>NaN</td>\n",
              "      <td>NaN</td>\n",
              "      <td>NaN</td>\n",
              "      <td>NaN</td>\n",
              "      <td>NaN</td>\n",
              "      <td>NaN</td>\n",
              "      <td>NaN</td>\n",
              "      <td>NaN</td>\n",
              "      <td>138.326052</td>\n",
              "      <td>-1.289222</td>\n",
              "      <td>36.791666</td>\n",
              "      <td>0</td>\n",
              "      <td>ChIJs_apPKUQLxgRFj_nEgRciEw</td>\n",
              "    </tr>\n",
              "    <tr>\n",
              "      <th>6699</th>\n",
              "      <td>NaN</td>\n",
              "      <td>NaN</td>\n",
              "      <td>NaN</td>\n",
              "      <td>NaN</td>\n",
              "      <td>NaN</td>\n",
              "      <td>NaN</td>\n",
              "      <td>NaN</td>\n",
              "      <td>NaN</td>\n",
              "      <td>NaN</td>\n",
              "      <td>NaN</td>\n",
              "      <td>NaN</td>\n",
              "      <td>NaN</td>\n",
              "      <td>NaN</td>\n",
              "      <td>NaN</td>\n",
              "      <td>167.738238</td>\n",
              "      <td>-1.289234</td>\n",
              "      <td>36.791669</td>\n",
              "      <td>41</td>\n",
              "      <td>ChIJs_apPKUQLxgRFj_nEgRciEw</td>\n",
              "    </tr>\n",
              "    <tr>\n",
              "      <th>6700</th>\n",
              "      <td>NaN</td>\n",
              "      <td>NaN</td>\n",
              "      <td>NaN</td>\n",
              "      <td>NaN</td>\n",
              "      <td>NaN</td>\n",
              "      <td>NaN</td>\n",
              "      <td>NaN</td>\n",
              "      <td>NaN</td>\n",
              "      <td>NaN</td>\n",
              "      <td>NaN</td>\n",
              "      <td>NaN</td>\n",
              "      <td>NaN</td>\n",
              "      <td>NaN</td>\n",
              "      <td>NaN</td>\n",
              "      <td>167.738238</td>\n",
              "      <td>-1.289438</td>\n",
              "      <td>36.791713</td>\n",
              "      <td>0</td>\n",
              "      <td>ChIJs_apPKUQLxgRFj_nEgRciEw</td>\n",
              "    </tr>\n",
              "    <tr>\n",
              "      <th>6701</th>\n",
              "      <td>NaN</td>\n",
              "      <td>NaN</td>\n",
              "      <td>NaN</td>\n",
              "      <td>NaN</td>\n",
              "      <td>NaN</td>\n",
              "      <td>NaN</td>\n",
              "      <td>NaN</td>\n",
              "      <td>NaN</td>\n",
              "      <td>NaN</td>\n",
              "      <td>NaN</td>\n",
              "      <td>NaN</td>\n",
              "      <td>NaN</td>\n",
              "      <td>NaN</td>\n",
              "      <td>NaN</td>\n",
              "      <td>-144.286924</td>\n",
              "      <td>-1.289483</td>\n",
              "      <td>36.791681</td>\n",
              "      <td>0</td>\n",
              "      <td>ChIJs_apPKUQLxgRFj_nEgRciEw</td>\n",
              "    </tr>\n",
              "    <tr>\n",
              "      <th>6702</th>\n",
              "      <td>NaN</td>\n",
              "      <td>NaN</td>\n",
              "      <td>NaN</td>\n",
              "      <td>NaN</td>\n",
              "      <td>NaN</td>\n",
              "      <td>NaN</td>\n",
              "      <td>NaN</td>\n",
              "      <td>NaN</td>\n",
              "      <td>NaN</td>\n",
              "      <td>NaN</td>\n",
              "      <td>NaN</td>\n",
              "      <td>NaN</td>\n",
              "      <td>NaN</td>\n",
              "      <td>NaN</td>\n",
              "      <td>-93.347666</td>\n",
              "      <td>-1.289484</td>\n",
              "      <td>36.791662</td>\n",
              "      <td>42</td>\n",
              "      <td>ChIJs_apPKUQLxgRFj_nEgRciEw</td>\n",
              "    </tr>\n",
              "  </tbody>\n",
              "</table>\n",
              "</div>"
            ],
            "text/plain": [
              "       id created asset_id  distance  origin_latitude  origin_longitude  \\\n",
              "6698  NaN     NaN      NaN       NaN              NaN               NaN   \n",
              "6699  NaN     NaN      NaN       NaN              NaN               NaN   \n",
              "6700  NaN     NaN      NaN       NaN              NaN               NaN   \n",
              "6701  NaN     NaN      NaN       NaN              NaN               NaN   \n",
              "6702  NaN     NaN      NaN       NaN              NaN               NaN   \n",
              "\n",
              "     origin_time_stamp origin_address  origin_odometer  destination_latitude  \\\n",
              "6698               NaN            NaN              NaN                   NaN   \n",
              "6699               NaN            NaN              NaN                   NaN   \n",
              "6700               NaN            NaN              NaN                   NaN   \n",
              "6701               NaN            NaN              NaN                   NaN   \n",
              "6702               NaN            NaN              NaN                   NaN   \n",
              "\n",
              "      destination_longitude destination_time_stamp destination_address  \\\n",
              "6698                    NaN                    NaN                 NaN   \n",
              "6699                    NaN                    NaN                 NaN   \n",
              "6700                    NaN                    NaN                 NaN   \n",
              "6701                    NaN                    NaN                 NaN   \n",
              "6702                    NaN                    NaN                 NaN   \n",
              "\n",
              "      destination_odometer  point_bearing  point_latitude  point_longitude  \\\n",
              "6698                   NaN     138.326052       -1.289222        36.791666   \n",
              "6699                   NaN     167.738238       -1.289234        36.791669   \n",
              "6700                   NaN     167.738238       -1.289438        36.791713   \n",
              "6701                   NaN    -144.286924       -1.289483        36.791681   \n",
              "6702                   NaN     -93.347666       -1.289484        36.791662   \n",
              "\n",
              "      point_original_index               point_place_id  \n",
              "6698                     0  ChIJs_apPKUQLxgRFj_nEgRciEw  \n",
              "6699                    41  ChIJs_apPKUQLxgRFj_nEgRciEw  \n",
              "6700                     0  ChIJs_apPKUQLxgRFj_nEgRciEw  \n",
              "6701                     0  ChIJs_apPKUQLxgRFj_nEgRciEw  \n",
              "6702                    42  ChIJs_apPKUQLxgRFj_nEgRciEw  "
            ]
          },
          "execution_count": 205,
          "metadata": {},
          "output_type": "execute_result"
        }
      ],
      "source": [
        "trips_df.tail()"
      ]
    },
    {
      "cell_type": "code",
      "execution_count": null,
      "metadata": {
        "id": "o_5FD7yBdt1x",
        "outputId": "625ccd53-3b13-43cb-ce0b-97ad8c8466d9"
      },
      "outputs": [
        {
          "data": {
            "text/plain": [
              "id                         object\n",
              "created                    object\n",
              "asset_id                   object\n",
              "distance                  float64\n",
              "origin_latitude           float64\n",
              "origin_longitude          float64\n",
              "origin_time_stamp          object\n",
              "origin_address             object\n",
              "origin_odometer           float64\n",
              "destination_latitude      float64\n",
              "destination_longitude     float64\n",
              "destination_time_stamp     object\n",
              "destination_address        object\n",
              "destination_odometer      float64\n",
              "point_bearing             float64\n",
              "point_latitude            float64\n",
              "point_longitude           float64\n",
              "point_original_index        int64\n",
              "point_place_id             object\n",
              "dtype: object"
            ]
          },
          "execution_count": 206,
          "metadata": {},
          "output_type": "execute_result"
        }
      ],
      "source": [
        "trips_df.dtypes"
      ]
    },
    {
      "cell_type": "code",
      "execution_count": null,
      "metadata": {
        "id": "-XbUAAVZdt1y",
        "outputId": "a9a1c56c-4629-4e79-8d69-6e8c611e9214"
      },
      "outputs": [
        {
          "data": {
            "text/plain": [
              "Index(['id', 'created', 'asset_id', 'distance', 'origin_latitude',\n",
              "       'origin_longitude', 'origin_time_stamp', 'origin_address',\n",
              "       'origin_odometer', 'destination_latitude', 'destination_longitude',\n",
              "       'destination_time_stamp', 'destination_address', 'destination_odometer',\n",
              "       'point_bearing', 'point_latitude', 'point_longitude',\n",
              "       'point_original_index', 'point_place_id'],\n",
              "      dtype='object')"
            ]
          },
          "execution_count": 207,
          "metadata": {},
          "output_type": "execute_result"
        }
      ],
      "source": [
        "trips_df.columns"
      ]
    },
    {
      "cell_type": "code",
      "execution_count": null,
      "metadata": {
        "id": "gxjCX15_dt1y",
        "outputId": "cfd03ebb-6968-4821-ad1c-b8f283e09120"
      },
      "outputs": [
        {
          "data": {
            "text/plain": [
              "id                        1899\n",
              "created                   1899\n",
              "asset_id                  1899\n",
              "distance                  1899\n",
              "origin_latitude           1899\n",
              "origin_longitude          1899\n",
              "origin_time_stamp         1899\n",
              "origin_address            1900\n",
              "origin_odometer           6703\n",
              "destination_latitude      1899\n",
              "destination_longitude     1899\n",
              "destination_time_stamp    1899\n",
              "destination_address       1900\n",
              "destination_odometer      6703\n",
              "point_bearing                0\n",
              "point_latitude               0\n",
              "point_longitude              0\n",
              "point_original_index         0\n",
              "point_place_id               0\n",
              "dtype: int64"
            ]
          },
          "execution_count": 208,
          "metadata": {},
          "output_type": "execute_result"
        }
      ],
      "source": [
        "trips_df.isna().sum()"
      ]
    },
    {
      "cell_type": "code",
      "execution_count": null,
      "metadata": {
        "id": "hZTBJFOPdt1z",
        "outputId": "0e16aa42-212a-4a0c-aa51-83c9ac3fe5bf"
      },
      "outputs": [
        {
          "data": {
            "text/plain": [
              "id                        4804\n",
              "created                   4804\n",
              "asset_id                    34\n",
              "distance                  4800\n",
              "origin_latitude           4571\n",
              "origin_longitude          4168\n",
              "origin_time_stamp         4803\n",
              "origin_address            1136\n",
              "origin_odometer              0\n",
              "destination_latitude      4517\n",
              "destination_longitude     3972\n",
              "destination_time_stamp    4803\n",
              "destination_address       1021\n",
              "destination_odometer         0\n",
              "point_bearing             4087\n",
              "point_latitude            3636\n",
              "point_longitude           3639\n",
              "point_original_index       100\n",
              "point_place_id            1417\n",
              "dtype: int64"
            ]
          },
          "execution_count": 209,
          "metadata": {},
          "output_type": "execute_result"
        }
      ],
      "source": [
        "trips_df.nunique()"
      ]
    },
    {
      "cell_type": "code",
      "execution_count": null,
      "metadata": {
        "id": "TBVAIrOSdt1z"
      },
      "outputs": [],
      "source": [
        "# drop the columns whose entire column is null\n",
        "trips_df.dropna(axis=1, how='all',inplace=True)\n",
        "#limit the df to only the first 404 rows\n",
        "trips_df = trips_df.iloc[:4804, :]"
      ]
    },
    {
      "cell_type": "code",
      "execution_count": null,
      "metadata": {
        "id": "453CssV_dt10",
        "outputId": "22c8aec1-a45b-4df4-f784-701ffe0e08be"
      },
      "outputs": [
        {
          "data": {
            "text/html": [
              "<div>\n",
              "<style scoped>\n",
              "    .dataframe tbody tr th:only-of-type {\n",
              "        vertical-align: middle;\n",
              "    }\n",
              "\n",
              "    .dataframe tbody tr th {\n",
              "        vertical-align: top;\n",
              "    }\n",
              "\n",
              "    .dataframe thead th {\n",
              "        text-align: right;\n",
              "    }\n",
              "</style>\n",
              "<table border=\"1\" class=\"dataframe\">\n",
              "  <thead>\n",
              "    <tr style=\"text-align: right;\">\n",
              "      <th></th>\n",
              "      <th>distance</th>\n",
              "      <th>origin_latitude</th>\n",
              "      <th>origin_longitude</th>\n",
              "      <th>destination_latitude</th>\n",
              "      <th>destination_longitude</th>\n",
              "      <th>point_bearing</th>\n",
              "      <th>point_latitude</th>\n",
              "      <th>point_longitude</th>\n",
              "      <th>point_original_index</th>\n",
              "    </tr>\n",
              "  </thead>\n",
              "  <tbody>\n",
              "    <tr>\n",
              "      <th>count</th>\n",
              "      <td>4804.000000</td>\n",
              "      <td>4804.000000</td>\n",
              "      <td>4804.000000</td>\n",
              "      <td>4804.000000</td>\n",
              "      <td>4804.000000</td>\n",
              "      <td>4804.000000</td>\n",
              "      <td>4804.000000</td>\n",
              "      <td>4804.000000</td>\n",
              "      <td>4804.000000</td>\n",
              "    </tr>\n",
              "    <tr>\n",
              "      <th>mean</th>\n",
              "      <td>11241.547325</td>\n",
              "      <td>-1.033155</td>\n",
              "      <td>36.911776</td>\n",
              "      <td>-1.033224</td>\n",
              "      <td>36.911758</td>\n",
              "      <td>-14.537114</td>\n",
              "      <td>-0.606175</td>\n",
              "      <td>36.551507</td>\n",
              "      <td>6.269567</td>\n",
              "    </tr>\n",
              "    <tr>\n",
              "      <th>std</th>\n",
              "      <td>20407.447419</td>\n",
              "      <td>0.433675</td>\n",
              "      <td>0.411567</td>\n",
              "      <td>0.435225</td>\n",
              "      <td>0.411621</td>\n",
              "      <td>79.101301</td>\n",
              "      <td>0.670575</td>\n",
              "      <td>0.801935</td>\n",
              "      <td>19.300811</td>\n",
              "    </tr>\n",
              "    <tr>\n",
              "      <th>min</th>\n",
              "      <td>101.510000</td>\n",
              "      <td>-3.229457</td>\n",
              "      <td>34.215324</td>\n",
              "      <td>-3.328162</td>\n",
              "      <td>34.217648</td>\n",
              "      <td>-179.798972</td>\n",
              "      <td>-1.049888</td>\n",
              "      <td>35.196382</td>\n",
              "      <td>0.000000</td>\n",
              "    </tr>\n",
              "    <tr>\n",
              "      <th>25%</th>\n",
              "      <td>1634.500000</td>\n",
              "      <td>-1.248051</td>\n",
              "      <td>36.824792</td>\n",
              "      <td>-1.249770</td>\n",
              "      <td>36.824720</td>\n",
              "      <td>-64.649903</td>\n",
              "      <td>-1.040346</td>\n",
              "      <td>35.436866</td>\n",
              "      <td>0.000000</td>\n",
              "    </tr>\n",
              "    <tr>\n",
              "      <th>50%</th>\n",
              "      <td>4962.310000</td>\n",
              "      <td>-1.126192</td>\n",
              "      <td>36.995655</td>\n",
              "      <td>-1.126177</td>\n",
              "      <td>36.993961</td>\n",
              "      <td>0.000000</td>\n",
              "      <td>-1.037347</td>\n",
              "      <td>37.068690</td>\n",
              "      <td>0.000000</td>\n",
              "    </tr>\n",
              "    <tr>\n",
              "      <th>75%</th>\n",
              "      <td>11809.925000</td>\n",
              "      <td>-1.051952</td>\n",
              "      <td>37.092146</td>\n",
              "      <td>-1.051691</td>\n",
              "      <td>37.092073</td>\n",
              "      <td>7.810997</td>\n",
              "      <td>0.211168</td>\n",
              "      <td>37.074455</td>\n",
              "      <td>0.000000</td>\n",
              "    </tr>\n",
              "    <tr>\n",
              "      <th>max</th>\n",
              "      <td>342478.600000</td>\n",
              "      <td>1.256370</td>\n",
              "      <td>40.124302</td>\n",
              "      <td>1.256327</td>\n",
              "      <td>40.126652</td>\n",
              "      <td>180.000000</td>\n",
              "      <td>0.609576</td>\n",
              "      <td>37.094406</td>\n",
              "      <td>99.000000</td>\n",
              "    </tr>\n",
              "  </tbody>\n",
              "</table>\n",
              "</div>"
            ],
            "text/plain": [
              "            distance  origin_latitude  origin_longitude  destination_latitude  \\\n",
              "count    4804.000000      4804.000000       4804.000000           4804.000000   \n",
              "mean    11241.547325        -1.033155         36.911776             -1.033224   \n",
              "std     20407.447419         0.433675          0.411567              0.435225   \n",
              "min       101.510000        -3.229457         34.215324             -3.328162   \n",
              "25%      1634.500000        -1.248051         36.824792             -1.249770   \n",
              "50%      4962.310000        -1.126192         36.995655             -1.126177   \n",
              "75%     11809.925000        -1.051952         37.092146             -1.051691   \n",
              "max    342478.600000         1.256370         40.124302              1.256327   \n",
              "\n",
              "       destination_longitude  point_bearing  point_latitude  point_longitude  \\\n",
              "count            4804.000000    4804.000000     4804.000000      4804.000000   \n",
              "mean               36.911758     -14.537114       -0.606175        36.551507   \n",
              "std                 0.411621      79.101301        0.670575         0.801935   \n",
              "min                34.217648    -179.798972       -1.049888        35.196382   \n",
              "25%                36.824720     -64.649903       -1.040346        35.436866   \n",
              "50%                36.993961       0.000000       -1.037347        37.068690   \n",
              "75%                37.092073       7.810997        0.211168        37.074455   \n",
              "max                40.126652     180.000000        0.609576        37.094406   \n",
              "\n",
              "       point_original_index  \n",
              "count           4804.000000  \n",
              "mean               6.269567  \n",
              "std               19.300811  \n",
              "min                0.000000  \n",
              "25%                0.000000  \n",
              "50%                0.000000  \n",
              "75%                0.000000  \n",
              "max               99.000000  "
            ]
          },
          "execution_count": 211,
          "metadata": {},
          "output_type": "execute_result"
        }
      ],
      "source": [
        "trips_df.describe()"
      ]
    },
    {
      "cell_type": "code",
      "execution_count": null,
      "metadata": {
        "id": "zecIbahQdt10",
        "outputId": "5bcb90ab-f84a-4ee1-d706-2f26180217c5"
      },
      "outputs": [
        {
          "data": {
            "text/plain": [
              "id                        0\n",
              "created                   0\n",
              "asset_id                  0\n",
              "distance                  0\n",
              "origin_latitude           0\n",
              "origin_longitude          0\n",
              "origin_time_stamp         0\n",
              "origin_address            1\n",
              "destination_latitude      0\n",
              "destination_longitude     0\n",
              "destination_time_stamp    0\n",
              "destination_address       1\n",
              "point_bearing             0\n",
              "point_latitude            0\n",
              "point_longitude           0\n",
              "point_original_index      0\n",
              "point_place_id            0\n",
              "dtype: int64"
            ]
          },
          "execution_count": 212,
          "metadata": {},
          "output_type": "execute_result"
        }
      ],
      "source": [
        "trips_df.isnull().sum()"
      ]
    },
    {
      "cell_type": "code",
      "execution_count": null,
      "metadata": {
        "id": "p8ORq-uddt11",
        "outputId": "adb906a8-139c-4f72-a10e-9aa78acfd267"
      },
      "outputs": [
        {
          "data": {
            "text/html": [
              "<div>\n",
              "<style scoped>\n",
              "    .dataframe tbody tr th:only-of-type {\n",
              "        vertical-align: middle;\n",
              "    }\n",
              "\n",
              "    .dataframe tbody tr th {\n",
              "        vertical-align: top;\n",
              "    }\n",
              "\n",
              "    .dataframe thead th {\n",
              "        text-align: right;\n",
              "    }\n",
              "</style>\n",
              "<table border=\"1\" class=\"dataframe\">\n",
              "  <thead>\n",
              "    <tr style=\"text-align: right;\">\n",
              "      <th></th>\n",
              "      <th>id</th>\n",
              "      <th>created</th>\n",
              "      <th>asset_id</th>\n",
              "      <th>distance</th>\n",
              "      <th>origin_latitude</th>\n",
              "      <th>origin_longitude</th>\n",
              "      <th>origin_time_stamp</th>\n",
              "      <th>origin_address</th>\n",
              "      <th>destination_latitude</th>\n",
              "      <th>destination_longitude</th>\n",
              "      <th>destination_time_stamp</th>\n",
              "      <th>destination_address</th>\n",
              "      <th>point_bearing</th>\n",
              "      <th>point_latitude</th>\n",
              "      <th>point_longitude</th>\n",
              "      <th>point_original_index</th>\n",
              "      <th>point_place_id</th>\n",
              "    </tr>\n",
              "  </thead>\n",
              "  <tbody>\n",
              "    <tr>\n",
              "      <th>922</th>\n",
              "      <td>v0Wgz5c</td>\n",
              "      <td>2022-11-06T01:11:56.532+00:00</td>\n",
              "      <td>QRmYjfT</td>\n",
              "      <td>862.05</td>\n",
              "      <td>-1.18568</td>\n",
              "      <td>36.744983</td>\n",
              "      <td>2022-11-06T01:11:50+00:00</td>\n",
              "      <td>NaN</td>\n",
              "      <td>-1.185388</td>\n",
              "      <td>36.748775</td>\n",
              "      <td>2022-11-06T01:16:28+00:00</td>\n",
              "      <td>NaN</td>\n",
              "      <td>0.0</td>\n",
              "      <td>-1.035254</td>\n",
              "      <td>37.075637</td>\n",
              "      <td>0</td>\n",
              "      <td>ChIJI7NjvYVOLxgRfpELFek-IkY</td>\n",
              "    </tr>\n",
              "  </tbody>\n",
              "</table>\n",
              "</div>"
            ],
            "text/plain": [
              "          id                        created asset_id  distance  \\\n",
              "922  v0Wgz5c  2022-11-06T01:11:56.532+00:00  QRmYjfT    862.05   \n",
              "\n",
              "     origin_latitude  origin_longitude          origin_time_stamp  \\\n",
              "922         -1.18568         36.744983  2022-11-06T01:11:50+00:00   \n",
              "\n",
              "    origin_address  destination_latitude  destination_longitude  \\\n",
              "922            NaN             -1.185388              36.748775   \n",
              "\n",
              "        destination_time_stamp destination_address  point_bearing  \\\n",
              "922  2022-11-06T01:16:28+00:00                 NaN            0.0   \n",
              "\n",
              "     point_latitude  point_longitude  point_original_index  \\\n",
              "922       -1.035254        37.075637                     0   \n",
              "\n",
              "                  point_place_id  \n",
              "922  ChIJI7NjvYVOLxgRfpELFek-IkY  "
            ]
          },
          "execution_count": 213,
          "metadata": {},
          "output_type": "execute_result"
        }
      ],
      "source": [
        "#The resulting df contains only the rows where at least one of the values in these columns is null.\n",
        "trips_df[trips_df['origin_address'].isnull() | trips_df['destination_address'].isnull()]"
      ]
    },
    {
      "cell_type": "code",
      "execution_count": null,
      "metadata": {
        "id": "cB7XIPAWdt11"
      },
      "outputs": [],
      "source": [
        "trips_df.dropna(subset=['origin_address', 'destination_address'], inplace=True)"
      ]
    },
    {
      "cell_type": "code",
      "execution_count": null,
      "metadata": {
        "id": "Rno4lYMBdt11",
        "outputId": "ed5ef03e-eea9-47e8-f748-917b1ba35eee"
      },
      "outputs": [
        {
          "data": {
            "text/plain": [
              "id                        0\n",
              "created                   0\n",
              "asset_id                  0\n",
              "distance                  0\n",
              "origin_latitude           0\n",
              "origin_longitude          0\n",
              "origin_time_stamp         0\n",
              "origin_address            0\n",
              "destination_latitude      0\n",
              "destination_longitude     0\n",
              "destination_time_stamp    0\n",
              "destination_address       0\n",
              "point_bearing             0\n",
              "point_latitude            0\n",
              "point_longitude           0\n",
              "point_original_index      0\n",
              "point_place_id            0\n",
              "dtype: int64"
            ]
          },
          "execution_count": 215,
          "metadata": {},
          "output_type": "execute_result"
        }
      ],
      "source": [
        "trips_df.isnull().sum()"
      ]
    },
    {
      "cell_type": "markdown",
      "metadata": {
        "id": "0KZlmLnYdt12"
      },
      "source": [
        "## Util\n",
        "1. This function converts the timestamps in the dataframe to a standard format.\n",
        "- The columns with timestamps include:\n",
        "   - created\n",
        "   - destination_timestamp\n",
        "   - origin_timestamp\n",
        "- Creating a copy of the original dataframe before modifying it avoids accidentally modifying the original data.   \n",
        "- The function returns a new dataframe with the changed formats\n",
        "   "
      ]
    },
    {
      "cell_type": "code",
      "execution_count": null,
      "metadata": {
        "id": "d6wAZnGkdt12"
      },
      "outputs": [],
      "source": [
        "def convert_time(columns:list[str]):\n",
        "    trips_df_copy1 = trips_df.copy()\n",
        "    for column in columns:\n",
        "        trips_df_copy1[column] = pd.to_datetime(trips_df_copy1[column])\n",
        "    return trips_df_copy1    "
      ]
    },
    {
      "cell_type": "code",
      "execution_count": null,
      "metadata": {
        "id": "emY5Pihrdt13"
      },
      "outputs": [],
      "source": [
        "trips_df = convert_time(columns=['created', 'origin_time_stamp','destination_time_stamp' ])"
      ]
    },
    {
      "cell_type": "code",
      "execution_count": null,
      "metadata": {
        "id": "iThb2EfOdt14",
        "outputId": "68e4e2f8-6d99-4239-aeed-ca0441324b99"
      },
      "outputs": [
        {
          "data": {
            "text/html": [
              "<div>\n",
              "<style scoped>\n",
              "    .dataframe tbody tr th:only-of-type {\n",
              "        vertical-align: middle;\n",
              "    }\n",
              "\n",
              "    .dataframe tbody tr th {\n",
              "        vertical-align: top;\n",
              "    }\n",
              "\n",
              "    .dataframe thead th {\n",
              "        text-align: right;\n",
              "    }\n",
              "</style>\n",
              "<table border=\"1\" class=\"dataframe\">\n",
              "  <thead>\n",
              "    <tr style=\"text-align: right;\">\n",
              "      <th></th>\n",
              "      <th>id</th>\n",
              "      <th>created</th>\n",
              "      <th>asset_id</th>\n",
              "      <th>distance</th>\n",
              "      <th>origin_latitude</th>\n",
              "      <th>origin_longitude</th>\n",
              "      <th>origin_time_stamp</th>\n",
              "      <th>origin_address</th>\n",
              "      <th>destination_latitude</th>\n",
              "      <th>destination_longitude</th>\n",
              "      <th>destination_time_stamp</th>\n",
              "      <th>destination_address</th>\n",
              "      <th>point_bearing</th>\n",
              "      <th>point_latitude</th>\n",
              "      <th>point_longitude</th>\n",
              "      <th>point_original_index</th>\n",
              "      <th>point_place_id</th>\n",
              "    </tr>\n",
              "  </thead>\n",
              "  <tbody>\n",
              "    <tr>\n",
              "      <th>0</th>\n",
              "      <td>35Ldjpf</td>\n",
              "      <td>2022-03-14 17:31:51.003000+00:00</td>\n",
              "      <td>0ROajub</td>\n",
              "      <td>4321.65</td>\n",
              "      <td>-1.043220</td>\n",
              "      <td>37.067928</td>\n",
              "      <td>2022-03-14 17:31:47+00:00</td>\n",
              "      <td>Thika Garissa Highway, Total, Thika, Kenya</td>\n",
              "      <td>-1.041213</td>\n",
              "      <td>37.092602</td>\n",
              "      <td>2022-03-14 17:54:07+00:00</td>\n",
              "      <td>Kenyatta Highway, Thika, Kiambu County, Kenya</td>\n",
              "      <td>0.000000</td>\n",
              "      <td>-1.040909</td>\n",
              "      <td>37.071567</td>\n",
              "      <td>0</td>\n",
              "      <td>ChIJuy2HBJJOLxgRflFygNiz0W4</td>\n",
              "    </tr>\n",
              "    <tr>\n",
              "      <th>1</th>\n",
              "      <td>agWTdy5</td>\n",
              "      <td>2023-03-07 08:53:55.607000+00:00</td>\n",
              "      <td>0gMAW5w</td>\n",
              "      <td>24703.24</td>\n",
              "      <td>-1.305577</td>\n",
              "      <td>36.824627</td>\n",
              "      <td>2023-03-07 08:53:51+00:00</td>\n",
              "      <td>Nyayo Stadium, Nairobi, Kenya</td>\n",
              "      <td>-1.430601</td>\n",
              "      <td>36.687973</td>\n",
              "      <td>2023-03-07 10:13:47+00:00</td>\n",
              "      <td>Magadi Road, Kiserian, Kajiado County, Kenya</td>\n",
              "      <td>-163.431442</td>\n",
              "      <td>-1.041084</td>\n",
              "      <td>37.071515</td>\n",
              "      <td>0</td>\n",
              "      <td>ChIJuy2HBJJOLxgRflFygNiz0W4</td>\n",
              "    </tr>\n",
              "    <tr>\n",
              "      <th>2</th>\n",
              "      <td>mcXsPmo</td>\n",
              "      <td>2023-03-07 06:40:53.771000+00:00</td>\n",
              "      <td>0gMAW5w</td>\n",
              "      <td>30689.27</td>\n",
              "      <td>-1.430067</td>\n",
              "      <td>36.688068</td>\n",
              "      <td>2023-03-07 06:40:48+00:00</td>\n",
              "      <td>Magadi Road, Kiserian, Kajiado County, Kenya</td>\n",
              "      <td>-1.305638</td>\n",
              "      <td>36.824879</td>\n",
              "      <td>2023-03-07 08:25:04+00:00</td>\n",
              "      <td>Nyayo Stadium, Nairobi, Kenya</td>\n",
              "      <td>0.000000</td>\n",
              "      <td>-1.041084</td>\n",
              "      <td>37.071515</td>\n",
              "      <td>1</td>\n",
              "      <td>ChIJjRl4E5JOLxgR5QYZp79nAZQ</td>\n",
              "    </tr>\n",
              "    <tr>\n",
              "      <th>3</th>\n",
              "      <td>WRBY3Lt</td>\n",
              "      <td>2023-03-07 05:12:29.007000+00:00</td>\n",
              "      <td>0gMAW5w</td>\n",
              "      <td>24609.34</td>\n",
              "      <td>-1.305490</td>\n",
              "      <td>36.825317</td>\n",
              "      <td>2023-03-07 05:12:26+00:00</td>\n",
              "      <td>Nyayo Stadium, Nairobi, Kenya</td>\n",
              "      <td>-1.429965</td>\n",
              "      <td>36.688194</td>\n",
              "      <td>2023-03-07 06:29:53+00:00</td>\n",
              "      <td>Magadi Road, Kiserian, Kajiado County, Kenya</td>\n",
              "      <td>-72.222748</td>\n",
              "      <td>-1.040909</td>\n",
              "      <td>37.070972</td>\n",
              "      <td>0</td>\n",
              "      <td>ChIJjRl4E5JOLxgR5QYZp79nAZQ</td>\n",
              "    </tr>\n",
              "    <tr>\n",
              "      <th>4</th>\n",
              "      <td>1WaNBeb</td>\n",
              "      <td>2023-03-07 03:15:18.670000+00:00</td>\n",
              "      <td>0gMAW5w</td>\n",
              "      <td>28395.71</td>\n",
              "      <td>-1.397144</td>\n",
              "      <td>36.759830</td>\n",
              "      <td>2023-03-07 03:15:15+00:00</td>\n",
              "      <td>Soronik Road, Nairobi, Kenya</td>\n",
              "      <td>-1.305595</td>\n",
              "      <td>36.825199</td>\n",
              "      <td>2023-03-07 04:59:31+00:00</td>\n",
              "      <td>Gandhi Avenue, Nairobi West, Nairobi, Nairobi ...</td>\n",
              "      <td>0.000000</td>\n",
              "      <td>-1.040909</td>\n",
              "      <td>37.070972</td>\n",
              "      <td>0</td>\n",
              "      <td>ChIJx5QNLpJOLxgRzW-2tUJvBuo</td>\n",
              "    </tr>\n",
              "  </tbody>\n",
              "</table>\n",
              "</div>"
            ],
            "text/plain": [
              "        id                          created asset_id  distance  \\\n",
              "0  35Ldjpf 2022-03-14 17:31:51.003000+00:00  0ROajub   4321.65   \n",
              "1  agWTdy5 2023-03-07 08:53:55.607000+00:00  0gMAW5w  24703.24   \n",
              "2  mcXsPmo 2023-03-07 06:40:53.771000+00:00  0gMAW5w  30689.27   \n",
              "3  WRBY3Lt 2023-03-07 05:12:29.007000+00:00  0gMAW5w  24609.34   \n",
              "4  1WaNBeb 2023-03-07 03:15:18.670000+00:00  0gMAW5w  28395.71   \n",
              "\n",
              "   origin_latitude  origin_longitude         origin_time_stamp  \\\n",
              "0        -1.043220         37.067928 2022-03-14 17:31:47+00:00   \n",
              "1        -1.305577         36.824627 2023-03-07 08:53:51+00:00   \n",
              "2        -1.430067         36.688068 2023-03-07 06:40:48+00:00   \n",
              "3        -1.305490         36.825317 2023-03-07 05:12:26+00:00   \n",
              "4        -1.397144         36.759830 2023-03-07 03:15:15+00:00   \n",
              "\n",
              "                                 origin_address  destination_latitude  \\\n",
              "0    Thika Garissa Highway, Total, Thika, Kenya             -1.041213   \n",
              "1                 Nyayo Stadium, Nairobi, Kenya             -1.430601   \n",
              "2  Magadi Road, Kiserian, Kajiado County, Kenya             -1.305638   \n",
              "3                 Nyayo Stadium, Nairobi, Kenya             -1.429965   \n",
              "4                  Soronik Road, Nairobi, Kenya             -1.305595   \n",
              "\n",
              "   destination_longitude    destination_time_stamp  \\\n",
              "0              37.092602 2022-03-14 17:54:07+00:00   \n",
              "1              36.687973 2023-03-07 10:13:47+00:00   \n",
              "2              36.824879 2023-03-07 08:25:04+00:00   \n",
              "3              36.688194 2023-03-07 06:29:53+00:00   \n",
              "4              36.825199 2023-03-07 04:59:31+00:00   \n",
              "\n",
              "                                 destination_address  point_bearing  \\\n",
              "0      Kenyatta Highway, Thika, Kiambu County, Kenya       0.000000   \n",
              "1       Magadi Road, Kiserian, Kajiado County, Kenya    -163.431442   \n",
              "2                      Nyayo Stadium, Nairobi, Kenya       0.000000   \n",
              "3       Magadi Road, Kiserian, Kajiado County, Kenya     -72.222748   \n",
              "4  Gandhi Avenue, Nairobi West, Nairobi, Nairobi ...       0.000000   \n",
              "\n",
              "   point_latitude  point_longitude  point_original_index  \\\n",
              "0       -1.040909        37.071567                     0   \n",
              "1       -1.041084        37.071515                     0   \n",
              "2       -1.041084        37.071515                     1   \n",
              "3       -1.040909        37.070972                     0   \n",
              "4       -1.040909        37.070972                     0   \n",
              "\n",
              "                point_place_id  \n",
              "0  ChIJuy2HBJJOLxgRflFygNiz0W4  \n",
              "1  ChIJuy2HBJJOLxgRflFygNiz0W4  \n",
              "2  ChIJjRl4E5JOLxgR5QYZp79nAZQ  \n",
              "3  ChIJjRl4E5JOLxgR5QYZp79nAZQ  \n",
              "4  ChIJx5QNLpJOLxgRzW-2tUJvBuo  "
            ]
          },
          "execution_count": 218,
          "metadata": {},
          "output_type": "execute_result"
        }
      ],
      "source": [
        "trips_df.head()"
      ]
    },
    {
      "cell_type": "markdown",
      "metadata": {
        "id": "eUcBIWLhdt14"
      },
      "source": [
        "### Creating a new column called duration in hours"
      ]
    },
    {
      "cell_type": "code",
      "execution_count": null,
      "metadata": {
        "id": "nCgp3hRmdt15"
      },
      "outputs": [],
      "source": [
        "trips_df['duration'] = (pd.to_datetime(trips_df['destination_time_stamp']) - pd.to_datetime(trips_df['origin_time_stamp'])).dt.seconds / 3600"
      ]
    },
    {
      "cell_type": "code",
      "execution_count": null,
      "metadata": {
        "id": "RUiM_UL6dt15",
        "outputId": "9c59bd40-cf1e-4a77-e526-3d5a0bf4b578"
      },
      "outputs": [
        {
          "data": {
            "text/html": [
              "<div>\n",
              "<style scoped>\n",
              "    .dataframe tbody tr th:only-of-type {\n",
              "        vertical-align: middle;\n",
              "    }\n",
              "\n",
              "    .dataframe tbody tr th {\n",
              "        vertical-align: top;\n",
              "    }\n",
              "\n",
              "    .dataframe thead th {\n",
              "        text-align: right;\n",
              "    }\n",
              "</style>\n",
              "<table border=\"1\" class=\"dataframe\">\n",
              "  <thead>\n",
              "    <tr style=\"text-align: right;\">\n",
              "      <th></th>\n",
              "      <th>id</th>\n",
              "      <th>created</th>\n",
              "      <th>asset_id</th>\n",
              "      <th>distance</th>\n",
              "      <th>origin_latitude</th>\n",
              "      <th>origin_longitude</th>\n",
              "      <th>origin_time_stamp</th>\n",
              "      <th>origin_address</th>\n",
              "      <th>destination_latitude</th>\n",
              "      <th>destination_longitude</th>\n",
              "      <th>destination_time_stamp</th>\n",
              "      <th>destination_address</th>\n",
              "      <th>point_bearing</th>\n",
              "      <th>point_latitude</th>\n",
              "      <th>point_longitude</th>\n",
              "      <th>point_original_index</th>\n",
              "      <th>point_place_id</th>\n",
              "      <th>duration</th>\n",
              "    </tr>\n",
              "  </thead>\n",
              "  <tbody>\n",
              "    <tr>\n",
              "      <th>0</th>\n",
              "      <td>35Ldjpf</td>\n",
              "      <td>2022-03-14 17:31:51.003000+00:00</td>\n",
              "      <td>0ROajub</td>\n",
              "      <td>4321.65</td>\n",
              "      <td>-1.043220</td>\n",
              "      <td>37.067928</td>\n",
              "      <td>2022-03-14 17:31:47+00:00</td>\n",
              "      <td>Thika Garissa Highway, Total, Thika, Kenya</td>\n",
              "      <td>-1.041213</td>\n",
              "      <td>37.092602</td>\n",
              "      <td>2022-03-14 17:54:07+00:00</td>\n",
              "      <td>Kenyatta Highway, Thika, Kiambu County, Kenya</td>\n",
              "      <td>0.000000</td>\n",
              "      <td>-1.040909</td>\n",
              "      <td>37.071567</td>\n",
              "      <td>0</td>\n",
              "      <td>ChIJuy2HBJJOLxgRflFygNiz0W4</td>\n",
              "      <td>0.372222</td>\n",
              "    </tr>\n",
              "    <tr>\n",
              "      <th>1</th>\n",
              "      <td>agWTdy5</td>\n",
              "      <td>2023-03-07 08:53:55.607000+00:00</td>\n",
              "      <td>0gMAW5w</td>\n",
              "      <td>24703.24</td>\n",
              "      <td>-1.305577</td>\n",
              "      <td>36.824627</td>\n",
              "      <td>2023-03-07 08:53:51+00:00</td>\n",
              "      <td>Nyayo Stadium, Nairobi, Kenya</td>\n",
              "      <td>-1.430601</td>\n",
              "      <td>36.687973</td>\n",
              "      <td>2023-03-07 10:13:47+00:00</td>\n",
              "      <td>Magadi Road, Kiserian, Kajiado County, Kenya</td>\n",
              "      <td>-163.431442</td>\n",
              "      <td>-1.041084</td>\n",
              "      <td>37.071515</td>\n",
              "      <td>0</td>\n",
              "      <td>ChIJuy2HBJJOLxgRflFygNiz0W4</td>\n",
              "      <td>1.332222</td>\n",
              "    </tr>\n",
              "    <tr>\n",
              "      <th>2</th>\n",
              "      <td>mcXsPmo</td>\n",
              "      <td>2023-03-07 06:40:53.771000+00:00</td>\n",
              "      <td>0gMAW5w</td>\n",
              "      <td>30689.27</td>\n",
              "      <td>-1.430067</td>\n",
              "      <td>36.688068</td>\n",
              "      <td>2023-03-07 06:40:48+00:00</td>\n",
              "      <td>Magadi Road, Kiserian, Kajiado County, Kenya</td>\n",
              "      <td>-1.305638</td>\n",
              "      <td>36.824879</td>\n",
              "      <td>2023-03-07 08:25:04+00:00</td>\n",
              "      <td>Nyayo Stadium, Nairobi, Kenya</td>\n",
              "      <td>0.000000</td>\n",
              "      <td>-1.041084</td>\n",
              "      <td>37.071515</td>\n",
              "      <td>1</td>\n",
              "      <td>ChIJjRl4E5JOLxgR5QYZp79nAZQ</td>\n",
              "      <td>1.737778</td>\n",
              "    </tr>\n",
              "    <tr>\n",
              "      <th>3</th>\n",
              "      <td>WRBY3Lt</td>\n",
              "      <td>2023-03-07 05:12:29.007000+00:00</td>\n",
              "      <td>0gMAW5w</td>\n",
              "      <td>24609.34</td>\n",
              "      <td>-1.305490</td>\n",
              "      <td>36.825317</td>\n",
              "      <td>2023-03-07 05:12:26+00:00</td>\n",
              "      <td>Nyayo Stadium, Nairobi, Kenya</td>\n",
              "      <td>-1.429965</td>\n",
              "      <td>36.688194</td>\n",
              "      <td>2023-03-07 06:29:53+00:00</td>\n",
              "      <td>Magadi Road, Kiserian, Kajiado County, Kenya</td>\n",
              "      <td>-72.222748</td>\n",
              "      <td>-1.040909</td>\n",
              "      <td>37.070972</td>\n",
              "      <td>0</td>\n",
              "      <td>ChIJjRl4E5JOLxgR5QYZp79nAZQ</td>\n",
              "      <td>1.290833</td>\n",
              "    </tr>\n",
              "    <tr>\n",
              "      <th>4</th>\n",
              "      <td>1WaNBeb</td>\n",
              "      <td>2023-03-07 03:15:18.670000+00:00</td>\n",
              "      <td>0gMAW5w</td>\n",
              "      <td>28395.71</td>\n",
              "      <td>-1.397144</td>\n",
              "      <td>36.759830</td>\n",
              "      <td>2023-03-07 03:15:15+00:00</td>\n",
              "      <td>Soronik Road, Nairobi, Kenya</td>\n",
              "      <td>-1.305595</td>\n",
              "      <td>36.825199</td>\n",
              "      <td>2023-03-07 04:59:31+00:00</td>\n",
              "      <td>Gandhi Avenue, Nairobi West, Nairobi, Nairobi ...</td>\n",
              "      <td>0.000000</td>\n",
              "      <td>-1.040909</td>\n",
              "      <td>37.070972</td>\n",
              "      <td>0</td>\n",
              "      <td>ChIJx5QNLpJOLxgRzW-2tUJvBuo</td>\n",
              "      <td>1.737778</td>\n",
              "    </tr>\n",
              "  </tbody>\n",
              "</table>\n",
              "</div>"
            ],
            "text/plain": [
              "        id                          created asset_id  distance  \\\n",
              "0  35Ldjpf 2022-03-14 17:31:51.003000+00:00  0ROajub   4321.65   \n",
              "1  agWTdy5 2023-03-07 08:53:55.607000+00:00  0gMAW5w  24703.24   \n",
              "2  mcXsPmo 2023-03-07 06:40:53.771000+00:00  0gMAW5w  30689.27   \n",
              "3  WRBY3Lt 2023-03-07 05:12:29.007000+00:00  0gMAW5w  24609.34   \n",
              "4  1WaNBeb 2023-03-07 03:15:18.670000+00:00  0gMAW5w  28395.71   \n",
              "\n",
              "   origin_latitude  origin_longitude         origin_time_stamp  \\\n",
              "0        -1.043220         37.067928 2022-03-14 17:31:47+00:00   \n",
              "1        -1.305577         36.824627 2023-03-07 08:53:51+00:00   \n",
              "2        -1.430067         36.688068 2023-03-07 06:40:48+00:00   \n",
              "3        -1.305490         36.825317 2023-03-07 05:12:26+00:00   \n",
              "4        -1.397144         36.759830 2023-03-07 03:15:15+00:00   \n",
              "\n",
              "                                 origin_address  destination_latitude  \\\n",
              "0    Thika Garissa Highway, Total, Thika, Kenya             -1.041213   \n",
              "1                 Nyayo Stadium, Nairobi, Kenya             -1.430601   \n",
              "2  Magadi Road, Kiserian, Kajiado County, Kenya             -1.305638   \n",
              "3                 Nyayo Stadium, Nairobi, Kenya             -1.429965   \n",
              "4                  Soronik Road, Nairobi, Kenya             -1.305595   \n",
              "\n",
              "   destination_longitude    destination_time_stamp  \\\n",
              "0              37.092602 2022-03-14 17:54:07+00:00   \n",
              "1              36.687973 2023-03-07 10:13:47+00:00   \n",
              "2              36.824879 2023-03-07 08:25:04+00:00   \n",
              "3              36.688194 2023-03-07 06:29:53+00:00   \n",
              "4              36.825199 2023-03-07 04:59:31+00:00   \n",
              "\n",
              "                                 destination_address  point_bearing  \\\n",
              "0      Kenyatta Highway, Thika, Kiambu County, Kenya       0.000000   \n",
              "1       Magadi Road, Kiserian, Kajiado County, Kenya    -163.431442   \n",
              "2                      Nyayo Stadium, Nairobi, Kenya       0.000000   \n",
              "3       Magadi Road, Kiserian, Kajiado County, Kenya     -72.222748   \n",
              "4  Gandhi Avenue, Nairobi West, Nairobi, Nairobi ...       0.000000   \n",
              "\n",
              "   point_latitude  point_longitude  point_original_index  \\\n",
              "0       -1.040909        37.071567                     0   \n",
              "1       -1.041084        37.071515                     0   \n",
              "2       -1.041084        37.071515                     1   \n",
              "3       -1.040909        37.070972                     0   \n",
              "4       -1.040909        37.070972                     0   \n",
              "\n",
              "                point_place_id  duration  \n",
              "0  ChIJuy2HBJJOLxgRflFygNiz0W4  0.372222  \n",
              "1  ChIJuy2HBJJOLxgRflFygNiz0W4  1.332222  \n",
              "2  ChIJjRl4E5JOLxgR5QYZp79nAZQ  1.737778  \n",
              "3  ChIJjRl4E5JOLxgR5QYZp79nAZQ  1.290833  \n",
              "4  ChIJx5QNLpJOLxgRzW-2tUJvBuo  1.737778  "
            ]
          },
          "execution_count": 220,
          "metadata": {},
          "output_type": "execute_result"
        }
      ],
      "source": [
        "trips_df.head()"
      ]
    },
    {
      "cell_type": "code",
      "execution_count": null,
      "metadata": {
        "id": "TeBMx8vedt16"
      },
      "outputs": [],
      "source": [
        "trips_df['created_day'] = trips_df['created'].dt.day_name()\n",
        "trips_df['created_week'] = trips_df['created'].dt.isocalendar().week\n",
        "trips_df['created_month'] = trips_df['created'].dt.month_name()\n"
      ]
    },
    {
      "cell_type": "code",
      "execution_count": null,
      "metadata": {
        "id": "PC193wR7dt17",
        "outputId": "13eb91fb-d694-445d-cc6a-c5337b89b53f"
      },
      "outputs": [
        {
          "data": {
            "text/html": [
              "<div>\n",
              "<style scoped>\n",
              "    .dataframe tbody tr th:only-of-type {\n",
              "        vertical-align: middle;\n",
              "    }\n",
              "\n",
              "    .dataframe tbody tr th {\n",
              "        vertical-align: top;\n",
              "    }\n",
              "\n",
              "    .dataframe thead th {\n",
              "        text-align: right;\n",
              "    }\n",
              "</style>\n",
              "<table border=\"1\" class=\"dataframe\">\n",
              "  <thead>\n",
              "    <tr style=\"text-align: right;\">\n",
              "      <th></th>\n",
              "      <th>id</th>\n",
              "      <th>created</th>\n",
              "      <th>asset_id</th>\n",
              "      <th>distance</th>\n",
              "      <th>origin_latitude</th>\n",
              "      <th>origin_longitude</th>\n",
              "      <th>origin_time_stamp</th>\n",
              "      <th>origin_address</th>\n",
              "      <th>destination_latitude</th>\n",
              "      <th>destination_longitude</th>\n",
              "      <th>destination_time_stamp</th>\n",
              "      <th>destination_address</th>\n",
              "      <th>point_bearing</th>\n",
              "      <th>point_latitude</th>\n",
              "      <th>point_longitude</th>\n",
              "      <th>point_original_index</th>\n",
              "      <th>point_place_id</th>\n",
              "      <th>duration</th>\n",
              "      <th>created_day</th>\n",
              "      <th>created_week</th>\n",
              "      <th>created_month</th>\n",
              "      <th>distance_km</th>\n",
              "    </tr>\n",
              "  </thead>\n",
              "  <tbody>\n",
              "    <tr>\n",
              "      <th>0</th>\n",
              "      <td>35Ldjpf</td>\n",
              "      <td>2022-03-14 17:31:51.003000+00:00</td>\n",
              "      <td>0ROajub</td>\n",
              "      <td>4321.65</td>\n",
              "      <td>-1.043220</td>\n",
              "      <td>37.067928</td>\n",
              "      <td>2022-03-14 17:31:47+00:00</td>\n",
              "      <td>Thika Garissa Highway, Total, Thika, Kenya</td>\n",
              "      <td>-1.041213</td>\n",
              "      <td>37.092602</td>\n",
              "      <td>2022-03-14 17:54:07+00:00</td>\n",
              "      <td>Kenyatta Highway, Thika, Kiambu County, Kenya</td>\n",
              "      <td>0.000000</td>\n",
              "      <td>-1.040909</td>\n",
              "      <td>37.071567</td>\n",
              "      <td>0</td>\n",
              "      <td>ChIJuy2HBJJOLxgRflFygNiz0W4</td>\n",
              "      <td>0.372222</td>\n",
              "      <td>Monday</td>\n",
              "      <td>11</td>\n",
              "      <td>March</td>\n",
              "      <td>4.32165</td>\n",
              "    </tr>\n",
              "    <tr>\n",
              "      <th>1</th>\n",
              "      <td>agWTdy5</td>\n",
              "      <td>2023-03-07 08:53:55.607000+00:00</td>\n",
              "      <td>0gMAW5w</td>\n",
              "      <td>24703.24</td>\n",
              "      <td>-1.305577</td>\n",
              "      <td>36.824627</td>\n",
              "      <td>2023-03-07 08:53:51+00:00</td>\n",
              "      <td>Nyayo Stadium, Nairobi, Kenya</td>\n",
              "      <td>-1.430601</td>\n",
              "      <td>36.687973</td>\n",
              "      <td>2023-03-07 10:13:47+00:00</td>\n",
              "      <td>Magadi Road, Kiserian, Kajiado County, Kenya</td>\n",
              "      <td>-163.431442</td>\n",
              "      <td>-1.041084</td>\n",
              "      <td>37.071515</td>\n",
              "      <td>0</td>\n",
              "      <td>ChIJuy2HBJJOLxgRflFygNiz0W4</td>\n",
              "      <td>1.332222</td>\n",
              "      <td>Tuesday</td>\n",
              "      <td>10</td>\n",
              "      <td>March</td>\n",
              "      <td>24.70324</td>\n",
              "    </tr>\n",
              "    <tr>\n",
              "      <th>2</th>\n",
              "      <td>mcXsPmo</td>\n",
              "      <td>2023-03-07 06:40:53.771000+00:00</td>\n",
              "      <td>0gMAW5w</td>\n",
              "      <td>30689.27</td>\n",
              "      <td>-1.430067</td>\n",
              "      <td>36.688068</td>\n",
              "      <td>2023-03-07 06:40:48+00:00</td>\n",
              "      <td>Magadi Road, Kiserian, Kajiado County, Kenya</td>\n",
              "      <td>-1.305638</td>\n",
              "      <td>36.824879</td>\n",
              "      <td>2023-03-07 08:25:04+00:00</td>\n",
              "      <td>Nyayo Stadium, Nairobi, Kenya</td>\n",
              "      <td>0.000000</td>\n",
              "      <td>-1.041084</td>\n",
              "      <td>37.071515</td>\n",
              "      <td>1</td>\n",
              "      <td>ChIJjRl4E5JOLxgR5QYZp79nAZQ</td>\n",
              "      <td>1.737778</td>\n",
              "      <td>Tuesday</td>\n",
              "      <td>10</td>\n",
              "      <td>March</td>\n",
              "      <td>30.68927</td>\n",
              "    </tr>\n",
              "    <tr>\n",
              "      <th>3</th>\n",
              "      <td>WRBY3Lt</td>\n",
              "      <td>2023-03-07 05:12:29.007000+00:00</td>\n",
              "      <td>0gMAW5w</td>\n",
              "      <td>24609.34</td>\n",
              "      <td>-1.305490</td>\n",
              "      <td>36.825317</td>\n",
              "      <td>2023-03-07 05:12:26+00:00</td>\n",
              "      <td>Nyayo Stadium, Nairobi, Kenya</td>\n",
              "      <td>-1.429965</td>\n",
              "      <td>36.688194</td>\n",
              "      <td>2023-03-07 06:29:53+00:00</td>\n",
              "      <td>Magadi Road, Kiserian, Kajiado County, Kenya</td>\n",
              "      <td>-72.222748</td>\n",
              "      <td>-1.040909</td>\n",
              "      <td>37.070972</td>\n",
              "      <td>0</td>\n",
              "      <td>ChIJjRl4E5JOLxgR5QYZp79nAZQ</td>\n",
              "      <td>1.290833</td>\n",
              "      <td>Tuesday</td>\n",
              "      <td>10</td>\n",
              "      <td>March</td>\n",
              "      <td>24.60934</td>\n",
              "    </tr>\n",
              "    <tr>\n",
              "      <th>4</th>\n",
              "      <td>1WaNBeb</td>\n",
              "      <td>2023-03-07 03:15:18.670000+00:00</td>\n",
              "      <td>0gMAW5w</td>\n",
              "      <td>28395.71</td>\n",
              "      <td>-1.397144</td>\n",
              "      <td>36.759830</td>\n",
              "      <td>2023-03-07 03:15:15+00:00</td>\n",
              "      <td>Soronik Road, Nairobi, Kenya</td>\n",
              "      <td>-1.305595</td>\n",
              "      <td>36.825199</td>\n",
              "      <td>2023-03-07 04:59:31+00:00</td>\n",
              "      <td>Gandhi Avenue, Nairobi West, Nairobi, Nairobi ...</td>\n",
              "      <td>0.000000</td>\n",
              "      <td>-1.040909</td>\n",
              "      <td>37.070972</td>\n",
              "      <td>0</td>\n",
              "      <td>ChIJx5QNLpJOLxgRzW-2tUJvBuo</td>\n",
              "      <td>1.737778</td>\n",
              "      <td>Tuesday</td>\n",
              "      <td>10</td>\n",
              "      <td>March</td>\n",
              "      <td>28.39571</td>\n",
              "    </tr>\n",
              "  </tbody>\n",
              "</table>\n",
              "</div>"
            ],
            "text/plain": [
              "        id                          created asset_id  distance  \\\n",
              "0  35Ldjpf 2022-03-14 17:31:51.003000+00:00  0ROajub   4321.65   \n",
              "1  agWTdy5 2023-03-07 08:53:55.607000+00:00  0gMAW5w  24703.24   \n",
              "2  mcXsPmo 2023-03-07 06:40:53.771000+00:00  0gMAW5w  30689.27   \n",
              "3  WRBY3Lt 2023-03-07 05:12:29.007000+00:00  0gMAW5w  24609.34   \n",
              "4  1WaNBeb 2023-03-07 03:15:18.670000+00:00  0gMAW5w  28395.71   \n",
              "\n",
              "   origin_latitude  origin_longitude         origin_time_stamp  \\\n",
              "0        -1.043220         37.067928 2022-03-14 17:31:47+00:00   \n",
              "1        -1.305577         36.824627 2023-03-07 08:53:51+00:00   \n",
              "2        -1.430067         36.688068 2023-03-07 06:40:48+00:00   \n",
              "3        -1.305490         36.825317 2023-03-07 05:12:26+00:00   \n",
              "4        -1.397144         36.759830 2023-03-07 03:15:15+00:00   \n",
              "\n",
              "                                 origin_address  destination_latitude  \\\n",
              "0    Thika Garissa Highway, Total, Thika, Kenya             -1.041213   \n",
              "1                 Nyayo Stadium, Nairobi, Kenya             -1.430601   \n",
              "2  Magadi Road, Kiserian, Kajiado County, Kenya             -1.305638   \n",
              "3                 Nyayo Stadium, Nairobi, Kenya             -1.429965   \n",
              "4                  Soronik Road, Nairobi, Kenya             -1.305595   \n",
              "\n",
              "   destination_longitude    destination_time_stamp  \\\n",
              "0              37.092602 2022-03-14 17:54:07+00:00   \n",
              "1              36.687973 2023-03-07 10:13:47+00:00   \n",
              "2              36.824879 2023-03-07 08:25:04+00:00   \n",
              "3              36.688194 2023-03-07 06:29:53+00:00   \n",
              "4              36.825199 2023-03-07 04:59:31+00:00   \n",
              "\n",
              "                                 destination_address  point_bearing  \\\n",
              "0      Kenyatta Highway, Thika, Kiambu County, Kenya       0.000000   \n",
              "1       Magadi Road, Kiserian, Kajiado County, Kenya    -163.431442   \n",
              "2                      Nyayo Stadium, Nairobi, Kenya       0.000000   \n",
              "3       Magadi Road, Kiserian, Kajiado County, Kenya     -72.222748   \n",
              "4  Gandhi Avenue, Nairobi West, Nairobi, Nairobi ...       0.000000   \n",
              "\n",
              "   point_latitude  point_longitude  point_original_index  \\\n",
              "0       -1.040909        37.071567                     0   \n",
              "1       -1.041084        37.071515                     0   \n",
              "2       -1.041084        37.071515                     1   \n",
              "3       -1.040909        37.070972                     0   \n",
              "4       -1.040909        37.070972                     0   \n",
              "\n",
              "                point_place_id  duration created_day  created_week  \\\n",
              "0  ChIJuy2HBJJOLxgRflFygNiz0W4  0.372222      Monday            11   \n",
              "1  ChIJuy2HBJJOLxgRflFygNiz0W4  1.332222     Tuesday            10   \n",
              "2  ChIJjRl4E5JOLxgR5QYZp79nAZQ  1.737778     Tuesday            10   \n",
              "3  ChIJjRl4E5JOLxgR5QYZp79nAZQ  1.290833     Tuesday            10   \n",
              "4  ChIJx5QNLpJOLxgRzW-2tUJvBuo  1.737778     Tuesday            10   \n",
              "\n",
              "  created_month  distance_km  \n",
              "0         March      4.32165  \n",
              "1         March     24.70324  \n",
              "2         March     30.68927  \n",
              "3         March     24.60934  \n",
              "4         March     28.39571  "
            ]
          },
          "execution_count": 222,
          "metadata": {},
          "output_type": "execute_result"
        }
      ],
      "source": [
        "pd.set_option('display.max_columns', None)  # show all columns\n",
        "trips_df['distance_km'] = trips_df['distance'] / 1000\n",
        "trips_df.head()"
      ]
    },
    {
      "cell_type": "markdown",
      "metadata": {
        "id": "aEDrZG6Vdt17"
      },
      "source": [
        "### Creating Average speed column (km/h)"
      ]
    },
    {
      "cell_type": "code",
      "execution_count": null,
      "metadata": {
        "id": "Z0IqXk7Zdt18"
      },
      "outputs": [],
      "source": [
        "trips_df['average_speed'] = trips_df['distance_km'] / trips_df['duration']"
      ]
    },
    {
      "cell_type": "code",
      "execution_count": null,
      "metadata": {
        "id": "_TslkPk7dt19",
        "outputId": "e2d011f6-6307-4316-89e0-7265d0bd2465"
      },
      "outputs": [
        {
          "data": {
            "text/html": [
              "<div>\n",
              "<style scoped>\n",
              "    .dataframe tbody tr th:only-of-type {\n",
              "        vertical-align: middle;\n",
              "    }\n",
              "\n",
              "    .dataframe tbody tr th {\n",
              "        vertical-align: top;\n",
              "    }\n",
              "\n",
              "    .dataframe thead th {\n",
              "        text-align: right;\n",
              "    }\n",
              "</style>\n",
              "<table border=\"1\" class=\"dataframe\">\n",
              "  <thead>\n",
              "    <tr style=\"text-align: right;\">\n",
              "      <th></th>\n",
              "      <th>id</th>\n",
              "      <th>created</th>\n",
              "      <th>asset_id</th>\n",
              "      <th>distance</th>\n",
              "      <th>origin_latitude</th>\n",
              "      <th>origin_longitude</th>\n",
              "      <th>origin_time_stamp</th>\n",
              "      <th>origin_address</th>\n",
              "      <th>destination_latitude</th>\n",
              "      <th>destination_longitude</th>\n",
              "      <th>destination_time_stamp</th>\n",
              "      <th>destination_address</th>\n",
              "      <th>point_bearing</th>\n",
              "      <th>point_latitude</th>\n",
              "      <th>point_longitude</th>\n",
              "      <th>point_original_index</th>\n",
              "      <th>point_place_id</th>\n",
              "      <th>duration</th>\n",
              "      <th>created_day</th>\n",
              "      <th>created_week</th>\n",
              "      <th>created_month</th>\n",
              "      <th>distance_km</th>\n",
              "      <th>average_speed</th>\n",
              "    </tr>\n",
              "  </thead>\n",
              "  <tbody>\n",
              "    <tr>\n",
              "      <th>0</th>\n",
              "      <td>35Ldjpf</td>\n",
              "      <td>2022-03-14 17:31:51.003000+00:00</td>\n",
              "      <td>0ROajub</td>\n",
              "      <td>4321.65</td>\n",
              "      <td>-1.043220</td>\n",
              "      <td>37.067928</td>\n",
              "      <td>2022-03-14 17:31:47+00:00</td>\n",
              "      <td>Thika Garissa Highway, Total, Thika, Kenya</td>\n",
              "      <td>-1.041213</td>\n",
              "      <td>37.092602</td>\n",
              "      <td>2022-03-14 17:54:07+00:00</td>\n",
              "      <td>Kenyatta Highway, Thika, Kiambu County, Kenya</td>\n",
              "      <td>0.000000</td>\n",
              "      <td>-1.040909</td>\n",
              "      <td>37.071567</td>\n",
              "      <td>0</td>\n",
              "      <td>ChIJuy2HBJJOLxgRflFygNiz0W4</td>\n",
              "      <td>0.372222</td>\n",
              "      <td>Monday</td>\n",
              "      <td>11</td>\n",
              "      <td>March</td>\n",
              "      <td>4.32165</td>\n",
              "      <td>11.610403</td>\n",
              "    </tr>\n",
              "    <tr>\n",
              "      <th>1</th>\n",
              "      <td>agWTdy5</td>\n",
              "      <td>2023-03-07 08:53:55.607000+00:00</td>\n",
              "      <td>0gMAW5w</td>\n",
              "      <td>24703.24</td>\n",
              "      <td>-1.305577</td>\n",
              "      <td>36.824627</td>\n",
              "      <td>2023-03-07 08:53:51+00:00</td>\n",
              "      <td>Nyayo Stadium, Nairobi, Kenya</td>\n",
              "      <td>-1.430601</td>\n",
              "      <td>36.687973</td>\n",
              "      <td>2023-03-07 10:13:47+00:00</td>\n",
              "      <td>Magadi Road, Kiserian, Kajiado County, Kenya</td>\n",
              "      <td>-163.431442</td>\n",
              "      <td>-1.041084</td>\n",
              "      <td>37.071515</td>\n",
              "      <td>0</td>\n",
              "      <td>ChIJuy2HBJJOLxgRflFygNiz0W4</td>\n",
              "      <td>1.332222</td>\n",
              "      <td>Tuesday</td>\n",
              "      <td>10</td>\n",
              "      <td>March</td>\n",
              "      <td>24.70324</td>\n",
              "      <td>18.542882</td>\n",
              "    </tr>\n",
              "    <tr>\n",
              "      <th>2</th>\n",
              "      <td>mcXsPmo</td>\n",
              "      <td>2023-03-07 06:40:53.771000+00:00</td>\n",
              "      <td>0gMAW5w</td>\n",
              "      <td>30689.27</td>\n",
              "      <td>-1.430067</td>\n",
              "      <td>36.688068</td>\n",
              "      <td>2023-03-07 06:40:48+00:00</td>\n",
              "      <td>Magadi Road, Kiserian, Kajiado County, Kenya</td>\n",
              "      <td>-1.305638</td>\n",
              "      <td>36.824879</td>\n",
              "      <td>2023-03-07 08:25:04+00:00</td>\n",
              "      <td>Nyayo Stadium, Nairobi, Kenya</td>\n",
              "      <td>0.000000</td>\n",
              "      <td>-1.041084</td>\n",
              "      <td>37.071515</td>\n",
              "      <td>1</td>\n",
              "      <td>ChIJjRl4E5JOLxgR5QYZp79nAZQ</td>\n",
              "      <td>1.737778</td>\n",
              "      <td>Tuesday</td>\n",
              "      <td>10</td>\n",
              "      <td>March</td>\n",
              "      <td>30.68927</td>\n",
              "      <td>17.660066</td>\n",
              "    </tr>\n",
              "    <tr>\n",
              "      <th>3</th>\n",
              "      <td>WRBY3Lt</td>\n",
              "      <td>2023-03-07 05:12:29.007000+00:00</td>\n",
              "      <td>0gMAW5w</td>\n",
              "      <td>24609.34</td>\n",
              "      <td>-1.305490</td>\n",
              "      <td>36.825317</td>\n",
              "      <td>2023-03-07 05:12:26+00:00</td>\n",
              "      <td>Nyayo Stadium, Nairobi, Kenya</td>\n",
              "      <td>-1.429965</td>\n",
              "      <td>36.688194</td>\n",
              "      <td>2023-03-07 06:29:53+00:00</td>\n",
              "      <td>Magadi Road, Kiserian, Kajiado County, Kenya</td>\n",
              "      <td>-72.222748</td>\n",
              "      <td>-1.040909</td>\n",
              "      <td>37.070972</td>\n",
              "      <td>0</td>\n",
              "      <td>ChIJjRl4E5JOLxgR5QYZp79nAZQ</td>\n",
              "      <td>1.290833</td>\n",
              "      <td>Tuesday</td>\n",
              "      <td>10</td>\n",
              "      <td>March</td>\n",
              "      <td>24.60934</td>\n",
              "      <td>19.064692</td>\n",
              "    </tr>\n",
              "    <tr>\n",
              "      <th>4</th>\n",
              "      <td>1WaNBeb</td>\n",
              "      <td>2023-03-07 03:15:18.670000+00:00</td>\n",
              "      <td>0gMAW5w</td>\n",
              "      <td>28395.71</td>\n",
              "      <td>-1.397144</td>\n",
              "      <td>36.759830</td>\n",
              "      <td>2023-03-07 03:15:15+00:00</td>\n",
              "      <td>Soronik Road, Nairobi, Kenya</td>\n",
              "      <td>-1.305595</td>\n",
              "      <td>36.825199</td>\n",
              "      <td>2023-03-07 04:59:31+00:00</td>\n",
              "      <td>Gandhi Avenue, Nairobi West, Nairobi, Nairobi ...</td>\n",
              "      <td>0.000000</td>\n",
              "      <td>-1.040909</td>\n",
              "      <td>37.070972</td>\n",
              "      <td>0</td>\n",
              "      <td>ChIJx5QNLpJOLxgRzW-2tUJvBuo</td>\n",
              "      <td>1.737778</td>\n",
              "      <td>Tuesday</td>\n",
              "      <td>10</td>\n",
              "      <td>March</td>\n",
              "      <td>28.39571</td>\n",
              "      <td>16.340242</td>\n",
              "    </tr>\n",
              "  </tbody>\n",
              "</table>\n",
              "</div>"
            ],
            "text/plain": [
              "        id                          created asset_id  distance  \\\n",
              "0  35Ldjpf 2022-03-14 17:31:51.003000+00:00  0ROajub   4321.65   \n",
              "1  agWTdy5 2023-03-07 08:53:55.607000+00:00  0gMAW5w  24703.24   \n",
              "2  mcXsPmo 2023-03-07 06:40:53.771000+00:00  0gMAW5w  30689.27   \n",
              "3  WRBY3Lt 2023-03-07 05:12:29.007000+00:00  0gMAW5w  24609.34   \n",
              "4  1WaNBeb 2023-03-07 03:15:18.670000+00:00  0gMAW5w  28395.71   \n",
              "\n",
              "   origin_latitude  origin_longitude         origin_time_stamp  \\\n",
              "0        -1.043220         37.067928 2022-03-14 17:31:47+00:00   \n",
              "1        -1.305577         36.824627 2023-03-07 08:53:51+00:00   \n",
              "2        -1.430067         36.688068 2023-03-07 06:40:48+00:00   \n",
              "3        -1.305490         36.825317 2023-03-07 05:12:26+00:00   \n",
              "4        -1.397144         36.759830 2023-03-07 03:15:15+00:00   \n",
              "\n",
              "                                 origin_address  destination_latitude  \\\n",
              "0    Thika Garissa Highway, Total, Thika, Kenya             -1.041213   \n",
              "1                 Nyayo Stadium, Nairobi, Kenya             -1.430601   \n",
              "2  Magadi Road, Kiserian, Kajiado County, Kenya             -1.305638   \n",
              "3                 Nyayo Stadium, Nairobi, Kenya             -1.429965   \n",
              "4                  Soronik Road, Nairobi, Kenya             -1.305595   \n",
              "\n",
              "   destination_longitude    destination_time_stamp  \\\n",
              "0              37.092602 2022-03-14 17:54:07+00:00   \n",
              "1              36.687973 2023-03-07 10:13:47+00:00   \n",
              "2              36.824879 2023-03-07 08:25:04+00:00   \n",
              "3              36.688194 2023-03-07 06:29:53+00:00   \n",
              "4              36.825199 2023-03-07 04:59:31+00:00   \n",
              "\n",
              "                                 destination_address  point_bearing  \\\n",
              "0      Kenyatta Highway, Thika, Kiambu County, Kenya       0.000000   \n",
              "1       Magadi Road, Kiserian, Kajiado County, Kenya    -163.431442   \n",
              "2                      Nyayo Stadium, Nairobi, Kenya       0.000000   \n",
              "3       Magadi Road, Kiserian, Kajiado County, Kenya     -72.222748   \n",
              "4  Gandhi Avenue, Nairobi West, Nairobi, Nairobi ...       0.000000   \n",
              "\n",
              "   point_latitude  point_longitude  point_original_index  \\\n",
              "0       -1.040909        37.071567                     0   \n",
              "1       -1.041084        37.071515                     0   \n",
              "2       -1.041084        37.071515                     1   \n",
              "3       -1.040909        37.070972                     0   \n",
              "4       -1.040909        37.070972                     0   \n",
              "\n",
              "                point_place_id  duration created_day  created_week  \\\n",
              "0  ChIJuy2HBJJOLxgRflFygNiz0W4  0.372222      Monday            11   \n",
              "1  ChIJuy2HBJJOLxgRflFygNiz0W4  1.332222     Tuesday            10   \n",
              "2  ChIJjRl4E5JOLxgR5QYZp79nAZQ  1.737778     Tuesday            10   \n",
              "3  ChIJjRl4E5JOLxgR5QYZp79nAZQ  1.290833     Tuesday            10   \n",
              "4  ChIJx5QNLpJOLxgRzW-2tUJvBuo  1.737778     Tuesday            10   \n",
              "\n",
              "  created_month  distance_km  average_speed  \n",
              "0         March      4.32165      11.610403  \n",
              "1         March     24.70324      18.542882  \n",
              "2         March     30.68927      17.660066  \n",
              "3         March     24.60934      19.064692  \n",
              "4         March     28.39571      16.340242  "
            ]
          },
          "execution_count": 224,
          "metadata": {},
          "output_type": "execute_result"
        }
      ],
      "source": [
        "trips_df.head()"
      ]
    },
    {
      "cell_type": "code",
      "execution_count": null,
      "metadata": {
        "id": "RwN_fEcFdt19",
        "outputId": "0efe7338-fc7d-461a-84c2-e905c291724e"
      },
      "outputs": [
        {
          "data": {
            "text/html": [
              "<div>\n",
              "<style scoped>\n",
              "    .dataframe tbody tr th:only-of-type {\n",
              "        vertical-align: middle;\n",
              "    }\n",
              "\n",
              "    .dataframe tbody tr th {\n",
              "        vertical-align: top;\n",
              "    }\n",
              "\n",
              "    .dataframe thead th {\n",
              "        text-align: right;\n",
              "    }\n",
              "</style>\n",
              "<table border=\"1\" class=\"dataframe\">\n",
              "  <thead>\n",
              "    <tr style=\"text-align: right;\">\n",
              "      <th></th>\n",
              "      <th>distance</th>\n",
              "      <th>origin_latitude</th>\n",
              "      <th>origin_longitude</th>\n",
              "      <th>destination_latitude</th>\n",
              "      <th>destination_longitude</th>\n",
              "      <th>point_bearing</th>\n",
              "      <th>point_latitude</th>\n",
              "      <th>point_longitude</th>\n",
              "      <th>point_original_index</th>\n",
              "      <th>duration</th>\n",
              "      <th>created_week</th>\n",
              "      <th>distance_km</th>\n",
              "      <th>average_speed</th>\n",
              "    </tr>\n",
              "  </thead>\n",
              "  <tbody>\n",
              "    <tr>\n",
              "      <th>count</th>\n",
              "      <td>4803.000000</td>\n",
              "      <td>4803.000000</td>\n",
              "      <td>4803.000000</td>\n",
              "      <td>4803.000000</td>\n",
              "      <td>4803.000000</td>\n",
              "      <td>4803.000000</td>\n",
              "      <td>4803.000000</td>\n",
              "      <td>4803.000000</td>\n",
              "      <td>4803.000000</td>\n",
              "      <td>4803.000000</td>\n",
              "      <td>4803.000000</td>\n",
              "      <td>4803.000000</td>\n",
              "      <td>4803.000000</td>\n",
              "    </tr>\n",
              "    <tr>\n",
              "      <th>mean</th>\n",
              "      <td>11243.708370</td>\n",
              "      <td>-1.033124</td>\n",
              "      <td>36.911811</td>\n",
              "      <td>-1.033193</td>\n",
              "      <td>36.911792</td>\n",
              "      <td>-14.540141</td>\n",
              "      <td>-0.606086</td>\n",
              "      <td>36.551398</td>\n",
              "      <td>6.270872</td>\n",
              "      <td>0.563549</td>\n",
              "      <td>20.720591</td>\n",
              "      <td>11.243708</td>\n",
              "      <td>23.428399</td>\n",
              "    </tr>\n",
              "    <tr>\n",
              "      <th>std</th>\n",
              "      <td>20409.022451</td>\n",
              "      <td>0.433715</td>\n",
              "      <td>0.411602</td>\n",
              "      <td>0.435265</td>\n",
              "      <td>0.411657</td>\n",
              "      <td>79.109259</td>\n",
              "      <td>0.670617</td>\n",
              "      <td>0.801983</td>\n",
              "      <td>19.302609</td>\n",
              "      <td>0.739524</td>\n",
              "      <td>17.145730</td>\n",
              "      <td>20.409022</td>\n",
              "      <td>393.695878</td>\n",
              "    </tr>\n",
              "    <tr>\n",
              "      <th>min</th>\n",
              "      <td>101.510000</td>\n",
              "      <td>-3.229457</td>\n",
              "      <td>34.215324</td>\n",
              "      <td>-3.328162</td>\n",
              "      <td>34.217648</td>\n",
              "      <td>-179.798972</td>\n",
              "      <td>-1.049888</td>\n",
              "      <td>35.196382</td>\n",
              "      <td>0.000000</td>\n",
              "      <td>0.002222</td>\n",
              "      <td>1.000000</td>\n",
              "      <td>0.101510</td>\n",
              "      <td>0.310191</td>\n",
              "    </tr>\n",
              "    <tr>\n",
              "      <th>25%</th>\n",
              "      <td>1635.575000</td>\n",
              "      <td>-1.248115</td>\n",
              "      <td>36.824804</td>\n",
              "      <td>-1.249776</td>\n",
              "      <td>36.824744</td>\n",
              "      <td>-64.698351</td>\n",
              "      <td>-1.040347</td>\n",
              "      <td>35.436864</td>\n",
              "      <td>0.000000</td>\n",
              "      <td>0.157917</td>\n",
              "      <td>7.000000</td>\n",
              "      <td>1.635575</td>\n",
              "      <td>9.354446</td>\n",
              "    </tr>\n",
              "    <tr>\n",
              "      <th>50%</th>\n",
              "      <td>4963.710000</td>\n",
              "      <td>-1.126187</td>\n",
              "      <td>36.995731</td>\n",
              "      <td>-1.126174</td>\n",
              "      <td>36.994041</td>\n",
              "      <td>0.000000</td>\n",
              "      <td>-1.037347</td>\n",
              "      <td>37.068687</td>\n",
              "      <td>0.000000</td>\n",
              "      <td>0.347500</td>\n",
              "      <td>9.000000</td>\n",
              "      <td>4.963710</td>\n",
              "      <td>15.298000</td>\n",
              "    </tr>\n",
              "    <tr>\n",
              "      <th>75%</th>\n",
              "      <td>11810.790000</td>\n",
              "      <td>-1.051946</td>\n",
              "      <td>37.092152</td>\n",
              "      <td>-1.051689</td>\n",
              "      <td>37.092079</td>\n",
              "      <td>7.810997</td>\n",
              "      <td>0.211171</td>\n",
              "      <td>37.074451</td>\n",
              "      <td>0.000000</td>\n",
              "      <td>0.651528</td>\n",
              "      <td>40.000000</td>\n",
              "      <td>11.810790</td>\n",
              "      <td>22.034570</td>\n",
              "    </tr>\n",
              "    <tr>\n",
              "      <th>max</th>\n",
              "      <td>342478.600000</td>\n",
              "      <td>1.256370</td>\n",
              "      <td>40.124302</td>\n",
              "      <td>1.256327</td>\n",
              "      <td>40.126652</td>\n",
              "      <td>180.000000</td>\n",
              "      <td>0.609576</td>\n",
              "      <td>37.094406</td>\n",
              "      <td>99.000000</td>\n",
              "      <td>8.738889</td>\n",
              "      <td>52.000000</td>\n",
              "      <td>342.478600</td>\n",
              "      <td>27248.472000</td>\n",
              "    </tr>\n",
              "  </tbody>\n",
              "</table>\n",
              "</div>"
            ],
            "text/plain": [
              "            distance  origin_latitude  origin_longitude  destination_latitude  \\\n",
              "count    4803.000000      4803.000000       4803.000000           4803.000000   \n",
              "mean    11243.708370        -1.033124         36.911811             -1.033193   \n",
              "std     20409.022451         0.433715          0.411602              0.435265   \n",
              "min       101.510000        -3.229457         34.215324             -3.328162   \n",
              "25%      1635.575000        -1.248115         36.824804             -1.249776   \n",
              "50%      4963.710000        -1.126187         36.995731             -1.126174   \n",
              "75%     11810.790000        -1.051946         37.092152             -1.051689   \n",
              "max    342478.600000         1.256370         40.124302              1.256327   \n",
              "\n",
              "       destination_longitude  point_bearing  point_latitude  point_longitude  \\\n",
              "count            4803.000000    4803.000000     4803.000000      4803.000000   \n",
              "mean               36.911792     -14.540141       -0.606086        36.551398   \n",
              "std                 0.411657      79.109259        0.670617         0.801983   \n",
              "min                34.217648    -179.798972       -1.049888        35.196382   \n",
              "25%                36.824744     -64.698351       -1.040347        35.436864   \n",
              "50%                36.994041       0.000000       -1.037347        37.068687   \n",
              "75%                37.092079       7.810997        0.211171        37.074451   \n",
              "max                40.126652     180.000000        0.609576        37.094406   \n",
              "\n",
              "       point_original_index     duration  created_week  distance_km  \\\n",
              "count           4803.000000  4803.000000   4803.000000  4803.000000   \n",
              "mean               6.270872     0.563549     20.720591    11.243708   \n",
              "std               19.302609     0.739524     17.145730    20.409022   \n",
              "min                0.000000     0.002222      1.000000     0.101510   \n",
              "25%                0.000000     0.157917      7.000000     1.635575   \n",
              "50%                0.000000     0.347500      9.000000     4.963710   \n",
              "75%                0.000000     0.651528     40.000000    11.810790   \n",
              "max               99.000000     8.738889     52.000000   342.478600   \n",
              "\n",
              "       average_speed  \n",
              "count    4803.000000  \n",
              "mean       23.428399  \n",
              "std       393.695878  \n",
              "min         0.310191  \n",
              "25%         9.354446  \n",
              "50%        15.298000  \n",
              "75%        22.034570  \n",
              "max     27248.472000  "
            ]
          },
          "execution_count": 225,
          "metadata": {},
          "output_type": "execute_result"
        }
      ],
      "source": [
        "trips_df.describe()"
      ]
    },
    {
      "cell_type": "code",
      "execution_count": null,
      "metadata": {
        "id": "dt0XQeWKdt1-",
        "outputId": "c1dc9444-70b4-4900-c5aa-5fe0c300db9d"
      },
      "outputs": [
        {
          "name": "stdout",
          "output_type": "stream",
          "text": [
            "created\n",
            "28    211\n",
            "1     210\n",
            "4     209\n",
            "27    203\n",
            "6     203\n",
            "2     201\n",
            "25    192\n",
            "3     189\n",
            "23    180\n",
            "26    179\n",
            "5     178\n",
            "24    171\n",
            "11    168\n",
            "21    156\n",
            "17    155\n",
            "7     152\n",
            "22    151\n",
            "9     139\n",
            "10    137\n",
            "20    137\n",
            "12    132\n",
            "18    132\n",
            "30    129\n",
            "15    128\n",
            "14    127\n",
            "13    122\n",
            "16    119\n",
            "19    118\n",
            "29    101\n",
            "8     101\n",
            "31     73\n",
            "Name: id, dtype: int64\n"
          ]
        }
      ],
      "source": [
        "dayT = trips_df.groupby(trips_df['created'].dt.day)['id'].count().sort_values(ascending=False)\n",
        "print(dayT)"
      ]
    },
    {
      "cell_type": "markdown",
      "metadata": {
        "id": "5_3gT-oqdt1-"
      },
      "source": [
        "# Vizualizations"
      ]
    },
    {
      "cell_type": "markdown",
      "metadata": {
        "id": "Iu7JUmBkdt1_"
      },
      "source": [
        "## Util 2\n",
        "- A function to draw the bar graphs\n",
        "- the figsize is by default (8,6)\n",
        "- the feature are the columns in the trips_df\n",
        "- label is the string of the feature ,e.g Day "
      ]
    },
    {
      "cell_type": "code",
      "execution_count": null,
      "metadata": {
        "id": "i-wPUpt6dt2A"
      },
      "outputs": [],
      "source": [
        "def draw_bar(feature: any, label:str,bins_range:range, figsize = (8,6),):\n",
        "    avg_distance = trips_df.groupby(feature)['distance_km'].mean()\n",
        "    \n",
        "    fig1, ax1 = plt.subplots(figsize=figsize)\n",
        "    ax1.bar(avg_distance.index, avg_distance.values)\n",
        "    ax1.set_xlabel(label)\n",
        "    ax1.set_xticks(bins_range)#scale\n",
        "    ax1.set_ylabel('Average Distance Travelled (km)')\n",
        "    ax1.set_title('Average Distance Travelled by Vehicles in a {}'.format(label))\n",
        "    plt.show()"
      ]
    },
    {
      "cell_type": "code",
      "execution_count": null,
      "metadata": {
        "id": "NXo5i7podt2A",
        "outputId": "631495a3-0322-4184-ed95-e8abef7e9823"
      },
      "outputs": [
        {
          "data": {
            "image/png": "[encoded data removed]",
            "text/plain": [
              "<Figure size 576x432 with 1 Axes>"
            ]
          },
          "metadata": {
            "needs_background": "light"
          },
          "output_type": "display_data"
        }
      ],
      "source": [
        "days_in_week = ['Monday','Tuesday','Wednesday','Thursday','Friday','Saturday','Sunday']\n",
        "trips_df['created_day'] = pd.Categorical(trips_df['created_day'], ordered=True, categories=days_in_week)\n",
        "draw_bar(feature='created_day', label='Day',bins_range=range(0,7,1))\n"
      ]
    },
    {
      "cell_type": "markdown",
      "metadata": {
        "id": "yrfUpJkNdt2B"
      },
      "source": [
        "### NOTES\n",
        "- Vehicles travel farthest on Friday, Saturday and Sunday\n",
        "- Vehicles travel least on Monday"
      ]
    },
    {
      "cell_type": "code",
      "execution_count": null,
      "metadata": {
        "id": "yKJKLHCDdt2C",
        "outputId": "55fd3635-3e08-431b-e8b4-8b423a976716"
      },
      "outputs": [
        {
          "data": {
            "image/png": "[encoded data removed]",
            "text/plain": [
              "<Figure size 1440x432 with 1 Axes>"
            ]
          },
          "metadata": {
            "needs_background": "light"
          },
          "output_type": "display_data"
        }
      ],
      "source": [
        "draw_bar(feature='created_week', label='Week', bins_range= range(1,53,1), figsize=(20,6))"
      ]
    },
    {
      "cell_type": "markdown",
      "metadata": {
        "id": "dSSF_9ojdt2C"
      },
      "source": [
        "### NOTES\n",
        "- Vehicles travel the most on the 26th week of the year"
      ]
    },
    {
      "cell_type": "code",
      "execution_count": null,
      "metadata": {
        "id": "SIJmMK5Ddt2D",
        "outputId": "416fad12-ac81-4c9e-b44c-6cfb7d471924"
      },
      "outputs": [
        {
          "data": {
            "image/png": "[encoded data removed]",
            "text/plain": [
              "<Figure size 936x432 with 1 Axes>"
            ]
          },
          "metadata": {
            "needs_background": "light"
          },
          "output_type": "display_data"
        }
      ],
      "source": [
        "\n",
        "# convert month column to categorical data with a specific order\n",
        "month_order = ['January', 'February', 'March', 'April', 'May', 'June', 'July', 'August', 'September', 'October', 'November', 'December']\n",
        "trips_df['created_month'] = pd.Categorical(trips_df['created_month'], categories=month_order, ordered=True)\n",
        "draw_bar(feature='created_month', label='Month', figsize=(13,6), bins_range=range(0,12,1))"
      ]
    },
    {
      "cell_type": "markdown",
      "metadata": {
        "id": "ccnOUsLLdt2D"
      },
      "source": [
        "### NOTES\n",
        "- Vehicles travel more mid-year in the months of May, June, July.\n",
        "- Vehicles travel least in November, then suddenly travel more in december .\n",
        "- The distance is gradually increasing from February then peaks at July.\n",
        "- After this it drops."
      ]
    },
    {
      "cell_type": "code",
      "execution_count": null,
      "metadata": {
        "id": "MUnIo15Cdt2E",
        "outputId": "7b0baaa2-60aa-44db-e079-660ef18b9a40"
      },
      "outputs": [
        {
          "data": {
            "image/png": "[encoded data removed]",
            "text/plain": [
              "<Figure size 432x288 with 1 Axes>"
            ]
          },
          "metadata": {
            "needs_background": "light"
          },
          "output_type": "display_data"
        }
      ],
      "source": [
        "# Create a new column to identify whether a trip was on a weekday or weekend\n",
        "trips_df['is_weekend'] = trips_df['created_day'].isin(['Saturday', 'Sunday'])\n",
        "\n",
        "# Group the trips by weekday/weekend and calculate the average distance travelled\n",
        "avg_distance_by_day = trips_df.groupby('is_weekend')['distance_km'].mean()\n",
        "\n",
        "# Visualize the results\n",
        "avg_distance_by_day.plot(kind='bar', title='Average Distance Travelled on Weekdays vs Weekends')\n",
        "plt.xlabel('Weekday or Weekend')\n",
        "plt.ylabel('Average Distance Travelled (km)')\n",
        "plt.xticks((0, 1), ['Weekday', 'Weekend'])\n",
        "plt.show()"
      ]
    },
    {
      "cell_type": "markdown",
      "metadata": {
        "id": "tglUjBL1dt2F"
      },
      "source": [
        "### NOTES\n",
        "- Vehicles travel more distances during the weekends than weekdays"
      ]
    },
    {
      "cell_type": "markdown",
      "metadata": {
        "id": "KvFfu_N3dt2F"
      },
      "source": [
        "## 2. What are the most common destinations for vehicles?"
      ]
    },
    {
      "cell_type": "code",
      "execution_count": null,
      "metadata": {
        "id": "aG-SqIB_dt2G",
        "outputId": "aa97f9d9-00f4-40de-c036-3d189a8943aa"
      },
      "outputs": [
        {
          "name": "stdout",
          "output_type": "stream",
          "text": [
            "                                   destination_address  num_trips  frequency\n",
            "953                        Thika, Kiambu County, Kenya        466   0.097023\n",
            "875                        Ruiru, Kiambu County, Kenya        181   0.037685\n",
            "527        Kiandutu Slums, Thika, Kiambu County, Kenya        175   0.036436\n",
            "217                    A3, Thika, Kiambu County, Kenya        158   0.032896\n",
            "921                        Super Highway, Ruiru, Kenya        123   0.025609\n",
            "528                  Kianyaga, Kirinyaga County, Kenya        116   0.024152\n",
            "317       Eastern By Pass, Ruiru, Kiambu County, Kenya        109   0.022694\n",
            "651             Makongeni, Thika, Kiambu County, Kenya        106   0.022070\n",
            "540  Kiganjo - British American Tobacco Road, Thika...         88   0.018322\n",
            "686           Mitero Road, Ndathi, Nyeri County, Kenya         78   0.016240\n"
          ]
        },
        {
          "data": {
            "image/png": "[encoded data removed]",
            "text/plain": [
              "<Figure size 432x288 with 1 Axes>"
            ]
          },
          "metadata": {
            "needs_background": "light"
          },
          "output_type": "display_data"
        }
      ],
      "source": [
        "# Group trips by destination address\n",
        "# group together all the trips that have \n",
        "#the same ending point. Then, count how many trips there are in each group using the size() function.\n",
        "destination_counts = trips_df.groupby('destination_address').size().reset_index(name='num_trips')\n",
        "\n",
        "\n",
        "#sort destination by number of trips\n",
        "sorted_destinations = destination_counts.sort_values(by='num_trips', ascending= False)\n",
        "\n",
        "#calculate average frequency of trips to each destination e.g 466/4804\n",
        "sorted_destinations['frequency'] = sorted_destinations['num_trips'] / trips_df['created'].nunique()\n",
        "\n",
        "print(sorted_destinations.head(10))\n",
        "\n",
        "# Create a horizontal bar chart(y,x)\n",
        "plt.barh(sorted_destinations['destination_address'].head(10), sorted_destinations['frequency'].head(10), color='blue')\n",
        "\n",
        "# Add labels and title\n",
        "plt.xlabel('Frequency')\n",
        "plt.ylabel('Destination Address')\n",
        "plt.title('Top 10 Destinations and their Frequencies')\n",
        "\n",
        "# Show the plot\n",
        "plt.show()"
      ]
    },
    {
      "cell_type": "markdown",
      "metadata": {
        "id": "W-lqbuG2dt2H"
      },
      "source": [
        "### Group by day of week"
      ]
    },
    {
      "cell_type": "code",
      "execution_count": null,
      "metadata": {
        "id": "p7Puq5mGdt2I",
        "outputId": "21cd1d0e-1946-4b66-c884-8c4bcbb1519d"
      },
      "outputs": [
        {
          "name": "stderr",
          "output_type": "stream",
          "text": [
            "C:\\Users\\lenovo\\AppData\\Local\\Temp\\ipykernel_10708\\1809367058.py:17: SettingWithCopyWarning: \n",
            "A value is trying to be set on a copy of a slice from a DataFrame\n",
            "\n",
            "See the caveats in the documentation: https://pandas.pydata.org/pandas-docs/stable/user_guide/indexing.html#returning-a-view-versus-a-copy\n",
            "  top_destinations.drop('total', axis=1, inplace=True)\n"
          ]
        },
        {
          "data": {
            "image/png": "[encoded data removed]",
            "text/plain": [
              "<Figure size 1080x360 with 1 Axes>"
            ]
          },
          "metadata": {
            "needs_background": "light"
          },
          "output_type": "display_data"
        }
      ],
      "source": [
        "# group trips by destination and day of the week\n",
        "destination_day_counts = trips_df.groupby(['destination_address', 'created_day']).size().reset_index(name='num_trips')\n",
        "\n",
        "# calculate average frequency of trips to each destination on each day of the week\n",
        "destination_day_counts['frequency'] = destination_day_counts['num_trips'] / trips_df['created_day'].nunique()\n",
        "\n",
        "# pivot the table to have days of the week as columns\n",
        "destination_day_pivot = destination_day_counts.pivot(index='destination_address', columns='created_day', values='frequency')\n",
        "\n",
        "# sort destinations by total frequency of trips\n",
        "destination_day_pivot['total'] = destination_day_pivot.sum(axis=1)\n",
        "sorted_destinations = destination_day_pivot.sort_values(by='total', ascending=False)\n",
        "\n",
        "# plot the top 10 destinations by frequency on each day of the week\n",
        "top_destinations = sorted_destinations.head(10)\n",
        "# create a new dataframe with the modified columns\n",
        "top_destinations.drop('total', axis=1, inplace=True)\n",
        "top_destinations.plot(kind='bar', figsize=(15, 5))\n",
        "plt.title('Average Frequency of Trips to Top 10 Destinations by Day of the Week')\n",
        "plt.xlabel('Destination Address')\n",
        "plt.ylabel('Average Frequency')\n",
        "plt.show()"
      ]
    },
    {
      "cell_type": "markdown",
      "metadata": {
        "id": "JCEizCmxdt2J"
      },
      "source": [
        "## 3. Are there any patterns or trends in driver behavior, such as speeding, that could be addressed through training or coaching?"
      ]
    },
    {
      "cell_type": "code",
      "execution_count": null,
      "metadata": {
        "id": "U0kbBnO6dt2J",
        "outputId": "15eec152-53e4-4191-fa8c-612bc52ef1a6"
      },
      "outputs": [
        {
          "data": {
            "image/png": "[encoded data removed]",
            "text/plain": [
              "<Figure size 720x432 with 1 Axes>"
            ]
          },
          "metadata": {
            "needs_background": "light"
          },
          "output_type": "display_data"
        }
      ],
      "source": [
        "speed_limit_kmph = 80\n",
        "trips_df['over_speed_limit'] = trips_df['average_speed'] > speed_limit_kmph\n",
        "\n",
        "\n",
        "# Group the trips by day of week and count the number of trips where the driver exceeded the speed limit\n",
        "speeding_counts = trips_df.groupby(trips_df['created_day'])['over_speed_limit'].sum()\n",
        "\n",
        "# Create a bar chart\n",
        "fig, ax = plt.subplots(figsize=(10, 6))\n",
        "ax.bar(speeding_counts.index, speeding_counts.values)\n",
        "\n",
        "# Set axis labels and title\n",
        "ax.set_xlabel('Day of Week')\n",
        "ax.set_ylabel('Number of Trips Overspeeding')\n",
        "ax.set_title('Number of Trips Overspeeding by Day of Week')\n",
        "\n",
        "# Show the plot\n",
        "plt.show()"
      ]
    },
    {
      "cell_type": "markdown",
      "metadata": {
        "id": "eACVDL0idt2K"
      },
      "source": [
        "- Drivers over speed on Thursdays"
      ]
    },
    {
      "cell_type": "code",
      "execution_count": null,
      "metadata": {
        "id": "ujv6fGnldt2L",
        "outputId": "c84da531-ae46-47e3-f707-58117e573ee3"
      },
      "outputs": [
        {
          "data": {
            "image/png": "[encoded data removed]",
            "text/plain": [
              "<Figure size 1080x432 with 1 Axes>"
            ]
          },
          "metadata": {
            "needs_background": "light"
          },
          "output_type": "display_data"
        }
      ],
      "source": [
        "# Group the trips by day of week and count the number of trips where the driver exceeded the speed limit\n",
        "speeding_counts = trips_df.groupby(trips_df['created_month'])['over_speed_limit'].sum()\n",
        "\n",
        "# Create a bar chart\n",
        "fig, ax = plt.subplots(figsize=(15, 6))\n",
        "ax.bar(speeding_counts.index, speeding_counts.values)\n",
        "\n",
        "# Set axis labels and title\n",
        "ax.set_xlabel('Month')\n",
        "ax.set_ylabel('Number of Trips Overspeeding')\n",
        "ax.set_title('Number of Trips Overspeeding by Month')\n",
        "\n",
        "# Show the plot\n",
        "plt.show()"
      ]
    },
    {
      "cell_type": "markdown",
      "metadata": {
        "id": "h34ARs3adt2L"
      },
      "source": [
        "-Drivers overspeed most on November"
      ]
    },
    {
      "cell_type": "code",
      "execution_count": null,
      "metadata": {
        "id": "_NHwWegMdt2M",
        "outputId": "dc0ce17c-6be2-4abd-bf93-38bbaa745020"
      },
      "outputs": [
        {
          "data": {
            "text/plain": [
              "Text(0.5, 1.0, 'Distribution of Speeds')"
            ]
          },
          "execution_count": 235,
          "metadata": {},
          "output_type": "execute_result"
        },
        {
          "data": {
            "image/png": "[encoded data removed]",
            "text/plain": [
              "<Figure size 432x288 with 1 Axes>"
            ]
          },
          "metadata": {
            "needs_background": "light"
          },
          "output_type": "display_data"
        }
      ],
      "source": [
        "# compare to speed limit\n",
        "speed_limit_kmph = 80\n",
        "trips_df['over_speed_limit'] = trips_df['average_speed'] > speed_limit_kmph\n",
        "\n",
        "\n",
        "# create histogram of speed values\n",
        "plt.hist(trips_df['average_speed'], bins=range(0,101,5))\n",
        "\n",
        "# set x-axis label\n",
        "plt.xlabel('Speed (Km/h)')\n",
        "plt.xticks(range(0,102,10))\n",
        "plt.yticks(range(0,1200,100))\n",
        "\n",
        "# set y-axis label\n",
        "plt.ylabel('Frequency')\n",
        "\n",
        "# set title\n",
        "plt.title('Distribution of Speeds')"
      ]
    },
    {
      "cell_type": "markdown",
      "metadata": {
        "id": "jXK3x40Zdt2N"
      },
      "source": [
        "- The average speed is skewed to the right"
      ]
    },
    {
      "cell_type": "code",
      "execution_count": null,
      "metadata": {
        "id": "jq4n6E3xdt2N",
        "outputId": "1123c5d7-4f75-42b0-e1e4-62b7a3eb4caa"
      },
      "outputs": [
        {
          "name": "stdout",
          "output_type": "stream",
          "text": [
            "False    4789\n",
            "True       14\n",
            "Name: over_speed_limit, dtype: int64\n"
          ]
        }
      ],
      "source": [
        "\n",
        "trips_df_copy2 = trips_df.drop(trips_df.index[4805:])\n",
        "speed_limit_counts = trips_df_copy2['over_speed_limit'].value_counts()\n",
        "print(speed_limit_counts)"
      ]
    },
    {
      "cell_type": "markdown",
      "metadata": {
        "id": "XmiR_md-dt2O"
      },
      "source": [
        "## Merge Assets and trips_df"
      ]
    },
    {
      "cell_type": "code",
      "execution_count": null,
      "metadata": {
        "id": "-JMe6ySPdt2P"
      },
      "outputs": [],
      "source": [
        "assets['make_category'] = assets['make'].apply(lambda x: 'small' if x in ['SUZUKI EVERY', 'BAJAJ', 'PIAGGIO', 'tuk tuk', 'TUK TUK', 'Maruti'] else 'medium')"
      ]
    },
    {
      "cell_type": "code",
      "execution_count": null,
      "metadata": {
        "id": "WarSA_F1dt2P",
        "outputId": "a9096b05-910c-4bd4-afad-ca7cdcfb90d0"
      },
      "outputs": [
        {
          "data": {
            "text/plain": [
              "id                0\n",
              "make              0\n",
              "model            13\n",
              "year             15\n",
              "make_category     0\n",
              "dtype: int64"
            ]
          },
          "execution_count": 238,
          "metadata": {},
          "output_type": "execute_result"
        }
      ],
      "source": [
        "assets.isnull().sum()"
      ]
    },
    {
      "cell_type": "code",
      "execution_count": null,
      "metadata": {
        "id": "TSKItHYZdt2Q"
      },
      "outputs": [],
      "source": [
        "merged_df = pd.merge(trips_df, assets, left_on='asset_id', right_on='id', how='left')"
      ]
    },
    {
      "cell_type": "code",
      "execution_count": null,
      "metadata": {
        "id": "-h06gY2Ldt2Q",
        "outputId": "9d69b4a5-8730-4cf5-ba2d-2e609d39b9a2"
      },
      "outputs": [
        {
          "data": {
            "text/html": [
              "<div>\n",
              "<style scoped>\n",
              "    .dataframe tbody tr th:only-of-type {\n",
              "        vertical-align: middle;\n",
              "    }\n",
              "\n",
              "    .dataframe tbody tr th {\n",
              "        vertical-align: top;\n",
              "    }\n",
              "\n",
              "    .dataframe thead th {\n",
              "        text-align: right;\n",
              "    }\n",
              "</style>\n",
              "<table border=\"1\" class=\"dataframe\">\n",
              "  <thead>\n",
              "    <tr style=\"text-align: right;\">\n",
              "      <th></th>\n",
              "      <th>id_x</th>\n",
              "      <th>created</th>\n",
              "      <th>asset_id</th>\n",
              "      <th>distance</th>\n",
              "      <th>origin_latitude</th>\n",
              "      <th>origin_longitude</th>\n",
              "      <th>origin_time_stamp</th>\n",
              "      <th>origin_address</th>\n",
              "      <th>destination_latitude</th>\n",
              "      <th>destination_longitude</th>\n",
              "      <th>destination_time_stamp</th>\n",
              "      <th>destination_address</th>\n",
              "      <th>point_bearing</th>\n",
              "      <th>point_latitude</th>\n",
              "      <th>point_longitude</th>\n",
              "      <th>point_original_index</th>\n",
              "      <th>point_place_id</th>\n",
              "      <th>duration</th>\n",
              "      <th>created_day</th>\n",
              "      <th>created_week</th>\n",
              "      <th>created_month</th>\n",
              "      <th>distance_km</th>\n",
              "      <th>average_speed</th>\n",
              "      <th>is_weekend</th>\n",
              "      <th>over_speed_limit</th>\n",
              "      <th>id_y</th>\n",
              "      <th>make</th>\n",
              "      <th>model</th>\n",
              "      <th>year</th>\n",
              "      <th>make_category</th>\n",
              "    </tr>\n",
              "  </thead>\n",
              "  <tbody>\n",
              "    <tr>\n",
              "      <th>0</th>\n",
              "      <td>35Ldjpf</td>\n",
              "      <td>2022-03-14 17:31:51.003000+00:00</td>\n",
              "      <td>0ROajub</td>\n",
              "      <td>4321.65</td>\n",
              "      <td>-1.043220</td>\n",
              "      <td>37.067928</td>\n",
              "      <td>2022-03-14 17:31:47+00:00</td>\n",
              "      <td>Thika Garissa Highway, Total, Thika, Kenya</td>\n",
              "      <td>-1.041213</td>\n",
              "      <td>37.092602</td>\n",
              "      <td>2022-03-14 17:54:07+00:00</td>\n",
              "      <td>Kenyatta Highway, Thika, Kiambu County, Kenya</td>\n",
              "      <td>0.000000</td>\n",
              "      <td>-1.040909</td>\n",
              "      <td>37.071567</td>\n",
              "      <td>0</td>\n",
              "      <td>ChIJuy2HBJJOLxgRflFygNiz0W4</td>\n",
              "      <td>0.372222</td>\n",
              "      <td>Monday</td>\n",
              "      <td>11</td>\n",
              "      <td>March</td>\n",
              "      <td>4.32165</td>\n",
              "      <td>11.610403</td>\n",
              "      <td>False</td>\n",
              "      <td>False</td>\n",
              "      <td>0ROajub</td>\n",
              "      <td>HONDA</td>\n",
              "      <td>None</td>\n",
              "      <td>NaN</td>\n",
              "      <td>medium</td>\n",
              "    </tr>\n",
              "    <tr>\n",
              "      <th>1</th>\n",
              "      <td>agWTdy5</td>\n",
              "      <td>2023-03-07 08:53:55.607000+00:00</td>\n",
              "      <td>0gMAW5w</td>\n",
              "      <td>24703.24</td>\n",
              "      <td>-1.305577</td>\n",
              "      <td>36.824627</td>\n",
              "      <td>2023-03-07 08:53:51+00:00</td>\n",
              "      <td>Nyayo Stadium, Nairobi, Kenya</td>\n",
              "      <td>-1.430601</td>\n",
              "      <td>36.687973</td>\n",
              "      <td>2023-03-07 10:13:47+00:00</td>\n",
              "      <td>Magadi Road, Kiserian, Kajiado County, Kenya</td>\n",
              "      <td>-163.431442</td>\n",
              "      <td>-1.041084</td>\n",
              "      <td>37.071515</td>\n",
              "      <td>0</td>\n",
              "      <td>ChIJuy2HBJJOLxgRflFygNiz0W4</td>\n",
              "      <td>1.332222</td>\n",
              "      <td>Tuesday</td>\n",
              "      <td>10</td>\n",
              "      <td>March</td>\n",
              "      <td>24.70324</td>\n",
              "      <td>18.542882</td>\n",
              "      <td>False</td>\n",
              "      <td>False</td>\n",
              "      <td>0gMAW5w</td>\n",
              "      <td>TOYOTA</td>\n",
              "      <td>Hiace</td>\n",
              "      <td>2003.0</td>\n",
              "      <td>medium</td>\n",
              "    </tr>\n",
              "    <tr>\n",
              "      <th>2</th>\n",
              "      <td>mcXsPmo</td>\n",
              "      <td>2023-03-07 06:40:53.771000+00:00</td>\n",
              "      <td>0gMAW5w</td>\n",
              "      <td>30689.27</td>\n",
              "      <td>-1.430067</td>\n",
              "      <td>36.688068</td>\n",
              "      <td>2023-03-07 06:40:48+00:00</td>\n",
              "      <td>Magadi Road, Kiserian, Kajiado County, Kenya</td>\n",
              "      <td>-1.305638</td>\n",
              "      <td>36.824879</td>\n",
              "      <td>2023-03-07 08:25:04+00:00</td>\n",
              "      <td>Nyayo Stadium, Nairobi, Kenya</td>\n",
              "      <td>0.000000</td>\n",
              "      <td>-1.041084</td>\n",
              "      <td>37.071515</td>\n",
              "      <td>1</td>\n",
              "      <td>ChIJjRl4E5JOLxgR5QYZp79nAZQ</td>\n",
              "      <td>1.737778</td>\n",
              "      <td>Tuesday</td>\n",
              "      <td>10</td>\n",
              "      <td>March</td>\n",
              "      <td>30.68927</td>\n",
              "      <td>17.660066</td>\n",
              "      <td>False</td>\n",
              "      <td>False</td>\n",
              "      <td>0gMAW5w</td>\n",
              "      <td>TOYOTA</td>\n",
              "      <td>Hiace</td>\n",
              "      <td>2003.0</td>\n",
              "      <td>medium</td>\n",
              "    </tr>\n",
              "    <tr>\n",
              "      <th>3</th>\n",
              "      <td>WRBY3Lt</td>\n",
              "      <td>2023-03-07 05:12:29.007000+00:00</td>\n",
              "      <td>0gMAW5w</td>\n",
              "      <td>24609.34</td>\n",
              "      <td>-1.305490</td>\n",
              "      <td>36.825317</td>\n",
              "      <td>2023-03-07 05:12:26+00:00</td>\n",
              "      <td>Nyayo Stadium, Nairobi, Kenya</td>\n",
              "      <td>-1.429965</td>\n",
              "      <td>36.688194</td>\n",
              "      <td>2023-03-07 06:29:53+00:00</td>\n",
              "      <td>Magadi Road, Kiserian, Kajiado County, Kenya</td>\n",
              "      <td>-72.222748</td>\n",
              "      <td>-1.040909</td>\n",
              "      <td>37.070972</td>\n",
              "      <td>0</td>\n",
              "      <td>ChIJjRl4E5JOLxgR5QYZp79nAZQ</td>\n",
              "      <td>1.290833</td>\n",
              "      <td>Tuesday</td>\n",
              "      <td>10</td>\n",
              "      <td>March</td>\n",
              "      <td>24.60934</td>\n",
              "      <td>19.064692</td>\n",
              "      <td>False</td>\n",
              "      <td>False</td>\n",
              "      <td>0gMAW5w</td>\n",
              "      <td>TOYOTA</td>\n",
              "      <td>Hiace</td>\n",
              "      <td>2003.0</td>\n",
              "      <td>medium</td>\n",
              "    </tr>\n",
              "    <tr>\n",
              "      <th>4</th>\n",
              "      <td>1WaNBeb</td>\n",
              "      <td>2023-03-07 03:15:18.670000+00:00</td>\n",
              "      <td>0gMAW5w</td>\n",
              "      <td>28395.71</td>\n",
              "      <td>-1.397144</td>\n",
              "      <td>36.759830</td>\n",
              "      <td>2023-03-07 03:15:15+00:00</td>\n",
              "      <td>Soronik Road, Nairobi, Kenya</td>\n",
              "      <td>-1.305595</td>\n",
              "      <td>36.825199</td>\n",
              "      <td>2023-03-07 04:59:31+00:00</td>\n",
              "      <td>Gandhi Avenue, Nairobi West, Nairobi, Nairobi ...</td>\n",
              "      <td>0.000000</td>\n",
              "      <td>-1.040909</td>\n",
              "      <td>37.070972</td>\n",
              "      <td>0</td>\n",
              "      <td>ChIJx5QNLpJOLxgRzW-2tUJvBuo</td>\n",
              "      <td>1.737778</td>\n",
              "      <td>Tuesday</td>\n",
              "      <td>10</td>\n",
              "      <td>March</td>\n",
              "      <td>28.39571</td>\n",
              "      <td>16.340242</td>\n",
              "      <td>False</td>\n",
              "      <td>False</td>\n",
              "      <td>0gMAW5w</td>\n",
              "      <td>TOYOTA</td>\n",
              "      <td>Hiace</td>\n",
              "      <td>2003.0</td>\n",
              "      <td>medium</td>\n",
              "    </tr>\n",
              "  </tbody>\n",
              "</table>\n",
              "</div>"
            ],
            "text/plain": [
              "      id_x                          created asset_id  distance  \\\n",
              "0  35Ldjpf 2022-03-14 17:31:51.003000+00:00  0ROajub   4321.65   \n",
              "1  agWTdy5 2023-03-07 08:53:55.607000+00:00  0gMAW5w  24703.24   \n",
              "2  mcXsPmo 2023-03-07 06:40:53.771000+00:00  0gMAW5w  30689.27   \n",
              "3  WRBY3Lt 2023-03-07 05:12:29.007000+00:00  0gMAW5w  24609.34   \n",
              "4  1WaNBeb 2023-03-07 03:15:18.670000+00:00  0gMAW5w  28395.71   \n",
              "\n",
              "   origin_latitude  origin_longitude         origin_time_stamp  \\\n",
              "0        -1.043220         37.067928 2022-03-14 17:31:47+00:00   \n",
              "1        -1.305577         36.824627 2023-03-07 08:53:51+00:00   \n",
              "2        -1.430067         36.688068 2023-03-07 06:40:48+00:00   \n",
              "3        -1.305490         36.825317 2023-03-07 05:12:26+00:00   \n",
              "4        -1.397144         36.759830 2023-03-07 03:15:15+00:00   \n",
              "\n",
              "                                 origin_address  destination_latitude  \\\n",
              "0    Thika Garissa Highway, Total, Thika, Kenya             -1.041213   \n",
              "1                 Nyayo Stadium, Nairobi, Kenya             -1.430601   \n",
              "2  Magadi Road, Kiserian, Kajiado County, Kenya             -1.305638   \n",
              "3                 Nyayo Stadium, Nairobi, Kenya             -1.429965   \n",
              "4                  Soronik Road, Nairobi, Kenya             -1.305595   \n",
              "\n",
              "   destination_longitude    destination_time_stamp  \\\n",
              "0              37.092602 2022-03-14 17:54:07+00:00   \n",
              "1              36.687973 2023-03-07 10:13:47+00:00   \n",
              "2              36.824879 2023-03-07 08:25:04+00:00   \n",
              "3              36.688194 2023-03-07 06:29:53+00:00   \n",
              "4              36.825199 2023-03-07 04:59:31+00:00   \n",
              "\n",
              "                                 destination_address  point_bearing  \\\n",
              "0      Kenyatta Highway, Thika, Kiambu County, Kenya       0.000000   \n",
              "1       Magadi Road, Kiserian, Kajiado County, Kenya    -163.431442   \n",
              "2                      Nyayo Stadium, Nairobi, Kenya       0.000000   \n",
              "3       Magadi Road, Kiserian, Kajiado County, Kenya     -72.222748   \n",
              "4  Gandhi Avenue, Nairobi West, Nairobi, Nairobi ...       0.000000   \n",
              "\n",
              "   point_latitude  point_longitude  point_original_index  \\\n",
              "0       -1.040909        37.071567                     0   \n",
              "1       -1.041084        37.071515                     0   \n",
              "2       -1.041084        37.071515                     1   \n",
              "3       -1.040909        37.070972                     0   \n",
              "4       -1.040909        37.070972                     0   \n",
              "\n",
              "                point_place_id  duration created_day  created_week  \\\n",
              "0  ChIJuy2HBJJOLxgRflFygNiz0W4  0.372222      Monday            11   \n",
              "1  ChIJuy2HBJJOLxgRflFygNiz0W4  1.332222     Tuesday            10   \n",
              "2  ChIJjRl4E5JOLxgR5QYZp79nAZQ  1.737778     Tuesday            10   \n",
              "3  ChIJjRl4E5JOLxgR5QYZp79nAZQ  1.290833     Tuesday            10   \n",
              "4  ChIJx5QNLpJOLxgRzW-2tUJvBuo  1.737778     Tuesday            10   \n",
              "\n",
              "  created_month  distance_km  average_speed  is_weekend  over_speed_limit  \\\n",
              "0         March      4.32165      11.610403       False             False   \n",
              "1         March     24.70324      18.542882       False             False   \n",
              "2         March     30.68927      17.660066       False             False   \n",
              "3         March     24.60934      19.064692       False             False   \n",
              "4         March     28.39571      16.340242       False             False   \n",
              "\n",
              "      id_y    make  model    year make_category  \n",
              "0  0ROajub   HONDA   None     NaN        medium  \n",
              "1  0gMAW5w  TOYOTA  Hiace  2003.0        medium  \n",
              "2  0gMAW5w  TOYOTA  Hiace  2003.0        medium  \n",
              "3  0gMAW5w  TOYOTA  Hiace  2003.0        medium  \n",
              "4  0gMAW5w  TOYOTA  Hiace  2003.0        medium  "
            ]
          },
          "execution_count": 240,
          "metadata": {},
          "output_type": "execute_result"
        }
      ],
      "source": [
        "merged_df.head()"
      ]
    },
    {
      "cell_type": "markdown",
      "metadata": {
        "id": "MvhgEAGAdt2R"
      },
      "source": [
        "### Util 3\n",
        "- A function to visualize the features in the merged_df grouped by another feature"
      ]
    },
    {
      "cell_type": "code",
      "execution_count": null,
      "metadata": {
        "id": "Vd2Zx0yodt2S"
      },
      "outputs": [],
      "source": [
        "# visualize the average speed of the vehicles over the make category of the vehicles\n",
        "\n",
        "def draw_merged_graph(feature: str, xlabel: str, feature2:str,ylabel:str):\n",
        "    plt.figure(figsize=(10, 5))\n",
        "    merged_df.groupby(feature)[feature2].mean().plot(kind='bar')\n",
        "    plt.xlabel(xlabel)\n",
        "    plt.ylabel(ylabel)\n",
        "    plt.title('{} of the Vehicles by the {} of the Vehicles'.format(ylabel, xlabel))\n",
        "    plt.show()"
      ]
    },
    {
      "cell_type": "markdown",
      "metadata": {
        "id": "B9AEFrhGdt2S"
      },
      "source": [
        "## 4. Are there any patterns or trends in the types of trips made by vehicles? For example, do smaller vehicles make shorter or longer trips?"
      ]
    },
    {
      "cell_type": "code",
      "execution_count": null,
      "metadata": {
        "id": "E92M-Xpedt2T",
        "outputId": "e7f8f6df-3db4-4bb6-da4c-2aa27ea0400c"
      },
      "outputs": [
        {
          "data": {
            "image/png": "[encoded data removed]",
            "text/plain": [
              "<Figure size 720x360 with 1 Axes>"
            ]
          },
          "metadata": {
            "needs_background": "light"
          },
          "output_type": "display_data"
        }
      ],
      "source": [
        "draw_merged_graph(feature='make', xlabel='Make',feature2='distance_km',ylabel='Average Distance (Km)')"
      ]
    },
    {
      "cell_type": "markdown",
      "metadata": {
        "id": "8bU5tJDHdt2U"
      },
      "source": [
        "### Notes\n",
        "- Toyota Hiace, Tuktuk, Nissan travel most Kilometers"
      ]
    },
    {
      "cell_type": "code",
      "execution_count": null,
      "metadata": {
        "id": "C00pMg4ydt2U"
      },
      "outputs": [],
      "source": [
        "destination_counts = trips_df.groupby('destination_address').size().reset_index(name='num_trips')\n",
        "merged_df = pd.merge(merged_df, destination_counts, on='destination_address')"
      ]
    },
    {
      "cell_type": "code",
      "execution_count": null,
      "metadata": {
        "id": "EdJDCtV4dt2V",
        "outputId": "8b6a2fe0-dc6e-470c-a323-525327697c97"
      },
      "outputs": [
        {
          "data": {
            "image/png": "[encoded data removed]",
            "text/plain": [
              "<Figure size 720x360 with 1 Axes>"
            ]
          },
          "metadata": {
            "needs_background": "light"
          },
          "output_type": "display_data"
        }
      ],
      "source": [
        "draw_merged_graph(feature='make',xlabel='Make', feature2='num_trips',ylabel='Num of Trips')"
      ]
    },
    {
      "cell_type": "markdown",
      "metadata": {
        "id": "XaemUOKEdt2V"
      },
      "source": [
        "### Notes\n",
        "- Noah makes the most trips\n",
        "- Haojin the 2nd most trips.\n",
        "- Car the 3rd most trips.\n",
        "- Maruti makes the least trips"
      ]
    },
    {
      "cell_type": "markdown",
      "metadata": {
        "id": "iwXoGSVzdt2W"
      },
      "source": [
        "### Comparing the above 2 graphs;\n",
        "- Toyota Hiace travels the longest distance (Km) but does not make that much trips, this could imply that it travels long distances occassionally.\n",
        "- Another example; Noah makes the most trips but shorter distances, this could imply that it travels short distances frequently."
      ]
    },
    {
      "cell_type": "code",
      "execution_count": null,
      "metadata": {
        "id": "mHzls6jUdt2W",
        "outputId": "b3451265-9a8e-4b44-9361-e9289425710f"
      },
      "outputs": [
        {
          "data": {
            "image/png": "[encoded data removed]",
            "text/plain": [
              "<Figure size 720x360 with 1 Axes>"
            ]
          },
          "metadata": {
            "needs_background": "light"
          },
          "output_type": "display_data"
        }
      ],
      "source": [
        "draw_merged_graph(feature='make',xlabel='Make',feature2='duration',ylabel='Duration (Hrs)')"
      ]
    },
    {
      "cell_type": "markdown",
      "metadata": {
        "id": "qwNWmClydt2X"
      },
      "source": [
        "### Notes\n",
        "- Tuk tuk take time on the road,maybe its because they cover long distances and generally they are slower in speed than most vehicles."
      ]
    },
    {
      "cell_type": "code",
      "execution_count": null,
      "metadata": {
        "id": "DETlNDyhdt2Y",
        "outputId": "73282015-c935-4ef2-bce4-e2f70ba2fbbf"
      },
      "outputs": [
        {
          "data": {
            "image/png": "[encoded data removed]",
            "text/plain": [
              "<Figure size 720x360 with 1 Axes>"
            ]
          },
          "metadata": {
            "needs_background": "light"
          },
          "output_type": "display_data"
        }
      ],
      "source": [
        "draw_merged_graph(feature='make_category', xlabel='Size', feature2='distance_km',ylabel='Distance (Km)')"
      ]
    },
    {
      "cell_type": "markdown",
      "metadata": {
        "id": "Dx2kRvwmdt2Y"
      },
      "source": [
        "### Notes\n",
        "- Medium vehicles travel kilometers more than small ones"
      ]
    },
    {
      "cell_type": "code",
      "execution_count": null,
      "metadata": {
        "id": "I4sUmBiGdt2Z",
        "outputId": "4cf25d9d-ba7d-4d81-baa1-714363db9ca5"
      },
      "outputs": [
        {
          "data": {
            "image/png": "[encoded data removed]",
            "text/plain": [
              "<Figure size 720x360 with 1 Axes>"
            ]
          },
          "metadata": {
            "needs_background": "light"
          },
          "output_type": "display_data"
        }
      ],
      "source": [
        "draw_merged_graph(feature='make_category',xlabel='Size',feature2='num_trips',ylabel='Num of Trips')"
      ]
    },
    {
      "cell_type": "markdown",
      "metadata": {
        "id": "GuBh2Ou4dt2Z"
      },
      "source": [
        "### Notes\n",
        "- Small vehicles make more trips than medium. "
      ]
    },
    {
      "cell_type": "markdown",
      "metadata": {
        "id": "rILBCyzldt2a"
      },
      "source": [
        "### Comparing the above 2 graphs\n",
        "- Medium Sized vehicles travel more Kilometers but fewer trips.\n",
        "- Small sized vehicles travel less kilometers but more trips."
      ]
    },
    {
      "cell_type": "code",
      "execution_count": null,
      "metadata": {
        "id": "eslyoUCsdt2a",
        "outputId": "c66b1abc-fb3d-4fe5-bd56-c2bcf67103bd"
      },
      "outputs": [
        {
          "name": "stdout",
          "output_type": "stream",
          "text": [
            "[2022 2023]\n"
          ]
        }
      ],
      "source": [
        "unique_years = merged_df['created'].dt.year.unique()\n",
        "print(unique_years)"
      ]
    },
    {
      "cell_type": "code",
      "execution_count": null,
      "metadata": {
        "id": "-M4Vgdsidt2b",
        "outputId": "50b97bf9-a549-4f44-823c-764f00852dc1"
      },
      "outputs": [
        {
          "name": "stdout",
          "output_type": "stream",
          "text": [
            "created_month_num  year  \n",
            "end                2022.0    26.005164\n",
            "start              2022.0    32.897603\n",
            "Name: average_speed, dtype: float64\n"
          ]
        },
        {
          "name": "stderr",
          "output_type": "stream",
          "text": [
            "C:\\Users\\lenovo\\AppData\\Local\\Temp\\ipykernel_10708\\2331123971.py:5: SettingWithCopyWarning: \n",
            "A value is trying to be set on a copy of a slice from a DataFrame.\n",
            "Try using .loc[row_indexer,col_indexer] = value instead\n",
            "\n",
            "See the caveats in the documentation: https://pandas.pydata.org/pandas-docs/stable/user_guide/indexing.html#returning-a-view-versus-a-copy\n",
            "  merged_df_filtered['created_month_num'] = merged_df_filtered['created'].dt.month\n"
          ]
        },
        {
          "data": {
            "text/plain": [
              "Text(0.5, 1.0, 'Average Speed of Vehicles at the Start and End of the Year')"
            ]
          },
          "execution_count": 258,
          "metadata": {},
          "output_type": "execute_result"
        },
        {
          "data": {
            "image/png": "[encoded data removed]",
            "text/plain": [
              "<Figure size 720x432 with 1 Axes>"
            ]
          },
          "metadata": {
            "needs_background": "light"
          },
          "output_type": "display_data"
        }
      ],
      "source": [
        "# Filter the data by years 2022 and 2023\n",
        "merged_df_filtered = merged_df[(merged_df['year'] == 2022) | (merged_df['year'] == 2023)]\n",
        "\n",
        "# Group the filtered data by the month of creation and whether it's at the start or end of the year\n",
        "merged_df_filtered['created_month_num'] = merged_df_filtered['created'].dt.month\n",
        "start_end_speed = merged_df_filtered.groupby([merged_df_filtered['created_month_num'].apply(lambda x: 'start' if x <= 6 else 'end'), 'year'])['average_speed'].mean()\n",
        "\n",
        "print(start_end_speed)\n",
        "# Create a grouped bar chart\n",
        "fig, ax = plt.subplots(figsize=(10, 6))\n",
        "start_end_speed.unstack().plot(kind='bar', ax=ax)\n",
        "\n",
        "# Set chart labels and title\n",
        "ax.set_xlabel('Year')\n",
        "ax.set_ylabel('Average Speed (km/h)')\n",
        "ax.set_title('Average Speed of Vehicles at the Start and End of the Year')"
      ]
    },
    {
      "cell_type": "markdown",
      "metadata": {
        "id": "cQ4nzwsadt2c"
      },
      "source": [
        "### Vehicles are more speedy at the start of the year"
      ]
    },
    {
      "cell_type": "code",
      "execution_count": null,
      "metadata": {
        "id": "bkX7OVptdt2c",
        "outputId": "1622718f-638b-4133-fe0c-ca9bd08eea61"
      },
      "outputs": [
        {
          "data": {
            "image/png": "[encoded data removed]",
            "text/plain": [
              "<Figure size 1440x432 with 1 Axes>"
            ]
          },
          "metadata": {
            "needs_background": "light"
          },
          "output_type": "display_data"
        }
      ],
      "source": [
        "# Get the top 10 assets with the most trips\n",
        "top_assets = merged_df['make'].value_counts().head(10)\n",
        "\n",
        "# Create a bar chart\n",
        "fig, ax = plt.subplots(figsize=(20, 6))\n",
        "ax.barh(top_assets.index, top_assets.values,)\n",
        "\n",
        "# Set chart labels and title\n",
        "ax.set_ylabel('Asset Make')\n",
        "ax.set_xlabel('Number of Trips')\n",
        "ax.set_xticks(range(0,460,50))\n",
        "ax.set_title('Assets with the Most Trips')\n",
        "plt.show()"
      ]
    },
    {
      "cell_type": "code",
      "execution_count": null,
      "metadata": {
        "id": "BQITGt-ndt2d"
      },
      "outputs": [],
      "source": []
    }
  ],
  "metadata": {
    "kernelspec": {
      "display_name": "base",
      "language": "python",
      "name": "python3"
    },
    "language_info": {
      "codemirror_mode": {
        "name": "ipython",
        "version": 3
      },
      "file_extension": ".py",
      "mimetype": "text/x-python",
      "name": "python",
      "nbconvert_exporter": "python",
      "pygments_lexer": "ipython3",
      "version": "3.9.12"
    },
    "orig_nbformat": 4,
    "colab": {
      "provenance": []
    }
  },
  "nbformat": 4,
  "nbformat_minor": 0
}