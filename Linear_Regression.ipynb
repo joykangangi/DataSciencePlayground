{
  "cells": [
    {
      "cell_type": "markdown",
      "metadata": {
        "id": "view-in-github",
        "colab_type": "text"
      },
      "source": [
        "<a href=\"https://colab.research.google.com/github/joykangangi/DataSciencePlayground/blob/main/Linear_Regression.ipynb\" target=\"_parent\"><img src=\"https://colab.research.google.com/assets/colab-badge.svg\" alt=\"Open In Colab\"/></a>"
      ]
    },
    {
      "cell_type": "markdown",
      "metadata": {
        "id": "pLrBwFWAbpvs"
      },
      "source": [
        "# <font color='#31394d'>Practical Exercise: Linear Regression</font>\n",
        "\n",
        "In this notebook, we are going to train a simple linear regression model using the [`scikit-learn`](https://scikit-learn.org) library. Recall that linear regression is a *supervised learning* technique that is suitable for a *continuous/numerical* outcome variable.  \n",
        "\n",
        "We begin by importing modules for data wrangling:\n",
        "\n",
        "<!-- \n",
        "Even though its name is scikit-learn, it is imported as `sklearn`. It has many submodules.\n",
        "For example, the `datasets` submodule has a group of simple datasets that can be used to evaluate models without having to use external files.\n",
        "\n",
        "The Boston Housing dataset is available as a scikitlearn dataset.-->"
      ]
    },
    {
      "cell_type": "code",
      "execution_count": null,
      "metadata": {
        "id": "CJa84PEqbpvz"
      },
      "outputs": [],
      "source": [
        "import pandas as pd\n",
        "import numpy as np\n",
        "import seaborn as sns"
      ]
    },
    {
      "cell_type": "markdown",
      "metadata": {
        "id": "3iXmyphzbpv1"
      },
      "source": [
        "## <font color='#31394d'> Get and Explore the Data </font>\n",
        "\n",
        "We'll be using is the [Boston Housing](https://www.kaggle.com/c/boston-housing) dataset from Kaggle. This dataset consists of information about houses in the Boston area. Our goal is to **predict the typical price of a house**.\n",
        "\n",
        "We import the data from the ``sklearn`` module as follows:"
      ]
    },
    {
      "cell_type": "code",
      "source": [
        "from sklearn import datasets\n",
        "boston = datasets.load_boston()"
      ],
      "metadata": {
        "id": "e4KSiuS-DlnG",
        "colab": {
          "base_uri": "https://localhost:8080/"
        },
        "outputId": "271460b8-8ac7-48dd-82ac-240c4a905657"
      },
      "execution_count": null,
      "outputs": [
        {
          "output_type": "stream",
          "name": "stderr",
          "text": [
            "/usr/local/lib/python3.8/dist-packages/sklearn/utils/deprecation.py:87: FutureWarning: Function load_boston is deprecated; `load_boston` is deprecated in 1.0 and will be removed in 1.2.\n",
            "\n",
            "    The Boston housing prices dataset has an ethical problem. You can refer to\n",
            "    the documentation of this function for further details.\n",
            "\n",
            "    The scikit-learn maintainers therefore strongly discourage the use of this\n",
            "    dataset unless the purpose of the code is to study and educate about\n",
            "    ethical issues in data science and machine learning.\n",
            "\n",
            "    In this special case, you can fetch the dataset from the original\n",
            "    source::\n",
            "\n",
            "        import pandas as pd\n",
            "        import numpy as np\n",
            "\n",
            "\n",
            "        data_url = \"http://lib.stat.cmu.edu/datasets/boston\"\n",
            "        raw_df = pd.read_csv(data_url, sep=\"\\s+\", skiprows=22, header=None)\n",
            "        data = np.hstack([raw_df.values[::2, :], raw_df.values[1::2, :2]])\n",
            "        target = raw_df.values[1::2, 2]\n",
            "\n",
            "    Alternative datasets include the California housing dataset (i.e.\n",
            "    :func:`~sklearn.datasets.fetch_california_housing`) and the Ames housing\n",
            "    dataset. You can load the datasets as follows::\n",
            "\n",
            "        from sklearn.datasets import fetch_california_housing\n",
            "        housing = fetch_california_housing()\n",
            "\n",
            "    for the California housing dataset and::\n",
            "\n",
            "        from sklearn.datasets import fetch_openml\n",
            "        housing = fetch_openml(name=\"house_prices\", as_frame=True)\n",
            "\n",
            "    for the Ames housing dataset.\n",
            "    \n",
            "  warnings.warn(msg, category=FutureWarning)\n"
          ]
        }
      ]
    },
    {
      "cell_type": "markdown",
      "metadata": {
        "id": "lqEZTn6kbpv2"
      },
      "source": [
        "`sklearn` datasets behave like a dictionary. Let's see what this dictionary contains:"
      ]
    },
    {
      "cell_type": "code",
      "execution_count": null,
      "metadata": {
        "colab": {
          "base_uri": "https://localhost:8080/"
        },
        "id": "vcSGlz06bpv2",
        "outputId": "a1d1a1c5-e53f-4a5a-c0bd-d093c1343d45"
      },
      "outputs": [
        {
          "output_type": "execute_result",
          "data": {
            "text/plain": [
              "dict_keys(['data', 'target', 'feature_names', 'DESCR', 'filename', 'data_module'])"
            ]
          },
          "metadata": {},
          "execution_count": 4
        }
      ],
      "source": [
        "boston.keys()"
      ]
    },
    {
      "cell_type": "code",
      "source": [
        "print(boston['feature_names'])"
      ],
      "metadata": {
        "colab": {
          "base_uri": "https://localhost:8080/"
        },
        "id": "K8cKDjiscZhs",
        "outputId": "80d2538b-fdbe-427b-cedc-d5c2bbc1aedf"
      },
      "execution_count": null,
      "outputs": [
        {
          "output_type": "stream",
          "name": "stdout",
          "text": [
            "['CRIM' 'ZN' 'INDUS' 'CHAS' 'NOX' 'RM' 'AGE' 'DIS' 'RAD' 'TAX' 'PTRATIO'\n",
            " 'B' 'LSTAT']\n"
          ]
        }
      ]
    },
    {
      "cell_type": "markdown",
      "metadata": {
        "id": "9tB_gDKJbpv2"
      },
      "source": [
        "The `DESCR` key includes a description of the dataset:"
      ]
    },
    {
      "cell_type": "code",
      "execution_count": null,
      "metadata": {
        "colab": {
          "base_uri": "https://localhost:8080/"
        },
        "id": "sOCPZEFPbpv3",
        "outputId": "a05934e7-a7dc-41a3-88a2-a74549f61bac"
      },
      "outputs": [
        {
          "output_type": "stream",
          "name": "stdout",
          "text": [
            ".. _boston_dataset:\n",
            "\n",
            "Boston house prices dataset\n",
            "---------------------------\n",
            "\n",
            "**Data Set Characteristics:**  \n",
            "\n",
            "    :Number of Instances: 506 \n",
            "\n",
            "    :Number of Attributes: 13 numeric/categorical predictive. Median Value (attribute 14) is usually the target.\n",
            "\n",
            "    :Attribute Information (in order):\n",
            "        - CRIM     per capita crime rate by town\n",
            "        - ZN       proportion of residential land zoned for lots over 25,000 sq.ft.\n",
            "        - INDUS    proportion of non-retail business acres per town\n",
            "        - CHAS     Charles River dummy variable (= 1 if tract bounds river; 0 otherwise)\n",
            "        - NOX      nitric oxides concentration (parts per 10 million)\n",
            "        - RM       average number of rooms per dwelling\n",
            "        - AGE      proportion of owner-occupied units built prior to 1940\n",
            "        - DIS      weighted distances to five Boston employment centres\n",
            "        - RAD      index of accessibility to radial highways\n",
            "        - TAX      full-value property-tax rate per $10,000\n",
            "        - PTRATIO  pupil-teacher ratio by town\n",
            "        - B        1000(Bk - 0.63)^2 where Bk is the proportion of black people by town\n",
            "        - LSTAT    % lower status of the population\n",
            "        - MEDV     Median value of owner-occupied homes in $1000's\n",
            "\n",
            "    :Missing Attribute Values: None\n",
            "\n",
            "    :Creator: Harrison, D. and Rubinfeld, D.L.\n",
            "\n",
            "This is a copy of UCI ML housing dataset.\n",
            "https://archive.ics.uci.edu/ml/machine-learning-databases/housing/\n",
            "\n",
            "\n",
            "This dataset was taken from the StatLib library which is maintained at Carnegie Mellon University.\n",
            "\n",
            "The Boston house-price data of Harrison, D. and Rubinfeld, D.L. 'Hedonic\n",
            "prices and the demand for clean air', J. Environ. Economics & Management,\n",
            "vol.5, 81-102, 1978.   Used in Belsley, Kuh & Welsch, 'Regression diagnostics\n",
            "...', Wiley, 1980.   N.B. Various transformations are used in the table on\n",
            "pages 244-261 of the latter.\n",
            "\n",
            "The Boston house-price data has been used in many machine learning papers that address regression\n",
            "problems.   \n",
            "     \n",
            ".. topic:: References\n",
            "\n",
            "   - Belsley, Kuh & Welsch, 'Regression diagnostics: Identifying Influential Data and Sources of Collinearity', Wiley, 1980. 244-261.\n",
            "   - Quinlan,R. (1993). Combining Instance-Based and Model-Based Learning. In Proceedings on the Tenth International Conference of Machine Learning, 236-243, University of Massachusetts, Amherst. Morgan Kaufmann.\n",
            "\n"
          ]
        }
      ],
      "source": [
        "print(boston[\"DESCR\"])"
      ]
    },
    {
      "cell_type": "markdown",
      "metadata": {
        "id": "EsC6dn3ybpv3"
      },
      "source": [
        "The `target` key holds the target/outcome variable; in this case, the median house value in thousands of dollars."
      ]
    },
    {
      "cell_type": "code",
      "execution_count": null,
      "metadata": {
        "colab": {
          "base_uri": "https://localhost:8080/"
        },
        "id": "-ODsVObhbpv4",
        "outputId": "b0326f88-1671-4758-ab8b-9c8522af566e"
      },
      "outputs": [
        {
          "output_type": "execute_result",
          "data": {
            "text/plain": [
              "array([24. , 21.6, 34.7, 33.4, 36.2, 28.7, 22.9, 27.1, 16.5, 18.9, 15. ,\n",
              "       18.9, 21.7, 20.4, 18.2, 19.9, 23.1, 17.5, 20.2, 18.2, 13.6, 19.6,\n",
              "       15.2, 14.5, 15.6, 13.9, 16.6, 14.8, 18.4, 21. , 12.7, 14.5, 13.2,\n",
              "       13.1, 13.5, 18.9, 20. , 21. , 24.7, 30.8, 34.9, 26.6, 25.3, 24.7,\n",
              "       21.2, 19.3, 20. , 16.6, 14.4, 19.4, 19.7, 20.5, 25. , 23.4, 18.9,\n",
              "       35.4, 24.7, 31.6, 23.3, 19.6, 18.7, 16. , 22.2, 25. , 33. , 23.5,\n",
              "       19.4, 22. , 17.4, 20.9, 24.2, 21.7, 22.8, 23.4, 24.1, 21.4, 20. ,\n",
              "       20.8, 21.2, 20.3, 28. , 23.9, 24.8, 22.9, 23.9, 26.6, 22.5, 22.2,\n",
              "       23.6, 28.7, 22.6, 22. , 22.9, 25. , 20.6, 28.4, 21.4, 38.7, 43.8,\n",
              "       33.2, 27.5, 26.5, 18.6, 19.3, 20.1, 19.5, 19.5, 20.4, 19.8, 19.4,\n",
              "       21.7, 22.8, 18.8, 18.7, 18.5, 18.3, 21.2, 19.2, 20.4, 19.3, 22. ,\n",
              "       20.3, 20.5, 17.3, 18.8, 21.4, 15.7, 16.2, 18. , 14.3, 19.2, 19.6,\n",
              "       23. , 18.4, 15.6, 18.1, 17.4, 17.1, 13.3, 17.8, 14. , 14.4, 13.4,\n",
              "       15.6, 11.8, 13.8, 15.6, 14.6, 17.8, 15.4, 21.5, 19.6, 15.3, 19.4,\n",
              "       17. , 15.6, 13.1, 41.3, 24.3, 23.3, 27. , 50. , 50. , 50. , 22.7,\n",
              "       25. , 50. , 23.8, 23.8, 22.3, 17.4, 19.1, 23.1, 23.6, 22.6, 29.4,\n",
              "       23.2, 24.6, 29.9, 37.2, 39.8, 36.2, 37.9, 32.5, 26.4, 29.6, 50. ,\n",
              "       32. , 29.8, 34.9, 37. , 30.5, 36.4, 31.1, 29.1, 50. , 33.3, 30.3,\n",
              "       34.6, 34.9, 32.9, 24.1, 42.3, 48.5, 50. , 22.6, 24.4, 22.5, 24.4,\n",
              "       20. , 21.7, 19.3, 22.4, 28.1, 23.7, 25. , 23.3, 28.7, 21.5, 23. ,\n",
              "       26.7, 21.7, 27.5, 30.1, 44.8, 50. , 37.6, 31.6, 46.7, 31.5, 24.3,\n",
              "       31.7, 41.7, 48.3, 29. , 24. , 25.1, 31.5, 23.7, 23.3, 22. , 20.1,\n",
              "       22.2, 23.7, 17.6, 18.5, 24.3, 20.5, 24.5, 26.2, 24.4, 24.8, 29.6,\n",
              "       42.8, 21.9, 20.9, 44. , 50. , 36. , 30.1, 33.8, 43.1, 48.8, 31. ,\n",
              "       36.5, 22.8, 30.7, 50. , 43.5, 20.7, 21.1, 25.2, 24.4, 35.2, 32.4,\n",
              "       32. , 33.2, 33.1, 29.1, 35.1, 45.4, 35.4, 46. , 50. , 32.2, 22. ,\n",
              "       20.1, 23.2, 22.3, 24.8, 28.5, 37.3, 27.9, 23.9, 21.7, 28.6, 27.1,\n",
              "       20.3, 22.5, 29. , 24.8, 22. , 26.4, 33.1, 36.1, 28.4, 33.4, 28.2,\n",
              "       22.8, 20.3, 16.1, 22.1, 19.4, 21.6, 23.8, 16.2, 17.8, 19.8, 23.1,\n",
              "       21. , 23.8, 23.1, 20.4, 18.5, 25. , 24.6, 23. , 22.2, 19.3, 22.6,\n",
              "       19.8, 17.1, 19.4, 22.2, 20.7, 21.1, 19.5, 18.5, 20.6, 19. , 18.7,\n",
              "       32.7, 16.5, 23.9, 31.2, 17.5, 17.2, 23.1, 24.5, 26.6, 22.9, 24.1,\n",
              "       18.6, 30.1, 18.2, 20.6, 17.8, 21.7, 22.7, 22.6, 25. , 19.9, 20.8,\n",
              "       16.8, 21.9, 27.5, 21.9, 23.1, 50. , 50. , 50. , 50. , 50. , 13.8,\n",
              "       13.8, 15. , 13.9, 13.3, 13.1, 10.2, 10.4, 10.9, 11.3, 12.3,  8.8,\n",
              "        7.2, 10.5,  7.4, 10.2, 11.5, 15.1, 23.2,  9.7, 13.8, 12.7, 13.1,\n",
              "       12.5,  8.5,  5. ,  6.3,  5.6,  7.2, 12.1,  8.3,  8.5,  5. , 11.9,\n",
              "       27.9, 17.2, 27.5, 15. , 17.2, 17.9, 16.3,  7. ,  7.2,  7.5, 10.4,\n",
              "        8.8,  8.4, 16.7, 14.2, 20.8, 13.4, 11.7,  8.3, 10.2, 10.9, 11. ,\n",
              "        9.5, 14.5, 14.1, 16.1, 14.3, 11.7, 13.4,  9.6,  8.7,  8.4, 12.8,\n",
              "       10.5, 17.1, 18.4, 15.4, 10.8, 11.8, 14.9, 12.6, 14.1, 13. , 13.4,\n",
              "       15.2, 16.1, 17.8, 14.9, 14.1, 12.7, 13.5, 14.9, 20. , 16.4, 17.7,\n",
              "       19.5, 20.2, 21.4, 19.9, 19. , 19.1, 19.1, 20.1, 19.9, 19.6, 23.2,\n",
              "       29.8, 13.8, 13.3, 16.7, 12. , 14.6, 21.4, 23. , 23.7, 25. , 21.8,\n",
              "       20.6, 21.2, 19.1, 20.6, 15.2,  7. ,  8.1, 13.6, 20.1, 21.8, 24.5,\n",
              "       23.1, 19.7, 18.3, 21.2, 17.5, 16.8, 22.4, 20.6, 23.9, 22. , 11.9])"
            ]
          },
          "metadata": {},
          "execution_count": 7
        }
      ],
      "source": [
        "boston[\"target\"]"
      ]
    },
    {
      "cell_type": "markdown",
      "metadata": {
        "id": "QbEI7kYQbpv4"
      },
      "source": [
        "The names of the features/independent variables are stored under the `feature_names` key:"
      ]
    },
    {
      "cell_type": "code",
      "execution_count": null,
      "metadata": {
        "colab": {
          "base_uri": "https://localhost:8080/"
        },
        "id": "Y9xirwwcbpv4",
        "outputId": "2cc773a7-96eb-4ebc-adef-1c6f1ed8dfb9"
      },
      "outputs": [
        {
          "output_type": "execute_result",
          "data": {
            "text/plain": [
              "array(['CRIM', 'ZN', 'INDUS', 'CHAS', 'NOX', 'RM', 'AGE', 'DIS', 'RAD',\n",
              "       'TAX', 'PTRATIO', 'B', 'LSTAT'], dtype='<U7')"
            ]
          },
          "metadata": {},
          "execution_count": 8
        }
      ],
      "source": [
        "boston[\"feature_names\"]"
      ]
    },
    {
      "cell_type": "markdown",
      "metadata": {
        "id": "WuV_I9eabpv5"
      },
      "source": [
        "Finally, the values of the features are stored under the `data` key:"
      ]
    },
    {
      "cell_type": "code",
      "execution_count": null,
      "metadata": {
        "scrolled": true,
        "colab": {
          "base_uri": "https://localhost:8080/"
        },
        "id": "jDoYLfQybpv5",
        "outputId": "ce23c071-004e-4a6f-ba76-865f6240f834"
      },
      "outputs": [
        {
          "output_type": "execute_result",
          "data": {
            "text/plain": [
              "array([[6.3200e-03, 1.8000e+01, 2.3100e+00, ..., 1.5300e+01, 3.9690e+02,\n",
              "        4.9800e+00],\n",
              "       [2.7310e-02, 0.0000e+00, 7.0700e+00, ..., 1.7800e+01, 3.9690e+02,\n",
              "        9.1400e+00],\n",
              "       [2.7290e-02, 0.0000e+00, 7.0700e+00, ..., 1.7800e+01, 3.9283e+02,\n",
              "        4.0300e+00],\n",
              "       ...,\n",
              "       [6.0760e-02, 0.0000e+00, 1.1930e+01, ..., 2.1000e+01, 3.9690e+02,\n",
              "        5.6400e+00],\n",
              "       [1.0959e-01, 0.0000e+00, 1.1930e+01, ..., 2.1000e+01, 3.9345e+02,\n",
              "        6.4800e+00],\n",
              "       [4.7410e-02, 0.0000e+00, 1.1930e+01, ..., 2.1000e+01, 3.9690e+02,\n",
              "        7.8800e+00]])"
            ]
          },
          "metadata": {},
          "execution_count": 9
        }
      ],
      "source": [
        "boston[\"data\"]"
      ]
    },
    {
      "cell_type": "markdown",
      "metadata": {
        "id": "syaHT6sBbpv5"
      },
      "source": [
        "Let's put the Boston data into a pandas dataframe:"
      ]
    },
    {
      "cell_type": "code",
      "execution_count": null,
      "metadata": {
        "colab": {
          "base_uri": "https://localhost:8080/",
          "height": 206
        },
        "id": "wj3jbIcHbpv5",
        "outputId": "f06f9757-f74c-4363-cb42-4ef4722f7e97"
      },
      "outputs": [
        {
          "output_type": "execute_result",
          "data": {
            "text/plain": [
              "      CRIM    ZN  INDUS  CHAS    NOX     RM   AGE     DIS  RAD    TAX  \\\n",
              "0  0.00632  18.0   2.31   0.0  0.538  6.575  65.2  4.0900  1.0  296.0   \n",
              "1  0.02731   0.0   7.07   0.0  0.469  6.421  78.9  4.9671  2.0  242.0   \n",
              "2  0.02729   0.0   7.07   0.0  0.469  7.185  61.1  4.9671  2.0  242.0   \n",
              "3  0.03237   0.0   2.18   0.0  0.458  6.998  45.8  6.0622  3.0  222.0   \n",
              "4  0.06905   0.0   2.18   0.0  0.458  7.147  54.2  6.0622  3.0  222.0   \n",
              "\n",
              "   PTRATIO       B  LSTAT  PRICE  \n",
              "0     15.3  396.90   4.98   24.0  \n",
              "1     17.8  396.90   9.14   21.6  \n",
              "2     17.8  392.83   4.03   34.7  \n",
              "3     18.7  394.63   2.94   33.4  \n",
              "4     18.7  396.90   5.33   36.2  "
            ],
            "text/html": [
              "\n",
              "  <div id=\"df-dcf3bfdc-0c90-4d4e-b3ae-02367ac8ab38\">\n",
              "    <div class=\"colab-df-container\">\n",
              "      <div>\n",
              "<style scoped>\n",
              "    .dataframe tbody tr th:only-of-type {\n",
              "        vertical-align: middle;\n",
              "    }\n",
              "\n",
              "    .dataframe tbody tr th {\n",
              "        vertical-align: top;\n",
              "    }\n",
              "\n",
              "    .dataframe thead th {\n",
              "        text-align: right;\n",
              "    }\n",
              "</style>\n",
              "<table border=\"1\" class=\"dataframe\">\n",
              "  <thead>\n",
              "    <tr style=\"text-align: right;\">\n",
              "      <th></th>\n",
              "      <th>CRIM</th>\n",
              "      <th>ZN</th>\n",
              "      <th>INDUS</th>\n",
              "      <th>CHAS</th>\n",
              "      <th>NOX</th>\n",
              "      <th>RM</th>\n",
              "      <th>AGE</th>\n",
              "      <th>DIS</th>\n",
              "      <th>RAD</th>\n",
              "      <th>TAX</th>\n",
              "      <th>PTRATIO</th>\n",
              "      <th>B</th>\n",
              "      <th>LSTAT</th>\n",
              "      <th>PRICE</th>\n",
              "    </tr>\n",
              "  </thead>\n",
              "  <tbody>\n",
              "    <tr>\n",
              "      <th>0</th>\n",
              "      <td>0.00632</td>\n",
              "      <td>18.0</td>\n",
              "      <td>2.31</td>\n",
              "      <td>0.0</td>\n",
              "      <td>0.538</td>\n",
              "      <td>6.575</td>\n",
              "      <td>65.2</td>\n",
              "      <td>4.0900</td>\n",
              "      <td>1.0</td>\n",
              "      <td>296.0</td>\n",
              "      <td>15.3</td>\n",
              "      <td>396.90</td>\n",
              "      <td>4.98</td>\n",
              "      <td>24.0</td>\n",
              "    </tr>\n",
              "    <tr>\n",
              "      <th>1</th>\n",
              "      <td>0.02731</td>\n",
              "      <td>0.0</td>\n",
              "      <td>7.07</td>\n",
              "      <td>0.0</td>\n",
              "      <td>0.469</td>\n",
              "      <td>6.421</td>\n",
              "      <td>78.9</td>\n",
              "      <td>4.9671</td>\n",
              "      <td>2.0</td>\n",
              "      <td>242.0</td>\n",
              "      <td>17.8</td>\n",
              "      <td>396.90</td>\n",
              "      <td>9.14</td>\n",
              "      <td>21.6</td>\n",
              "    </tr>\n",
              "    <tr>\n",
              "      <th>2</th>\n",
              "      <td>0.02729</td>\n",
              "      <td>0.0</td>\n",
              "      <td>7.07</td>\n",
              "      <td>0.0</td>\n",
              "      <td>0.469</td>\n",
              "      <td>7.185</td>\n",
              "      <td>61.1</td>\n",
              "      <td>4.9671</td>\n",
              "      <td>2.0</td>\n",
              "      <td>242.0</td>\n",
              "      <td>17.8</td>\n",
              "      <td>392.83</td>\n",
              "      <td>4.03</td>\n",
              "      <td>34.7</td>\n",
              "    </tr>\n",
              "    <tr>\n",
              "      <th>3</th>\n",
              "      <td>0.03237</td>\n",
              "      <td>0.0</td>\n",
              "      <td>2.18</td>\n",
              "      <td>0.0</td>\n",
              "      <td>0.458</td>\n",
              "      <td>6.998</td>\n",
              "      <td>45.8</td>\n",
              "      <td>6.0622</td>\n",
              "      <td>3.0</td>\n",
              "      <td>222.0</td>\n",
              "      <td>18.7</td>\n",
              "      <td>394.63</td>\n",
              "      <td>2.94</td>\n",
              "      <td>33.4</td>\n",
              "    </tr>\n",
              "    <tr>\n",
              "      <th>4</th>\n",
              "      <td>0.06905</td>\n",
              "      <td>0.0</td>\n",
              "      <td>2.18</td>\n",
              "      <td>0.0</td>\n",
              "      <td>0.458</td>\n",
              "      <td>7.147</td>\n",
              "      <td>54.2</td>\n",
              "      <td>6.0622</td>\n",
              "      <td>3.0</td>\n",
              "      <td>222.0</td>\n",
              "      <td>18.7</td>\n",
              "      <td>396.90</td>\n",
              "      <td>5.33</td>\n",
              "      <td>36.2</td>\n",
              "    </tr>\n",
              "  </tbody>\n",
              "</table>\n",
              "</div>\n",
              "      <button class=\"colab-df-convert\" onclick=\"convertToInteractive('df-dcf3bfdc-0c90-4d4e-b3ae-02367ac8ab38')\"\n",
              "              title=\"Convert this dataframe to an interactive table.\"\n",
              "              style=\"display:none;\">\n",
              "        \n",
              "  <svg xmlns=\"http://www.w3.org/2000/svg\" height=\"24px\"viewBox=\"0 0 24 24\"\n",
              "       width=\"24px\">\n",
              "    <path d=\"M0 0h24v24H0V0z\" fill=\"none\"/>\n",
              "    <path d=\"M18.56 5.44l.94 2.06.94-2.06 2.06-.94-2.06-.94-.94-2.06-.94 2.06-2.06.94zm-11 1L8.5 8.5l.94-2.06 2.06-.94-2.06-.94L8.5 2.5l-.94 2.06-2.06.94zm10 10l.94 2.06.94-2.06 2.06-.94-2.06-.94-.94-2.06-.94 2.06-2.06.94z\"/><path d=\"M17.41 7.96l-1.37-1.37c-.4-.4-.92-.59-1.43-.59-.52 0-1.04.2-1.43.59L10.3 9.45l-7.72 7.72c-.78.78-.78 2.05 0 2.83L4 21.41c.39.39.9.59 1.41.59.51 0 1.02-.2 1.41-.59l7.78-7.78 2.81-2.81c.8-.78.8-2.07 0-2.86zM5.41 20L4 18.59l7.72-7.72 1.47 1.35L5.41 20z\"/>\n",
              "  </svg>\n",
              "      </button>\n",
              "      \n",
              "  <style>\n",
              "    .colab-df-container {\n",
              "      display:flex;\n",
              "      flex-wrap:wrap;\n",
              "      gap: 12px;\n",
              "    }\n",
              "\n",
              "    .colab-df-convert {\n",
              "      background-color: #E8F0FE;\n",
              "      border: none;\n",
              "      border-radius: 50%;\n",
              "      cursor: pointer;\n",
              "      display: none;\n",
              "      fill: #1967D2;\n",
              "      height: 32px;\n",
              "      padding: 0 0 0 0;\n",
              "      width: 32px;\n",
              "    }\n",
              "\n",
              "    .colab-df-convert:hover {\n",
              "      background-color: #E2EBFA;\n",
              "      box-shadow: 0px 1px 2px rgba(60, 64, 67, 0.3), 0px 1px 3px 1px rgba(60, 64, 67, 0.15);\n",
              "      fill: #174EA6;\n",
              "    }\n",
              "\n",
              "    [theme=dark] .colab-df-convert {\n",
              "      background-color: #3B4455;\n",
              "      fill: #D2E3FC;\n",
              "    }\n",
              "\n",
              "    [theme=dark] .colab-df-convert:hover {\n",
              "      background-color: #434B5C;\n",
              "      box-shadow: 0px 1px 3px 1px rgba(0, 0, 0, 0.15);\n",
              "      filter: drop-shadow(0px 1px 2px rgba(0, 0, 0, 0.3));\n",
              "      fill: #FFFFFF;\n",
              "    }\n",
              "  </style>\n",
              "\n",
              "      <script>\n",
              "        const buttonEl =\n",
              "          document.querySelector('#df-dcf3bfdc-0c90-4d4e-b3ae-02367ac8ab38 button.colab-df-convert');\n",
              "        buttonEl.style.display =\n",
              "          google.colab.kernel.accessAllowed ? 'block' : 'none';\n",
              "\n",
              "        async function convertToInteractive(key) {\n",
              "          const element = document.querySelector('#df-dcf3bfdc-0c90-4d4e-b3ae-02367ac8ab38');\n",
              "          const dataTable =\n",
              "            await google.colab.kernel.invokeFunction('convertToInteractive',\n",
              "                                                     [key], {});\n",
              "          if (!dataTable) return;\n",
              "\n",
              "          const docLinkHtml = 'Like what you see? Visit the ' +\n",
              "            '<a target=\"_blank\" href=https://colab.research.google.com/notebooks/data_table.ipynb>data table notebook</a>'\n",
              "            + ' to learn more about interactive tables.';\n",
              "          element.innerHTML = '';\n",
              "          dataTable['output_type'] = 'display_data';\n",
              "          await google.colab.output.renderOutput(dataTable, element);\n",
              "          const docLink = document.createElement('div');\n",
              "          docLink.innerHTML = docLinkHtml;\n",
              "          element.appendChild(docLink);\n",
              "        }\n",
              "      </script>\n",
              "    </div>\n",
              "  </div>\n",
              "  "
            ]
          },
          "metadata": {},
          "execution_count": 10
        }
      ],
      "source": [
        "boston_df = pd.DataFrame(boston[\"data\"], columns=boston[\"feature_names\"])\n",
        "\n",
        "boston_df[\"PRICE\"] = boston[\"target\"]\n",
        "\n",
        "boston_df.head()"
      ]
    },
    {
      "cell_type": "markdown",
      "metadata": {
        "id": "UFMA6gZCbpv6"
      },
      "source": [
        "## <font color='#31394d'> Train/Test Split </font>\n",
        "\n",
        "Before we create the regression model, we need to split the data into training and test subsets. This way, we train on one portion of the data (the \"training set\") and measure model performance on the other portion (the \"test\" set). Usually, the training set is larger than the test set.\n",
        "\n",
        "<!--One way to avoid method overfitting and making sure that the model doesn't memorize the dataset is to do a train test split.-->\n",
        "![title](media/train_test_split.png) \n",
        "\n",
        "\n",
        "![title](media/train_test.png)\n",
        "\n",
        "We can use the `train_test_split` function from the `sklearn` module to easily split the dataset into training and test subsets. \n",
        "\n",
        "`train_test_split` works both with numpy arrays and pandas dataframes. If we pass it with a numpy array, it will return 4 different arrays: an X,y pair for training and another X,y pair for the test dataset. If we pass it a pandas dataframe, it will split the dataframe into two (training and test dataframes). \n",
        "\n",
        "We use the argument `test_size` to define the % size of the test dataset.\n",
        "\n",
        "The full dataset is divided row-wise into training and test sets *at random*. This means that if we run the `train_test_split` twice, we will get different datasets. In order to make sure that we get the same splits again and again, we can fix the *random seed*, that is, the number that numpy uses to start its random number generation (used to calculate the splits). We can use the argument `random_state` to set the random seed for `train_test_split`."
      ]
    },
    {
      "cell_type": "code",
      "execution_count": null,
      "metadata": {
        "colab": {
          "base_uri": "https://localhost:8080/"
        },
        "id": "PPjCJ5g3bpv6",
        "outputId": "c192f4f2-49ed-48e6-b863-b44b81e33378"
      },
      "outputs": [
        {
          "output_type": "stream",
          "name": "stdout",
          "text": [
            "Training set has 404 rows\n",
            "Test set has 102 rows\n",
            "Train set has a shape (404, 14)\n",
            "Test set has a shape (102, 14)\n"
          ]
        }
      ],
      "source": [
        "from sklearn.model_selection import train_test_split\n",
        "\n",
        "\n",
        "train_df, test_df = train_test_split(boston_df, test_size=0.2, random_state=12345)\n",
        "\n",
        "\n",
        "print('Training set has', train_df.shape[0], 'rows')\n",
        "print('Test set has', test_df.shape[0], 'rows')\n",
        "print('Train set has a shape', train_df.shape)\n",
        "print('Test set has a shape', test_df.shape)"
      ]
    },
    {
      "cell_type": "markdown",
      "metadata": {
        "id": "znkUFAX-bpv6"
      },
      "source": [
        "## <font color='#31394d'> Model Fitting </font>"
      ]
    },
    {
      "cell_type": "markdown",
      "metadata": {
        "id": "WT_A0RAebpv6"
      },
      "source": [
        "The algorithms for linear regression are in the `linear_model` submodule of `sklearn`. Let's import the `LinearRegression` class and create (instantiate) an *estimator* object. Note that this is the standard procedure for any machine learning algo available in `sklearn`. "
      ]
    },
    {
      "cell_type": "code",
      "execution_count": null,
      "metadata": {
        "id": "p8sX-Prnbpv7"
      },
      "outputs": [],
      "source": [
        "from sklearn.linear_model import LinearRegression\n",
        "#algo + training data = model\n",
        "model = LinearRegression()"
      ]
    },
    {
      "cell_type": "markdown",
      "metadata": {
        "id": "k-eBNoYtbpv7"
      },
      "source": [
        "We train the model (i.e. estimate its parameters) on the training data with the `fit` method. The `fit` method follows the same structure for pretty much every model in scikit-learn. We pass as arguments the features `X` and outcome variable `y`. The find out more, recall that you can type `?model.fit`.\n",
        "\n",
        "Let's fit a simple linear model with house price as the outcome and number of rooms as the feature:"
      ]
    },
    {
      "cell_type": "code",
      "execution_count": null,
      "metadata": {
        "colab": {
          "base_uri": "https://localhost:8080/"
        },
        "id": "FJVHv4rPbpv7",
        "outputId": "a359d2d3-f3e7-4fe4-e64d-6ab9d3c121c5"
      },
      "outputs": [
        {
          "output_type": "execute_result",
          "data": {
            "text/plain": [
              "LinearRegression()"
            ]
          },
          "metadata": {},
          "execution_count": 13
        }
      ],
      "source": [
        "# train['RM']  is a pandas series | Changing it into 2d from 1d?\n",
        "# train[['RM']] is a pandas dataframe\n",
        "# NB: the fit method expects X to be a dataframe, not a series \n",
        "# X is the features, y is the the label\n",
        "\n",
        "model.fit(X=train_df[[\"RM\"]], y=train_df[\"PRICE\"])"
      ]
    },
    {
      "cell_type": "markdown",
      "metadata": {
        "id": "jShEuxtZbpv7"
      },
      "source": [
        "Now that the linear regression model is trained (fitted), it has two additional attributes: `coef_` is an array containing the estimated coefficients/slopes for each feature, and `intercept_` contains the estimated intercept term."
      ]
    },
    {
      "cell_type": "code",
      "execution_count": null,
      "metadata": {
        "colab": {
          "base_uri": "https://localhost:8080/"
        },
        "id": "GvPOmEShbpv8",
        "outputId": "46c883de-d2f3-4a2f-f7bf-ca9cc48c7dcf"
      },
      "outputs": [
        {
          "output_type": "execute_result",
          "data": {
            "text/plain": [
              "-38.140815462868034"
            ]
          },
          "metadata": {},
          "execution_count": 14
        }
      ],
      "source": [
        "model.intercept_ # theta0 estimate"
      ]
    },
    {
      "cell_type": "code",
      "execution_count": null,
      "metadata": {
        "colab": {
          "base_uri": "https://localhost:8080/"
        },
        "id": "xsBGvrb7bpv8",
        "outputId": "40348e63-9a6f-4792-e081-b916c562fdf9"
      },
      "outputs": [
        {
          "output_type": "execute_result",
          "data": {
            "text/plain": [
              "array([9.63798633])"
            ]
          },
          "metadata": {},
          "execution_count": 15
        }
      ],
      "source": [
        "model.coef_ # theta1 estimate"
      ]
    },
    {
      "cell_type": "markdown",
      "source": [
        "###### For Num of rooms vs Price target\n",
        "- y = c + mx\n",
        "- f(X) = -38.14 + 9.63798x "
      ],
      "metadata": {
        "id": "4Dd83iVtwZEA"
      }
    },
    {
      "cell_type": "code",
      "source": [
        "# plot graph \n",
        "import matplotlib.pyplot as plt\n",
        "plt.plot(train_df['RM'], train_df['PRICE'])\n",
        "plt.title(\"Number of Rooms VS Price\")\n",
        "plt.xlabel(\"Number of Rooms\")\n",
        "plt.ylabel(\"Price\")\n",
        "plt.show()"
      ],
      "metadata": {
        "colab": {
          "base_uri": "https://localhost:8080/",
          "height": 295
        },
        "id": "hH78C_f1yRJe",
        "outputId": "c2c59527-76c5-442a-9c11-4b1e8dd145f1"
      },
      "execution_count": null,
      "outputs": [
        {
          "output_type": "display_data",
          "data": {
            "text/plain": [
              "<Figure size 432x288 with 1 Axes>"
            ],
            "image/png": "[encoded data removed]"
          },
          "metadata": {
            "needs_background": "light"
          }
        }
      ]
    },
    {
      "cell_type": "code",
      "execution_count": null,
      "metadata": {
        "colab": {
          "base_uri": "https://localhost:8080/"
        },
        "id": "HIHsxJJ-bpv8",
        "outputId": "fad134cb-087e-4177-f50c-9ffc49b06f11"
      },
      "outputs": [
        {
          "output_type": "stream",
          "name": "stdout",
          "text": [
            "The estimated regression function is:\n",
            "\n",
            "ave price = -38.14 + 9.64 * rooms\n"
          ]
        }
      ],
      "source": [
        "print('The estimated regression function is:\\n\\nave price =', np.round(model.intercept_,2), '+', np.round(model.coef_[0],2), '* rooms')"
      ]
    },
    {
      "cell_type": "markdown",
      "metadata": {
        "id": "NPklprAXbpv8"
      },
      "source": [
        "🚀 <font color='#d9c4b1'> Exercise: </font> Does the estimated slope make sense to you?\n",
        "    \n",
        "🚀 <font color='#d9c4b1'> Exercise: </font> Does the estimated intercept make sense to you? Hint: How would you interpret it?"
      ]
    },
    {
      "cell_type": "markdown",
      "source": [
        "### My Answers:\n",
        "1. The slope and intercept are okay. The gradient is positive showing there is a positive relation between the House Price and the Number of Rooms. "
      ],
      "metadata": {
        "id": "y9FFEUqn1MzM"
      }
    },
    {
      "cell_type": "markdown",
      "metadata": {
        "id": "N0khm_56bpv8"
      },
      "source": [
        "In practice, we would have *first* produced some plots and done some exploratory analysis before assuming a linear relationship between price and the number of rooms. \n",
        "\n",
        "Let's see what how well our model describes the training data:"
      ]
    },
    {
      "cell_type": "code",
      "source": [
        "#plt.gca().set(xlim=(0,2.6))\n",
        "#sns.regplot(x=train_df[['RM']], y=train_df['PRICE'], scatter = False)\n",
        "#sns.regplot(x=train_df[['RM']], y=train_df['PRICE'], x_estimator= np.mean)"
      ],
      "metadata": {
        "id": "opzAygD42P_V"
      },
      "execution_count": null,
      "outputs": []
    },
    {
      "cell_type": "code",
      "execution_count": null,
      "metadata": {
        "colab": {
          "base_uri": "https://localhost:8080/",
          "height": 296
        },
        "id": "m6T0U6cRbpv8",
        "outputId": "08b9b7b0-2b9c-4cf6-924f-70ee1dc30442"
      },
      "outputs": [
        {
          "output_type": "execute_result",
          "data": {
            "text/plain": [
              "<matplotlib.axes._subplots.AxesSubplot at 0x7f38de33d7c0>"
            ]
          },
          "metadata": {},
          "execution_count": 18
        },
        {
          "output_type": "display_data",
          "data": {
            "text/plain": [
              "<Figure size 432x288 with 1 Axes>"
            ],
            "image/png": "[encoded data removed]"
          },
          "metadata": {
            "needs_background": "light"
          }
        }
      ],
      "source": [
        "#Line of best fit\n",
        "sns.regplot(x=train_df[['RM']], y=train_df['PRICE'])"
      ]
    },
    {
      "cell_type": "markdown",
      "metadata": {
        "id": "UDz8_gZrbpv9"
      },
      "source": [
        "## <font color='#31394d'> Model Evaluation </font>"
      ]
    },
    {
      "cell_type": "markdown",
      "metadata": {
        "id": "vfyPNanObpv9"
      },
      "source": [
        "Once the model is trained, we can use the estimator object's `predict` method to get predicted house prices for the test set:"
      ]
    },
    {
      "cell_type": "code",
      "execution_count": null,
      "metadata": {
        "colab": {
          "base_uri": "https://localhost:8080/"
        },
        "id": "JdY4ebyPbpv9",
        "outputId": "4b121f0f-a57d-437c-deac-470072f6d458"
      },
      "outputs": [
        {
          "output_type": "execute_result",
          "data": {
            "text/plain": [
              "array([21.26773226, 28.08178859, 18.7714938 , 22.01949519, 18.97389151,\n",
              "       17.34507182, 23.7061428 , 23.37845126, 22.09659908, 13.53806722,\n",
              "       26.69391856, 19.71601646, 28.33237623, 18.11611073, 18.99316748,\n",
              "       21.56650983, 19.87022424, 29.72024627, 11.54300405, 17.36434779,\n",
              "       21.07497253, 23.32062334, -0.90927428, 27.21436982, 31.72494742,\n",
              "       25.00727095, 20.14008786, 25.13256477, 16.50656701, 26.90595426,\n",
              "       25.80722382, 24.45790573,  9.69251068, 11.84178163, 16.80534459,\n",
              "       23.7061428 , 24.94944303, 18.42452629, 28.8528275 , 19.77384438,\n",
              "       25.80722382, 15.49457845, 23.01220778, 18.56909608, 27.98540873,\n",
              "       20.3232096 , 24.61211351, 25.40242839, 16.29453131, 13.89467272,\n",
              "       20.86293683, 20.48705536, 23.04112174, 23.31098536, 31.5996536 ,\n",
              "       21.00750663, 24.10130024, 39.62809621, 15.77408005, 32.0911909 ,\n",
              "       20.93040274, 20.78583294, 12.67064845, 22.91582792, 24.1302142 ,\n",
              "       30.35635336, 17.63421141, 37.33425546, 15.76444206, 29.5564005 ,\n",
              "        9.1142315 , 25.75903388, 20.25574369, 25.64337805, 23.59048696,\n",
              "       33.33449114, 25.75903388, 27.22400781, 22.00021922, 19.22447916,\n",
              "       17.39326175, 18.26068052, 24.60247553, 20.72800502, 22.58813638,\n",
              "       17.05593223, 18.44380226,  9.75997658, 20.77619495, 19.72565444,\n",
              "        9.14314546, 26.22165723, 24.22659406, 17.34507182, 18.4148883 ,\n",
              "       42.57732003, 16.86317251, 25.87468972, 21.44121601, 25.1132888 ,\n",
              "       18.29923247, 22.72306819])"
            ]
          },
          "metadata": {},
          "execution_count": 19
        }
      ],
      "source": [
        "y_hat = model.predict(test_df[['RM']])\n",
        "y_hat"
      ]
    },
    {
      "cell_type": "markdown",
      "metadata": {
        "id": "cZgbo4SDbpv9"
      },
      "source": [
        "Let's compute some performance metrics. We can either do this by hand..."
      ]
    },
    {
      "cell_type": "code",
      "execution_count": null,
      "metadata": {
        "colab": {
          "base_uri": "https://localhost:8080/"
        },
        "id": "B5rocXDkbpv9",
        "outputId": "b05a7d15-6638-498b-c92b-a6f6c25fe63d"
      },
      "outputs": [
        {
          "output_type": "execute_result",
          "data": {
            "text/plain": [
              "48.20056297353019"
            ]
          },
          "metadata": {},
          "execution_count": 20
        }
      ],
      "source": [
        "np.mean((test_df['PRICE'] - y_hat)**2) # mean squared error "
      ]
    },
    {
      "cell_type": "markdown",
      "metadata": {
        "id": "_8AVAZbybpv9"
      },
      "source": [
        "...Or we can use the functions available scikit-learn's `metrics` submodule. These functions take the actual values and predicted values of the outcome variable as arguments:"
      ]
    },
    {
      "cell_type": "code",
      "execution_count": null,
      "metadata": {
        "id": "cbrVCVX3bpv9"
      },
      "outputs": [],
      "source": [
        "from sklearn.metrics import mean_squared_error, mean_absolute_error"
      ]
    },
    {
      "cell_type": "code",
      "execution_count": null,
      "metadata": {
        "colab": {
          "base_uri": "https://localhost:8080/"
        },
        "id": "u0j_y2Tvbpv-",
        "outputId": "1413d383-f692-4c9f-d88b-9bbeff81287e"
      },
      "outputs": [
        {
          "output_type": "execute_result",
          "data": {
            "text/plain": [
              "48.20056297353019"
            ]
          },
          "metadata": {},
          "execution_count": 22
        }
      ],
      "source": [
        "mean_squared_error(y_true=test_df['PRICE'], y_pred=y_hat)"
      ]
    },
    {
      "cell_type": "code",
      "execution_count": null,
      "metadata": {
        "colab": {
          "base_uri": "https://localhost:8080/"
        },
        "id": "sLI10JF0bpv-",
        "outputId": "a6056883-d1e2-415b-bafe-49c5babd3f3f"
      },
      "outputs": [
        {
          "output_type": "execute_result",
          "data": {
            "text/plain": [
              "4.199936841471352"
            ]
          },
          "metadata": {},
          "execution_count": 23
        }
      ],
      "source": [
        "mean_absolute_error(y_true=test_df['PRICE'], y_pred=y_hat)"
      ]
    },
    {
      "cell_type": "markdown",
      "metadata": {
        "id": "S62Y-27dbpv-"
      },
      "source": [
        "The magnitudes of the MSE and MAE are dependent on how the outcome variable is measured. They are therefore not comparable across datasets, but are useful for model and feature selection on a given dataset."
      ]
    },
    {
      "cell_type": "markdown",
      "metadata": {
        "id": "z7LQazxXbpv-"
      },
      "source": [
        "Let's visualize the actual price against the predicted price. If the model was perfect, the predicted values would equal the observed values, and all the points would lie on the diagonal line through the origin:"
      ]
    },
    {
      "cell_type": "code",
      "source": [
        "sns.regplot(x=test_df[['PRICE']], y=y_hat) "
      ],
      "metadata": {
        "colab": {
          "base_uri": "https://localhost:8080/",
          "height": 296
        },
        "id": "2Zgi56F86VPU",
        "outputId": "2ba8ede2-862c-49ad-b4b8-5876021f16b2"
      },
      "execution_count": null,
      "outputs": [
        {
          "output_type": "execute_result",
          "data": {
            "text/plain": [
              "<matplotlib.axes._subplots.AxesSubplot at 0x7f38de368e50>"
            ]
          },
          "metadata": {},
          "execution_count": 24
        },
        {
          "output_type": "display_data",
          "data": {
            "text/plain": [
              "<Figure size 432x288 with 1 Axes>"
            ],
            "image/png": "[encoded data removed]"
          },
          "metadata": {
            "needs_background": "light"
          }
        }
      ]
    },
    {
      "cell_type": "code",
      "execution_count": null,
      "metadata": {
        "colab": {
          "base_uri": "https://localhost:8080/",
          "height": 386
        },
        "id": "efWpZBXSbpv-",
        "outputId": "1ace6dac-4d08-4915-e444-a5df810a76cf"
      },
      "outputs": [
        {
          "output_type": "execute_result",
          "data": {
            "text/plain": [
              "<seaborn.axisgrid.FacetGrid at 0x7f38d94c9ac0>"
            ]
          },
          "metadata": {},
          "execution_count": 41
        },
        {
          "output_type": "display_data",
          "data": {
            "text/plain": [
              "<Figure size 360x360 with 1 Axes>"
            ],
            "image/png": "[encoded data removed]"
          },
          "metadata": {
            "needs_background": "light"
          }
        }
      ],
      "source": [
        "sns.relplot(x=test_df['PRICE'], y=y_hat, kind=\"scatter\")"
      ]
    },
    {
      "cell_type": "markdown",
      "metadata": {
        "id": "cE0buIWibpv-"
      },
      "source": [
        "🚀 <font color='#d9c4b1'> Exercise: </font> Regress price against age and determine if this model is better than the one that uses the number of rooms as a feature. \n",
        "\n",
        "🚀 <font color='#d9c4b1'> Advanced Exercise: </font> Write a function that, for any single feature, regresses price against that feature on the training set, and computes the evaluation metrics on the test set. Then use your function to determine which feature is best at predicting price. "
      ]
    },
    {
      "cell_type": "code",
      "source": [
        "# EXERCISE\n",
        "model.fit(X=train_df[[\"AGE\"]], y=train_df[\"PRICE\"])\n"
      ],
      "metadata": {
        "id": "9x3DkkrK7fnX",
        "colab": {
          "base_uri": "https://localhost:8080/"
        },
        "outputId": "25353f36-b2f9-49d5-d807-7b3b7bc796e5"
      },
      "execution_count": null,
      "outputs": [
        {
          "output_type": "execute_result",
          "data": {
            "text/plain": [
              "LinearRegression()"
            ]
          },
          "metadata": {},
          "execution_count": 29
        }
      ]
    },
    {
      "cell_type": "code",
      "source": [
        "model.coef_"
      ],
      "metadata": {
        "colab": {
          "base_uri": "https://localhost:8080/"
        },
        "id": "sjr53jrpMYN6",
        "outputId": "0c59b54b-5da6-4af0-cdd5-bfddf0a13f22"
      },
      "execution_count": null,
      "outputs": [
        {
          "output_type": "execute_result",
          "data": {
            "text/plain": [
              "array([-0.1310044])"
            ]
          },
          "metadata": {},
          "execution_count": 30
        }
      ]
    },
    {
      "cell_type": "code",
      "source": [
        "model.intercept_"
      ],
      "metadata": {
        "colab": {
          "base_uri": "https://localhost:8080/"
        },
        "id": "Yn6cYK8mMMdf",
        "outputId": "98025f9c-3984-4b64-8766-bc78c4ff7fb7"
      },
      "execution_count": null,
      "outputs": [
        {
          "output_type": "execute_result",
          "data": {
            "text/plain": [
              "31.652068729737714"
            ]
          },
          "metadata": {},
          "execution_count": 31
        }
      ]
    },
    {
      "cell_type": "code",
      "source": [
        "import matplotlib.pyplot as plt\n",
        "plt.plot(train_df['AGE'], train_df['PRICE'])\n",
        "plt.title(\"AGE VS Price\")\n",
        "plt.xlabel(\"AGE\")\n",
        "plt.ylabel(\"Price\")\n",
        "plt.show()"
      ],
      "metadata": {
        "colab": {
          "base_uri": "https://localhost:8080/",
          "height": 295
        },
        "id": "Z3ZL4mOtMsEC",
        "outputId": "5e191a4b-5602-478c-f869-b41b5ee19b13"
      },
      "execution_count": null,
      "outputs": [
        {
          "output_type": "display_data",
          "data": {
            "text/plain": [
              "<Figure size 432x288 with 1 Axes>"
            ],
            "image/png": "[encoded data removed]"
          },
          "metadata": {
            "needs_background": "light"
          }
        }
      ]
    },
    {
      "cell_type": "code",
      "execution_count": null,
      "metadata": {
        "colab": {
          "base_uri": "https://localhost:8080/"
        },
        "outputId": "d065e903-c779-4966-e5de-37b83aa1faaa",
        "id": "82Y0vPvPNCQN"
      },
      "outputs": [
        {
          "output_type": "stream",
          "name": "stdout",
          "text": [
            "The estimated regression function is:\n",
            "\n",
            "ave price = 31.65 + -0.13 * age\n"
          ]
        }
      ],
      "source": [
        "print('The estimated regression function is:\\n\\nave price =', np.round(model.intercept_,2), '+', np.round(model.coef_[0],2), '* age')"
      ]
    },
    {
      "cell_type": "markdown",
      "source": [
        "### The Price vs Age linear function is: f(X) = 31.65 - 0.13*age\n",
        "### The slope is negative showing that the variables are inversely related. As the age increases, the price reduces. "
      ],
      "metadata": {
        "id": "mVScvkO8aVZQ"
      }
    },
    {
      "cell_type": "code",
      "source": [
        "sns.regplot(x=train_df[['AGE']], y=train_df['PRICE'])"
      ],
      "metadata": {
        "colab": {
          "base_uri": "https://localhost:8080/",
          "height": 296
        },
        "id": "PSpYxV_8NBEM",
        "outputId": "39df0342-4697-418c-cda1-5a9877a64bbc"
      },
      "execution_count": null,
      "outputs": [
        {
          "output_type": "execute_result",
          "data": {
            "text/plain": [
              "<matplotlib.axes._subplots.AxesSubplot at 0x7f38dae6dc40>"
            ]
          },
          "metadata": {},
          "execution_count": 33
        },
        {
          "output_type": "display_data",
          "data": {
            "text/plain": [
              "<Figure size 432x288 with 1 Axes>"
            ],
            "image/png": "[encoded data removed]"
          },
          "metadata": {
            "needs_background": "light"
          }
        }
      ]
    },
    {
      "cell_type": "code",
      "source": [
        "#Predict House Price given the AGE \n",
        "y_hat_age = model.predict(test_df[['AGE']])\n",
        "y_hat_age"
      ],
      "metadata": {
        "colab": {
          "base_uri": "https://localhost:8080/"
        },
        "id": "7CKCJUffN9rc",
        "outputId": "14e08b43-2c16-4bf9-eb7b-f2444c732362"
      },
      "execution_count": null,
      "outputs": [
        {
          "output_type": "execute_result",
          "data": {
            "text/plain": [
              "array([19.69136732, 25.44246033, 24.68263483, 23.17608427, 22.35075657,\n",
              "       18.55162907, 22.99267812, 26.97521177, 19.52106161, 19.04944578,\n",
              "       21.18481744, 19.27215325, 24.53853   , 23.83110625, 20.09748095,\n",
              "       24.52542956, 23.09748163, 30.34202476, 18.55162907, 25.33765682,\n",
              "       27.43372716, 19.29835413, 18.55162907, 22.31145525, 28.78307244,\n",
              "       28.84857464, 20.01887831, 28.65206805, 27.87914211, 19.52106161,\n",
              "       20.84420601, 19.28525369, 19.67826688, 19.36385633, 19.20665106,\n",
              "       30.78743971, 27.3158232 , 25.58656517, 28.8354742 , 20.79180425,\n",
              "       27.76123815, 22.40315833, 29.01888036, 29.22848739, 27.99704607,\n",
              "       18.55162907, 28.88787596, 22.59966493, 20.17608359, 19.16734974,\n",
              "       18.90534094, 25.9271766 , 20.37259018, 20.07128007, 26.26778803,\n",
              "       20.20228447, 18.69573391, 21.69573459, 26.83110694, 27.18481881,\n",
              "       19.07564666, 21.19791788, 19.33765545, 18.78743699, 19.42935853,\n",
              "       26.85730782, 27.577832  , 24.63023307, 21.63023239, 29.58219926,\n",
              "       18.83983875, 24.30272208, 26.76560474, 21.06691349, 19.07564666,\n",
              "       23.46429394, 28.58656585, 19.75686952, 29.51669707, 20.55599634,\n",
              "       26.37259155, 21.45992668, 18.55162907, 27.45992804, 20.68700074,\n",
              "       22.54726317, 26.16298451, 18.55162907, 23.94901021, 20.39879106,\n",
              "       18.55162907, 27.577832  , 18.70883435, 18.76123611, 28.2721553 ,\n",
              "       19.35075589, 24.57783131, 20.50359458, 26.09748232, 19.12804842,\n",
              "       18.94464226, 22.03634602])"
            ]
          },
          "metadata": {},
          "execution_count": 35
        }
      ]
    },
    {
      "cell_type": "code",
      "source": [
        "mean_squared_error(y_true = test_df['PRICE'], y_pred = y_hat_age)"
      ],
      "metadata": {
        "colab": {
          "base_uri": "https://localhost:8080/"
        },
        "id": "FnKuH29hO5GU",
        "outputId": "ec8d1284-e802-45fa-84f2-f0146abca2b3"
      },
      "execution_count": null,
      "outputs": [
        {
          "output_type": "execute_result",
          "data": {
            "text/plain": [
              "58.070195147093244"
            ]
          },
          "metadata": {},
          "execution_count": 36
        }
      ]
    },
    {
      "cell_type": "code",
      "source": [
        "mean_absolute_error(y_true=test_df['PRICE'], y_pred=y_hat_age)"
      ],
      "metadata": {
        "colab": {
          "base_uri": "https://localhost:8080/"
        },
        "id": "6KOH9pjzPwSu",
        "outputId": "2d75311d-2ddf-4d06-8068-f67a9b5eb6b2"
      },
      "execution_count": null,
      "outputs": [
        {
          "output_type": "execute_result",
          "data": {
            "text/plain": [
              "5.380907587002128"
            ]
          },
          "metadata": {},
          "execution_count": 37
        }
      ]
    },
    {
      "cell_type": "code",
      "source": [
        "sns.relplot(x =test_df['PRICE'], y=y_hat_age, kind='scatter')"
      ],
      "metadata": {
        "colab": {
          "base_uri": "https://localhost:8080/",
          "height": 386
        },
        "id": "S3IzWotWQPsL",
        "outputId": "e6011b39-fdbd-431e-8aef-1350ee39e2f8"
      },
      "execution_count": null,
      "outputs": [
        {
          "output_type": "execute_result",
          "data": {
            "text/plain": [
              "<seaborn.axisgrid.FacetGrid at 0x7f38d94c9940>"
            ]
          },
          "metadata": {},
          "execution_count": 40
        },
        {
          "output_type": "display_data",
          "data": {
            "text/plain": [
              "<Figure size 360x360 with 1 Axes>"
            ],
            "image/png": "[encoded data removed]"
          },
          "metadata": {
            "needs_background": "light"
          }
        }
      ]
    },
    {
      "cell_type": "markdown",
      "source": [
        "### Room numbers has a better model compared to AGE. Because AGE has a larger MSE and MAE than Room Numbers. "
      ],
      "metadata": {
        "id": "pU4tqKhLSHbU"
      }
    },
    {
      "cell_type": "code",
      "source": [
        "# Advanced Exercise: \n",
        "# Write a function that, for any single feature, regresses price against that feature on the training set,\n",
        "# and computes the evaluation metrics on the test set.\n",
        "# Then use your function to determine which feature is best at predicting price.\n",
        "\n",
        "def regress_feature(feature: str):\n",
        "  model.fit(X=train_df[[feature]], y=train_df[\"PRICE\"])\n",
        "  print(\"The feature is: \",feature)\n",
        "\n",
        "  print(\"The coefficient is : \",model.coef_)\n",
        "  print(\"The intercept is: \",model.intercept_)\n",
        "  print('The estimated regression function is: ave price =', np.round(model.intercept_,2), '+', np.round(model.coef_[0],2), '* ', feature,\"\\n\")\n",
        "   \n",
        "  #plt.figure(figsize=(10,4)) \n",
        "  #plt.subplot(121)\n",
        "  sns.regplot(x=train_df[[feature]], y=train_df['PRICE'])\n",
        "  plt.title(\"Trained Linear Regression of Housing Prices on {} \".format(feature))\n",
        "\n",
        "  plt.subplots_adjust(wspace=0.5)\n",
        "  \n",
        "  y_hat = model.predict(test_df[[feature]])\n",
        "  print(\"The prediced House price given feature {} are:\\n {} \\n\".format(feature, y_hat))\n",
        "\n",
        "  mse = mean_squared_error(y_true = test_df['PRICE'], y_pred = y_hat)\n",
        "  print(\"The Mean Squared Error is: \", mse)\n",
        "  mae = mean_absolute_error(y_true=test_df['PRICE'], y_pred= y_hat)\n",
        "  print(\"The Mean Absolute Error is: \", mae)\n",
        "\n",
        "  #plt.subplot(1,2,2)\n",
        "  sns.relplot(x =test_df['PRICE'], y=y_hat, kind='scatter')\n",
        "  plt.title(\"ReLational Plot for Predicted VS True Price\")  "
      ],
      "metadata": {
        "id": "PUKq-aU5Ynwi"
      },
      "execution_count": 125,
      "outputs": []
    },
    {
      "cell_type": "code",
      "source": [
        "#'CRIM' 'ZN' 'INDUS' 'CHAS' 'NOX' 'RM' 'AGE' 'DIS' 'RAD' 'TAX' 'PTRATIO','B' 'LSTAT']\n",
        "#features = ['CRIM', 'ZN' ,'INDUS' ,'CHAS' ,'NOX' ,'RM' ,'AGE', 'DIS' ,'RAD' ,'TAX' ,'PTRATIO','B' ,'LSTAT']\n",
        "#for feature in features:\n",
        "regress_feature(feature = 'CRIM')"
      ],
      "metadata": {
        "colab": {
          "base_uri": "https://localhost:8080/",
          "height": 1000
        },
        "id": "bMxpjeSxeJQG",
        "outputId": "889ed42d-2767-4284-f534-125e2bb77ce0"
      },
      "execution_count": 126,
      "outputs": [
        {
          "output_type": "stream",
          "name": "stdout",
          "text": [
            "The feature is:  CRIM\n",
            "The coefficient is :  [-0.41846633]\n",
            "The intercept is:  24.161688799210427\n",
            "The estimated regression function is: ave price = 24.16 + -0.42 *  CRIM \n",
            "\n",
            "The prediced House price given feature CRIM are:\n",
            " [23.99107589 24.14320514 22.13812371 21.7245367  17.64378275  2.76307814\n",
            " 24.14208784 24.15308932 23.62878866 22.62247757 24.09947959 22.31111351\n",
            " 24.11428075 19.03664794 24.08998878 24.11652373 24.06162513 24.13841789\n",
            " 12.17020128 22.83782871 24.14267369 24.06757991 18.50310336 24.11384973\n",
            " 24.15620271 23.97681874 23.76173123 24.1437073  24.08678751 21.35054915\n",
            " 23.95539327 23.83821851 22.61463969 23.18624796 23.67973276 24.12475496\n",
            " 24.1338022  24.14734796 24.12374227 24.11253156 24.15540762 20.48248259\n",
            " 24.13463077 24.1313751  24.14703411 23.59975547 24.139259   24.13548025\n",
            " 19.11992274 24.05545275 23.46845747 24.06082586 20.60801831 22.6162466\n",
            " 24.13861038 24.07313714 24.01938514 24.11112551 24.10496987 24.14490411\n",
            " 23.57004018 21.77988305 23.13783559 23.92827665 18.12706952 24.14216316\n",
            " 24.14336416 24.13824632 24.07545126 24.14763252 22.9984612  24.13768976\n",
            " 24.1478543  23.90445754 21.70443357 24.13298201 24.14656124 19.62794086\n",
            " 24.09385122 22.58198677 22.98229166 20.01194649 23.56536591 24.14152291\n",
            " 20.91764155 23.85796594 23.16633734 22.11194864 23.96272061 24.09053278\n",
            " 19.51332294 24.10757273 20.5140224  23.75319452 24.13399888 23.52603007\n",
            " 24.0891644  24.13234176 24.0788241  24.11980869 24.09875983 24.138987  ] \n",
            "\n",
            "The Mean Squared Error is:  57.589005561820215\n",
            "The Mean Absolute Error is:  5.652562523617268\n"
          ]
        },
        {
          "output_type": "display_data",
          "data": {
            "text/plain": [
              "<Figure size 432x288 with 1 Axes>"
            ],
            "image/png": "[encoded data removed]"
          },
          "metadata": {
            "needs_background": "light"
          }
        },
        {
          "output_type": "display_data",
          "data": {
            "text/plain": [
              "<Figure size 360x360 with 1 Axes>"
            ],
            "image/png": "[encoded data removed]"
          },
          "metadata": {
            "needs_background": "light"
          }
        }
      ]
    },
    {
      "cell_type": "markdown",
      "metadata": {
        "id": "MzXQO3Rbbpv-"
      },
      "source": [
        "## <font color='#31394d'> Cross Validation </font>\n",
        "\n",
        "Cross validation is an alternative approach to evaluate out-of-sample model performance. To do cross validation, we simply split the data into *K* folds, and for each fold, we train the model on the data from the *K*-1 remaining folds and evaluate on the one that was not included in the training set. That way, we get out-of-sample predictions and errors for every data point, so we don't rely on a single test set. \n",
        "\n",
        "For example, a 5 fold cross validation would look like this:\n",
        "\n",
        "![title](media/cross_validation.png)\n",
        "\n",
        "The `cross_val_score` function in `scikit-learn` computes your choice of evaluation metric for each fold. To use this function, we first need to see what \"scoring methods\" are available:"
      ]
    },
    {
      "cell_type": "code",
      "execution_count": null,
      "metadata": {
        "id": "eGJHHcw4bpv_"
      },
      "outputs": [],
      "source": [
        "from sklearn.metrics import SCORERS\n",
        "SCORERS.keys()"
      ]
    },
    {
      "cell_type": "markdown",
      "metadata": {
        "id": "7EMQclqvbpv_"
      },
      "source": [
        "Looks like it defines the evaluation metrics such that \"bigger is better\". So, if we want to use MSE, for example, we need to choose \"neg_mean_squared_error\" (the negative MSE)..."
      ]
    },
    {
      "cell_type": "code",
      "execution_count": null,
      "metadata": {
        "id": "A4t5gwE2bpv_"
      },
      "outputs": [],
      "source": [
        "from sklearn.model_selection import cross_val_score\n",
        "\n",
        "model = LinearRegression()\n",
        "\n",
        "cv_scores = cross_val_score(estimator=model, X=df[['RM']], y=df['PRICE'], scoring=\"neg_mean_squared_error\", cv=5)\n",
        "cv_scores"
      ]
    },
    {
      "cell_type": "markdown",
      "metadata": {
        "id": "8P0u_XQ2bpv_"
      },
      "source": [
        "Note that running this function again will produce different results since the data are split into folds randomly each time the function is called. \n",
        "\n",
        "The cross-validated MSE for the simple regression model of price against room is therefore:"
      ]
    },
    {
      "cell_type": "code",
      "execution_count": null,
      "metadata": {
        "id": "u0zsAigLbpv_"
      },
      "outputs": [],
      "source": [
        "-cv_scores.mean()"
      ]
    },
    {
      "cell_type": "markdown",
      "metadata": {
        "id": "6XUywq09bpv_"
      },
      "source": [
        "🚀 <font color='#d9c4b1'> Exercise: </font> Compute the CV score for price regressed against another feature in the dataset. Which model is best?"
      ]
    },
    {
      "cell_type": "markdown",
      "metadata": {
        "id": "EQbtIPypbpv_"
      },
      "source": [
        "If we want to get more information about each split, we can use the `cross_validate` function instead. It also accepts multiple scoring functions/evaluation metrics. Think of `cross_val_score` as the simplified version of `cross_validate`..."
      ]
    },
    {
      "cell_type": "code",
      "execution_count": null,
      "metadata": {
        "id": "TY_XZbidbpwA"
      },
      "outputs": [],
      "source": [
        "from sklearn.model_selection import cross_validate\n",
        "scoring_functions = {\"negMSE\": \"neg_mean_squared_error\", \"negMAE\": \"neg_mean_absolute_error\"}\n",
        "cv_info = cross_validate(estimator=model, X=df[['RM']], y=df['PRICE'], scoring=scoring_functions, cv=10, return_train_score=True)\n",
        "cv_df = pd.DataFrame(cv_info)\n",
        "cv_df"
      ]
    },
    {
      "cell_type": "markdown",
      "metadata": {
        "id": "MSeklKbvbpwA"
      },
      "source": [
        "We get results for each one of the folds:\n",
        "- fit time = how long it took to train the model\n",
        "- score time = how long it took to make predictions and compute the score\n",
        "- test and train scores are given for each one of the scoring functions"
      ]
    }
  ],
  "metadata": {
    "kernelspec": {
      "display_name": "Python 3",
      "language": "python",
      "name": "python3"
    },
    "language_info": {
      "codemirror_mode": {
        "name": "ipython",
        "version": 3
      },
      "file_extension": ".py",
      "mimetype": "text/x-python",
      "name": "python",
      "nbconvert_exporter": "python",
      "pygments_lexer": "ipython3",
      "version": "3.8.8"
    },
    "colab": {
      "provenance": [],
      "include_colab_link": true
    }
  },
  "nbformat": 4,
  "nbformat_minor": 0
}