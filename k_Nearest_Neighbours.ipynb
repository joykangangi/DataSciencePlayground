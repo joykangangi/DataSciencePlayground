{
  "cells": [
    {
      "cell_type": "markdown",
      "metadata": {
        "id": "view-in-github",
        "colab_type": "text"
      },
      "source": [
        "<a href=\"https://colab.research.google.com/github/joykangangi/DataSciencePlayground/blob/main/k_Nearest_Neighbours.ipynb\" target=\"_parent\"><img src=\"https://colab.research.google.com/assets/colab-badge.svg\" alt=\"Open In Colab\"/></a>"
      ]
    },
    {
      "cell_type": "markdown",
      "metadata": {
        "id": "hpfitqQUsPeX"
      },
      "source": [
        "# <font color='#31394d'>Practical Exercise: k-Nearest Neighbours</font>\n",
        "\n",
        "In this notebook, we are going to train a k-nearest neighbours model using the [`scikit-learn`](https://scikit-learn.org) library. k-nearest neighbours is a *supervised learning* technique that is suitable for both *regression* (a continuous/numerical outcome) and *classification* (a categorical outcome). In this notebook, we will use it for regression.  \n",
        "\n",
        "We begin by importing modules for data wrangling:\n",
        "\n",
        "<!-- \n",
        "Even though its name is scikit-learn, it is imported as `sklearn`. It has many submodules.\n",
        "For example, the `datasets` submodule has a group of simple datasets that can be used to evaluate models without having to use external files.\n",
        "\n",
        "The Boston Housing dataset is available as a scikitlearn dataset.-->"
      ]
    },
    {
      "cell_type": "code",
      "execution_count": 1,
      "metadata": {
        "id": "T2HhAY0DsPeZ"
      },
      "outputs": [],
      "source": [
        "import pandas as pd\n",
        "import numpy as np\n",
        "import seaborn as sns"
      ]
    },
    {
      "cell_type": "markdown",
      "metadata": {
        "id": "491VzEDEsPea"
      },
      "source": [
        "## <font color='#31394d'> Get and Explore the Data </font>\n",
        "\n",
        "We'll be using is the [Boston Housing](https://www.kaggle.com/c/boston-housing) dataset from Kaggle. This dataset consists of information about houses in the Boston area. Our goal is to **predict the typical price of a house**.\n",
        "\n",
        "We import the data from the ``sklearn`` module as follows:"
      ]
    },
    {
      "cell_type": "code",
      "execution_count": 2,
      "metadata": {
        "colab": {
          "base_uri": "https://localhost:8080/"
        },
        "id": "_3WxoM9usPea",
        "outputId": "1e5c2b00-4d6d-40c5-fc31-bab0b36cffb2"
      },
      "outputs": [
        {
          "output_type": "stream",
          "name": "stderr",
          "text": [
            "/usr/local/lib/python3.8/dist-packages/sklearn/utils/deprecation.py:87: FutureWarning: Function load_boston is deprecated; `load_boston` is deprecated in 1.0 and will be removed in 1.2.\n",
            "\n",
            "    The Boston housing prices dataset has an ethical problem. You can refer to\n",
            "    the documentation of this function for further details.\n",
            "\n",
            "    The scikit-learn maintainers therefore strongly discourage the use of this\n",
            "    dataset unless the purpose of the code is to study and educate about\n",
            "    ethical issues in data science and machine learning.\n",
            "\n",
            "    In this special case, you can fetch the dataset from the original\n",
            "    source::\n",
            "\n",
            "        import pandas as pd\n",
            "        import numpy as np\n",
            "\n",
            "\n",
            "        data_url = \"http://lib.stat.cmu.edu/datasets/boston\"\n",
            "        raw_df = pd.read_csv(data_url, sep=\"\\s+\", skiprows=22, header=None)\n",
            "        data = np.hstack([raw_df.values[::2, :], raw_df.values[1::2, :2]])\n",
            "        target = raw_df.values[1::2, 2]\n",
            "\n",
            "    Alternative datasets include the California housing dataset (i.e.\n",
            "    :func:`~sklearn.datasets.fetch_california_housing`) and the Ames housing\n",
            "    dataset. You can load the datasets as follows::\n",
            "\n",
            "        from sklearn.datasets import fetch_california_housing\n",
            "        housing = fetch_california_housing()\n",
            "\n",
            "    for the California housing dataset and::\n",
            "\n",
            "        from sklearn.datasets import fetch_openml\n",
            "        housing = fetch_openml(name=\"house_prices\", as_frame=True)\n",
            "\n",
            "    for the Ames housing dataset.\n",
            "    \n",
            "  warnings.warn(msg, category=FutureWarning)\n"
          ]
        }
      ],
      "source": [
        "from sklearn import datasets\n",
        "boston = datasets.load_boston()"
      ]
    },
    {
      "cell_type": "markdown",
      "metadata": {
        "id": "rYXxMQR-sPeb"
      },
      "source": [
        "`sklearn` datasets behave like a dictionary. Let's see what this dictionary contains:"
      ]
    },
    {
      "cell_type": "code",
      "execution_count": null,
      "metadata": {
        "id": "lsCkKMVQsPeb",
        "outputId": "4295991f-bd47-4fb4-ab20-8bc951187ce4"
      },
      "outputs": [
        {
          "data": {
            "text/plain": [
              "dict_keys(['data', 'target', 'feature_names', 'DESCR', 'filename', 'data_module'])"
            ]
          },
          "execution_count": 3,
          "metadata": {},
          "output_type": "execute_result"
        }
      ],
      "source": [
        "boston.keys()"
      ]
    },
    {
      "cell_type": "markdown",
      "metadata": {
        "id": "baey3uKMsPeb"
      },
      "source": [
        "The `DESCR` key includes a description of the dataset:"
      ]
    },
    {
      "cell_type": "code",
      "execution_count": null,
      "metadata": {
        "id": "Rudy23WZsPeb",
        "outputId": "48200aa5-4d12-420f-9a28-3cc50ff4d002"
      },
      "outputs": [
        {
          "name": "stdout",
          "output_type": "stream",
          "text": [
            ".. _boston_dataset:\n",
            "\n",
            "Boston house prices dataset\n",
            "---------------------------\n",
            "\n",
            "**Data Set Characteristics:**  \n",
            "\n",
            "    :Number of Instances: 506 \n",
            "\n",
            "    :Number of Attributes: 13 numeric/categorical predictive. Median Value (attribute 14) is usually the target.\n",
            "\n",
            "    :Attribute Information (in order):\n",
            "        - CRIM     per capita crime rate by town\n",
            "        - ZN       proportion of residential land zoned for lots over 25,000 sq.ft.\n",
            "        - INDUS    proportion of non-retail business acres per town\n",
            "        - CHAS     Charles River dummy variable (= 1 if tract bounds river; 0 otherwise)\n",
            "        - NOX      nitric oxides concentration (parts per 10 million)\n",
            "        - RM       average number of rooms per dwelling\n",
            "        - AGE      proportion of owner-occupied units built prior to 1940\n",
            "        - DIS      weighted distances to five Boston employment centres\n",
            "        - RAD      index of accessibility to radial highways\n",
            "        - TAX      full-value property-tax rate per $10,000\n",
            "        - PTRATIO  pupil-teacher ratio by town\n",
            "        - B        1000(Bk - 0.63)^2 where Bk is the proportion of black people by town\n",
            "        - LSTAT    % lower status of the population\n",
            "        - MEDV     Median value of owner-occupied homes in $1000's\n",
            "\n",
            "    :Missing Attribute Values: None\n",
            "\n",
            "    :Creator: Harrison, D. and Rubinfeld, D.L.\n",
            "\n",
            "This is a copy of UCI ML housing dataset.\n",
            "https://archive.ics.uci.edu/ml/machine-learning-databases/housing/\n",
            "\n",
            "\n",
            "This dataset was taken from the StatLib library which is maintained at Carnegie Mellon University.\n",
            "\n",
            "The Boston house-price data of Harrison, D. and Rubinfeld, D.L. 'Hedonic\n",
            "prices and the demand for clean air', J. Environ. Economics & Management,\n",
            "vol.5, 81-102, 1978.   Used in Belsley, Kuh & Welsch, 'Regression diagnostics\n",
            "...', Wiley, 1980.   N.B. Various transformations are used in the table on\n",
            "pages 244-261 of the latter.\n",
            "\n",
            "The Boston house-price data has been used in many machine learning papers that address regression\n",
            "problems.   \n",
            "     \n",
            ".. topic:: References\n",
            "\n",
            "   - Belsley, Kuh & Welsch, 'Regression diagnostics: Identifying Influential Data and Sources of Collinearity', Wiley, 1980. 244-261.\n",
            "   - Quinlan,R. (1993). Combining Instance-Based and Model-Based Learning. In Proceedings on the Tenth International Conference of Machine Learning, 236-243, University of Massachusetts, Amherst. Morgan Kaufmann.\n",
            "\n"
          ]
        }
      ],
      "source": [
        "print(boston[\"DESCR\"])"
      ]
    },
    {
      "cell_type": "markdown",
      "metadata": {
        "id": "FCEVBoSfsPec"
      },
      "source": [
        "The `target` key holds the target/outcome variable; in this case, the median house value in thousands of dollars."
      ]
    },
    {
      "cell_type": "code",
      "execution_count": null,
      "metadata": {
        "id": "eSWXD6MhsPec",
        "outputId": "f265a0e3-d151-4a90-b395-11ed7bed7f07"
      },
      "outputs": [
        {
          "data": {
            "text/plain": [
              "array([24. , 21.6, 34.7, 33.4, 36.2, 28.7, 22.9, 27.1, 16.5, 18.9, 15. ,\n",
              "       18.9, 21.7, 20.4, 18.2, 19.9, 23.1, 17.5, 20.2, 18.2, 13.6, 19.6,\n",
              "       15.2, 14.5, 15.6, 13.9, 16.6, 14.8, 18.4, 21. , 12.7, 14.5, 13.2,\n",
              "       13.1, 13.5, 18.9, 20. , 21. , 24.7, 30.8, 34.9, 26.6, 25.3, 24.7,\n",
              "       21.2, 19.3, 20. , 16.6, 14.4, 19.4, 19.7, 20.5, 25. , 23.4, 18.9,\n",
              "       35.4, 24.7, 31.6, 23.3, 19.6, 18.7, 16. , 22.2, 25. , 33. , 23.5,\n",
              "       19.4, 22. , 17.4, 20.9, 24.2, 21.7, 22.8, 23.4, 24.1, 21.4, 20. ,\n",
              "       20.8, 21.2, 20.3, 28. , 23.9, 24.8, 22.9, 23.9, 26.6, 22.5, 22.2,\n",
              "       23.6, 28.7, 22.6, 22. , 22.9, 25. , 20.6, 28.4, 21.4, 38.7, 43.8,\n",
              "       33.2, 27.5, 26.5, 18.6, 19.3, 20.1, 19.5, 19.5, 20.4, 19.8, 19.4,\n",
              "       21.7, 22.8, 18.8, 18.7, 18.5, 18.3, 21.2, 19.2, 20.4, 19.3, 22. ,\n",
              "       20.3, 20.5, 17.3, 18.8, 21.4, 15.7, 16.2, 18. , 14.3, 19.2, 19.6,\n",
              "       23. , 18.4, 15.6, 18.1, 17.4, 17.1, 13.3, 17.8, 14. , 14.4, 13.4,\n",
              "       15.6, 11.8, 13.8, 15.6, 14.6, 17.8, 15.4, 21.5, 19.6, 15.3, 19.4,\n",
              "       17. , 15.6, 13.1, 41.3, 24.3, 23.3, 27. , 50. , 50. , 50. , 22.7,\n",
              "       25. , 50. , 23.8, 23.8, 22.3, 17.4, 19.1, 23.1, 23.6, 22.6, 29.4,\n",
              "       23.2, 24.6, 29.9, 37.2, 39.8, 36.2, 37.9, 32.5, 26.4, 29.6, 50. ,\n",
              "       32. , 29.8, 34.9, 37. , 30.5, 36.4, 31.1, 29.1, 50. , 33.3, 30.3,\n",
              "       34.6, 34.9, 32.9, 24.1, 42.3, 48.5, 50. , 22.6, 24.4, 22.5, 24.4,\n",
              "       20. , 21.7, 19.3, 22.4, 28.1, 23.7, 25. , 23.3, 28.7, 21.5, 23. ,\n",
              "       26.7, 21.7, 27.5, 30.1, 44.8, 50. , 37.6, 31.6, 46.7, 31.5, 24.3,\n",
              "       31.7, 41.7, 48.3, 29. , 24. , 25.1, 31.5, 23.7, 23.3, 22. , 20.1,\n",
              "       22.2, 23.7, 17.6, 18.5, 24.3, 20.5, 24.5, 26.2, 24.4, 24.8, 29.6,\n",
              "       42.8, 21.9, 20.9, 44. , 50. , 36. , 30.1, 33.8, 43.1, 48.8, 31. ,\n",
              "       36.5, 22.8, 30.7, 50. , 43.5, 20.7, 21.1, 25.2, 24.4, 35.2, 32.4,\n",
              "       32. , 33.2, 33.1, 29.1, 35.1, 45.4, 35.4, 46. , 50. , 32.2, 22. ,\n",
              "       20.1, 23.2, 22.3, 24.8, 28.5, 37.3, 27.9, 23.9, 21.7, 28.6, 27.1,\n",
              "       20.3, 22.5, 29. , 24.8, 22. , 26.4, 33.1, 36.1, 28.4, 33.4, 28.2,\n",
              "       22.8, 20.3, 16.1, 22.1, 19.4, 21.6, 23.8, 16.2, 17.8, 19.8, 23.1,\n",
              "       21. , 23.8, 23.1, 20.4, 18.5, 25. , 24.6, 23. , 22.2, 19.3, 22.6,\n",
              "       19.8, 17.1, 19.4, 22.2, 20.7, 21.1, 19.5, 18.5, 20.6, 19. , 18.7,\n",
              "       32.7, 16.5, 23.9, 31.2, 17.5, 17.2, 23.1, 24.5, 26.6, 22.9, 24.1,\n",
              "       18.6, 30.1, 18.2, 20.6, 17.8, 21.7, 22.7, 22.6, 25. , 19.9, 20.8,\n",
              "       16.8, 21.9, 27.5, 21.9, 23.1, 50. , 50. , 50. , 50. , 50. , 13.8,\n",
              "       13.8, 15. , 13.9, 13.3, 13.1, 10.2, 10.4, 10.9, 11.3, 12.3,  8.8,\n",
              "        7.2, 10.5,  7.4, 10.2, 11.5, 15.1, 23.2,  9.7, 13.8, 12.7, 13.1,\n",
              "       12.5,  8.5,  5. ,  6.3,  5.6,  7.2, 12.1,  8.3,  8.5,  5. , 11.9,\n",
              "       27.9, 17.2, 27.5, 15. , 17.2, 17.9, 16.3,  7. ,  7.2,  7.5, 10.4,\n",
              "        8.8,  8.4, 16.7, 14.2, 20.8, 13.4, 11.7,  8.3, 10.2, 10.9, 11. ,\n",
              "        9.5, 14.5, 14.1, 16.1, 14.3, 11.7, 13.4,  9.6,  8.7,  8.4, 12.8,\n",
              "       10.5, 17.1, 18.4, 15.4, 10.8, 11.8, 14.9, 12.6, 14.1, 13. , 13.4,\n",
              "       15.2, 16.1, 17.8, 14.9, 14.1, 12.7, 13.5, 14.9, 20. , 16.4, 17.7,\n",
              "       19.5, 20.2, 21.4, 19.9, 19. , 19.1, 19.1, 20.1, 19.9, 19.6, 23.2,\n",
              "       29.8, 13.8, 13.3, 16.7, 12. , 14.6, 21.4, 23. , 23.7, 25. , 21.8,\n",
              "       20.6, 21.2, 19.1, 20.6, 15.2,  7. ,  8.1, 13.6, 20.1, 21.8, 24.5,\n",
              "       23.1, 19.7, 18.3, 21.2, 17.5, 16.8, 22.4, 20.6, 23.9, 22. , 11.9])"
            ]
          },
          "execution_count": 5,
          "metadata": {},
          "output_type": "execute_result"
        }
      ],
      "source": [
        "boston[\"target\"] "
      ]
    },
    {
      "cell_type": "markdown",
      "metadata": {
        "id": "COX4o4iUsPec"
      },
      "source": [
        "The names of the features/independent variables are stored under the `feature_names` key:"
      ]
    },
    {
      "cell_type": "code",
      "execution_count": null,
      "metadata": {
        "id": "iXJsX41HsPec",
        "outputId": "8370a09e-070c-43f3-9db6-ac7ab336cdcc"
      },
      "outputs": [
        {
          "data": {
            "text/plain": [
              "array(['CRIM', 'ZN', 'INDUS', 'CHAS', 'NOX', 'RM', 'AGE', 'DIS', 'RAD',\n",
              "       'TAX', 'PTRATIO', 'B', 'LSTAT'], dtype='<U7')"
            ]
          },
          "execution_count": 6,
          "metadata": {},
          "output_type": "execute_result"
        }
      ],
      "source": [
        "boston[\"feature_names\"]"
      ]
    },
    {
      "cell_type": "markdown",
      "metadata": {
        "id": "opza-l6lsPec"
      },
      "source": [
        "Finally, the values of the features are stored as a numpy array under the `data` key:"
      ]
    },
    {
      "cell_type": "code",
      "execution_count": null,
      "metadata": {
        "id": "yLJY9JC2sPed",
        "outputId": "654594ca-22e5-43e3-fdb3-59fcaaf7df0d"
      },
      "outputs": [
        {
          "data": {
            "text/plain": [
              "array([[6.3200e-03, 1.8000e+01, 2.3100e+00, ..., 1.5300e+01, 3.9690e+02,\n",
              "        4.9800e+00],\n",
              "       [2.7310e-02, 0.0000e+00, 7.0700e+00, ..., 1.7800e+01, 3.9690e+02,\n",
              "        9.1400e+00],\n",
              "       [2.7290e-02, 0.0000e+00, 7.0700e+00, ..., 1.7800e+01, 3.9283e+02,\n",
              "        4.0300e+00],\n",
              "       ...,\n",
              "       [6.0760e-02, 0.0000e+00, 1.1930e+01, ..., 2.1000e+01, 3.9690e+02,\n",
              "        5.6400e+00],\n",
              "       [1.0959e-01, 0.0000e+00, 1.1930e+01, ..., 2.1000e+01, 3.9345e+02,\n",
              "        6.4800e+00],\n",
              "       [4.7410e-02, 0.0000e+00, 1.1930e+01, ..., 2.1000e+01, 3.9690e+02,\n",
              "        7.8800e+00]])"
            ]
          },
          "execution_count": 7,
          "metadata": {},
          "output_type": "execute_result"
        }
      ],
      "source": [
        "boston[\"data\"]"
      ]
    },
    {
      "cell_type": "markdown",
      "metadata": {
        "id": "wGL6AWaxsPed"
      },
      "source": [
        "Let's put the Boston data into a pandas dataframe:"
      ]
    },
    {
      "cell_type": "code",
      "execution_count": null,
      "metadata": {
        "id": "HeXDZZv3sPed",
        "outputId": "5abb14f4-24c9-4050-9a78-4dce6742b550"
      },
      "outputs": [
        {
          "data": {
            "text/html": [
              "<div>\n",
              "<style scoped>\n",
              "    .dataframe tbody tr th:only-of-type {\n",
              "        vertical-align: middle;\n",
              "    }\n",
              "\n",
              "    .dataframe tbody tr th {\n",
              "        vertical-align: top;\n",
              "    }\n",
              "\n",
              "    .dataframe thead th {\n",
              "        text-align: right;\n",
              "    }\n",
              "</style>\n",
              "<table border=\"1\" class=\"dataframe\">\n",
              "  <thead>\n",
              "    <tr style=\"text-align: right;\">\n",
              "      <th></th>\n",
              "      <th>CRIM</th>\n",
              "      <th>ZN</th>\n",
              "      <th>INDUS</th>\n",
              "      <th>CHAS</th>\n",
              "      <th>NOX</th>\n",
              "      <th>RM</th>\n",
              "      <th>AGE</th>\n",
              "      <th>DIS</th>\n",
              "      <th>RAD</th>\n",
              "      <th>TAX</th>\n",
              "      <th>PTRATIO</th>\n",
              "      <th>B</th>\n",
              "      <th>LSTAT</th>\n",
              "      <th>PRICE</th>\n",
              "    </tr>\n",
              "  </thead>\n",
              "  <tbody>\n",
              "    <tr>\n",
              "      <th>0</th>\n",
              "      <td>0.00632</td>\n",
              "      <td>18.0</td>\n",
              "      <td>2.31</td>\n",
              "      <td>0.0</td>\n",
              "      <td>0.538</td>\n",
              "      <td>6.575</td>\n",
              "      <td>65.2</td>\n",
              "      <td>4.0900</td>\n",
              "      <td>1.0</td>\n",
              "      <td>296.0</td>\n",
              "      <td>15.3</td>\n",
              "      <td>396.90</td>\n",
              "      <td>4.98</td>\n",
              "      <td>24.0</td>\n",
              "    </tr>\n",
              "    <tr>\n",
              "      <th>1</th>\n",
              "      <td>0.02731</td>\n",
              "      <td>0.0</td>\n",
              "      <td>7.07</td>\n",
              "      <td>0.0</td>\n",
              "      <td>0.469</td>\n",
              "      <td>6.421</td>\n",
              "      <td>78.9</td>\n",
              "      <td>4.9671</td>\n",
              "      <td>2.0</td>\n",
              "      <td>242.0</td>\n",
              "      <td>17.8</td>\n",
              "      <td>396.90</td>\n",
              "      <td>9.14</td>\n",
              "      <td>21.6</td>\n",
              "    </tr>\n",
              "    <tr>\n",
              "      <th>2</th>\n",
              "      <td>0.02729</td>\n",
              "      <td>0.0</td>\n",
              "      <td>7.07</td>\n",
              "      <td>0.0</td>\n",
              "      <td>0.469</td>\n",
              "      <td>7.185</td>\n",
              "      <td>61.1</td>\n",
              "      <td>4.9671</td>\n",
              "      <td>2.0</td>\n",
              "      <td>242.0</td>\n",
              "      <td>17.8</td>\n",
              "      <td>392.83</td>\n",
              "      <td>4.03</td>\n",
              "      <td>34.7</td>\n",
              "    </tr>\n",
              "    <tr>\n",
              "      <th>3</th>\n",
              "      <td>0.03237</td>\n",
              "      <td>0.0</td>\n",
              "      <td>2.18</td>\n",
              "      <td>0.0</td>\n",
              "      <td>0.458</td>\n",
              "      <td>6.998</td>\n",
              "      <td>45.8</td>\n",
              "      <td>6.0622</td>\n",
              "      <td>3.0</td>\n",
              "      <td>222.0</td>\n",
              "      <td>18.7</td>\n",
              "      <td>394.63</td>\n",
              "      <td>2.94</td>\n",
              "      <td>33.4</td>\n",
              "    </tr>\n",
              "    <tr>\n",
              "      <th>4</th>\n",
              "      <td>0.06905</td>\n",
              "      <td>0.0</td>\n",
              "      <td>2.18</td>\n",
              "      <td>0.0</td>\n",
              "      <td>0.458</td>\n",
              "      <td>7.147</td>\n",
              "      <td>54.2</td>\n",
              "      <td>6.0622</td>\n",
              "      <td>3.0</td>\n",
              "      <td>222.0</td>\n",
              "      <td>18.7</td>\n",
              "      <td>396.90</td>\n",
              "      <td>5.33</td>\n",
              "      <td>36.2</td>\n",
              "    </tr>\n",
              "  </tbody>\n",
              "</table>\n",
              "</div>"
            ],
            "text/plain": [
              "      CRIM    ZN  INDUS  CHAS    NOX     RM   AGE     DIS  RAD    TAX  \\\n",
              "0  0.00632  18.0   2.31   0.0  0.538  6.575  65.2  4.0900  1.0  296.0   \n",
              "1  0.02731   0.0   7.07   0.0  0.469  6.421  78.9  4.9671  2.0  242.0   \n",
              "2  0.02729   0.0   7.07   0.0  0.469  7.185  61.1  4.9671  2.0  242.0   \n",
              "3  0.03237   0.0   2.18   0.0  0.458  6.998  45.8  6.0622  3.0  222.0   \n",
              "4  0.06905   0.0   2.18   0.0  0.458  7.147  54.2  6.0622  3.0  222.0   \n",
              "\n",
              "   PTRATIO       B  LSTAT  PRICE  \n",
              "0     15.3  396.90   4.98   24.0  \n",
              "1     17.8  396.90   9.14   21.6  \n",
              "2     17.8  392.83   4.03   34.7  \n",
              "3     18.7  394.63   2.94   33.4  \n",
              "4     18.7  396.90   5.33   36.2  "
            ]
          },
          "execution_count": 8,
          "metadata": {},
          "output_type": "execute_result"
        }
      ],
      "source": [
        "df = pd.DataFrame(boston[\"data\"], columns=boston[\"feature_names\"])\n",
        "\n",
        "df[\"PRICE\"] = boston[\"target\"]\n",
        "\n",
        "df.head()"
      ]
    },
    {
      "cell_type": "markdown",
      "metadata": {
        "id": "orJ8WnCOsPed"
      },
      "source": [
        "## <font color='#31394d'> Training a KNN Model </font>\n",
        "\n",
        "The algorithms for fitting k-nearest neighbours models are in the `neighbors` submodule of `sklearn`. There are `KNeighborsRegressor` and `KNeighborsClassifier` classes for KNN regression and classification, respectively. Since we're dealing with a continuous outcome variable (`PRICE`), we'll import the `KNeighborsRegressor` class and create (instantiate) an *estimator* object. Note that this is the standard procedure for any machine learning algo available in `sklearn`. "
      ]
    },
    {
      "cell_type": "code",
      "execution_count": null,
      "metadata": {
        "id": "HOUidjCssPed"
      },
      "outputs": [],
      "source": [
        "from sklearn.neighbors import KNeighborsRegressor\n",
        "knn = KNeighborsRegressor()"
      ]
    },
    {
      "cell_type": "markdown",
      "metadata": {
        "id": "FOiWVqchsPee"
      },
      "source": [
        "The object that we have called `knn` is our as yet untrained machine learning model. After training, it will be updated to contain all the information that is needed to make predictions on new data. Since we did not specify anything between the brackets in `KNeighborsRegressor()`, the object will be instantiated with the default parameters. It is usually a good idea to inspect these defaults (so that you understand the specifics of the model you are fitting) and to change them if needs be:"
      ]
    },
    {
      "cell_type": "code",
      "execution_count": null,
      "metadata": {
        "id": "_Wz7umSHsPee",
        "outputId": "21fff5b4-e4c7-40b0-d063-8aac0e7125f5"
      },
      "outputs": [
        {
          "name": "stdout",
          "output_type": "stream",
          "text": [
            "\u001b[1;31mType:\u001b[0m        KNeighborsRegressor\n",
            "\u001b[1;31mString form:\u001b[0m KNeighborsRegressor()\n",
            "\u001b[1;31mFile:\u001b[0m        c:\\users\\lenovo\\anaconda3\\lib\\site-packages\\sklearn\\neighbors\\_regression.py\n",
            "\u001b[1;31mDocstring:\u001b[0m  \n",
            "Regression based on k-nearest neighbors.\n",
            "\n",
            "The target is predicted by local interpolation of the targets\n",
            "associated of the nearest neighbors in the training set.\n",
            "\n",
            "Read more in the :ref:`User Guide <regression>`.\n",
            "\n",
            ".. versionadded:: 0.9\n",
            "\n",
            "Parameters\n",
            "----------\n",
            "n_neighbors : int, default=5\n",
            "    Number of neighbors to use by default for :meth:`kneighbors` queries.\n",
            "\n",
            "weights : {'uniform', 'distance'} or callable, default='uniform'\n",
            "    Weight function used in prediction.  Possible values:\n",
            "\n",
            "    - 'uniform' : uniform weights.  All points in each neighborhood\n",
            "      are weighted equally.\n",
            "    - 'distance' : weight points by the inverse of their distance.\n",
            "      in this case, closer neighbors of a query point will have a\n",
            "      greater influence than neighbors which are further away.\n",
            "    - [callable] : a user-defined function which accepts an\n",
            "      array of distances, and returns an array of the same shape\n",
            "      containing the weights.\n",
            "\n",
            "    Uniform weights are used by default.\n",
            "\n",
            "algorithm : {'auto', 'ball_tree', 'kd_tree', 'brute'}, default='auto'\n",
            "    Algorithm used to compute the nearest neighbors:\n",
            "\n",
            "    - 'ball_tree' will use :class:`BallTree`\n",
            "    - 'kd_tree' will use :class:`KDTree`\n",
            "    - 'brute' will use a brute-force search.\n",
            "    - 'auto' will attempt to decide the most appropriate algorithm\n",
            "      based on the values passed to :meth:`fit` method.\n",
            "\n",
            "    Note: fitting on sparse input will override the setting of\n",
            "    this parameter, using brute force.\n",
            "\n",
            "leaf_size : int, default=30\n",
            "    Leaf size passed to BallTree or KDTree.  This can affect the\n",
            "    speed of the construction and query, as well as the memory\n",
            "    required to store the tree.  The optimal value depends on the\n",
            "    nature of the problem.\n",
            "\n",
            "p : int, default=2\n",
            "    Power parameter for the Minkowski metric. When p = 1, this is\n",
            "    equivalent to using manhattan_distance (l1), and euclidean_distance\n",
            "    (l2) for p = 2. For arbitrary p, minkowski_distance (l_p) is used.\n",
            "\n",
            "metric : str or callable, default='minkowski'\n",
            "    The distance metric to use for the tree.  The default metric is\n",
            "    minkowski, and with p=2 is equivalent to the standard Euclidean\n",
            "    metric. See the documentation of :class:`DistanceMetric` for a\n",
            "    list of available metrics.\n",
            "    If metric is \"precomputed\", X is assumed to be a distance matrix and\n",
            "    must be square during fit. X may be a :term:`sparse graph`,\n",
            "    in which case only \"nonzero\" elements may be considered neighbors.\n",
            "\n",
            "metric_params : dict, default=None\n",
            "    Additional keyword arguments for the metric function.\n",
            "\n",
            "n_jobs : int, default=None\n",
            "    The number of parallel jobs to run for neighbors search.\n",
            "    ``None`` means 1 unless in a :obj:`joblib.parallel_backend` context.\n",
            "    ``-1`` means using all processors. See :term:`Glossary <n_jobs>`\n",
            "    for more details.\n",
            "    Doesn't affect :meth:`fit` method.\n",
            "\n",
            "Attributes\n",
            "----------\n",
            "effective_metric_ : str or callable\n",
            "    The distance metric to use. It will be same as the `metric` parameter\n",
            "    or a synonym of it, e.g. 'euclidean' if the `metric` parameter set to\n",
            "    'minkowski' and `p` parameter set to 2.\n",
            "\n",
            "effective_metric_params_ : dict\n",
            "    Additional keyword arguments for the metric function. For most metrics\n",
            "    will be same with `metric_params` parameter, but may also contain the\n",
            "    `p` parameter value if the `effective_metric_` attribute is set to\n",
            "    'minkowski'.\n",
            "\n",
            "n_features_in_ : int\n",
            "    Number of features seen during :term:`fit`.\n",
            "\n",
            "    .. versionadded:: 0.24\n",
            "\n",
            "feature_names_in_ : ndarray of shape (`n_features_in_`,)\n",
            "    Names of features seen during :term:`fit`. Defined only when `X`\n",
            "    has feature names that are all strings.\n",
            "\n",
            "    .. versionadded:: 1.0\n",
            "\n",
            "n_samples_fit_ : int\n",
            "    Number of samples in the fitted data.\n",
            "\n",
            "See Also\n",
            "--------\n",
            "NearestNeighbors : Unsupervised learner for implementing neighbor searches.\n",
            "RadiusNeighborsRegressor : Regression based on neighbors within a fixed radius.\n",
            "KNeighborsClassifier : Classifier implementing the k-nearest neighbors vote.\n",
            "RadiusNeighborsClassifier : Classifier implementing\n",
            "    a vote among neighbors within a given radius.\n",
            "\n",
            "Notes\n",
            "-----\n",
            "See :ref:`Nearest Neighbors <neighbors>` in the online documentation\n",
            "for a discussion of the choice of ``algorithm`` and ``leaf_size``.\n",
            "\n",
            ".. warning::\n",
            "\n",
            "   Regarding the Nearest Neighbors algorithms, if it is found that two\n",
            "   neighbors, neighbor `k+1` and `k`, have identical distances but\n",
            "   different labels, the results will depend on the ordering of the\n",
            "   training data.\n",
            "\n",
            "https://en.wikipedia.org/wiki/K-nearest_neighbors_algorithm\n",
            "\n",
            "Examples\n",
            "--------\n",
            ">>> X = [[0], [1], [2], [3]]\n",
            ">>> y = [0, 0, 1, 1]\n",
            ">>> from sklearn.neighbors import KNeighborsRegressor\n",
            ">>> neigh = KNeighborsRegressor(n_neighbors=2)\n",
            ">>> neigh.fit(X, y)\n",
            "KNeighborsRegressor(...)\n",
            ">>> print(neigh.predict([[1.5]]))\n",
            "[0.5]\n"
          ]
        }
      ],
      "source": [
        "?knn"
      ]
    },
    {
      "cell_type": "markdown",
      "metadata": {
        "id": "TYUae2P9sPee"
      },
      "source": [
        "🚀 <font color='#d9c4b1'> Exercise: </font> What is the default value of k? ans=5, from the docs"
      ]
    },
    {
      "cell_type": "markdown",
      "metadata": {
        "id": "Pd1vzof_sPee"
      },
      "source": [
        "Let's fit the model to our boston dataset using the `knn` object's `fit` method:"
      ]
    },
    {
      "cell_type": "code",
      "execution_count": null,
      "metadata": {
        "id": "FZ2PxUBNsPef",
        "outputId": "f172226c-84c0-4e1d-fa3f-83af4e92bf31"
      },
      "outputs": [
        {
          "data": {
            "text/plain": [
              "KNeighborsRegressor()"
            ]
          },
          "execution_count": 11,
          "metadata": {},
          "output_type": "execute_result"
        }
      ],
      "source": [
        "knn.fit(X=df.iloc[:,:-1], y=df.PRICE)"
      ]
    },
    {
      "cell_type": "markdown",
      "metadata": {
        "id": "nkHSssmHsPef"
      },
      "source": [
        "The `knn` object has now been updated so it is ready to make predictions:"
      ]
    },
    {
      "cell_type": "code",
      "execution_count": null,
      "metadata": {
        "id": "g68Qz6kasPef",
        "outputId": "aac83994-6c3d-49ec-f2ed-6c05490b7dd8"
      },
      "outputs": [
        {
          "data": {
            "text/plain": [
              "array([21.78, 22.9 , 25.36, 26.06, 27.1 , 27.1 , 20.88, 19.1 , 18.4 ,\n",
              "       19.48, 19.28, 22.  , 24.34, 20.52, 24.66, 21.3 , 30.48, 20.4 ,\n",
              "       15.7 , 23.54, 16.82, 17.64, 18.3 , 17.08, 16.66, 15.1 , 16.78,\n",
              "       14.94, 19.94, 18.34, 14.1 , 16.82, 15.12, 14.1 , 15.12, 26.92,\n",
              "       22.14, 27.4 , 28.44, 31.88, 31.88, 25.36, 25.36, 24.22, 20.68,\n",
              "       20.44, 20.44, 18.1 , 18.1 , 24.  , 21.54, 24.  , 27.16, 27.16,\n",
              "       25.7 , 39.82, 27.08, 38.28, 24.8 , 25.64, 21.78, 33.6 , 21.78,\n",
              "       24.06, 31.74, 25.3 , 26.98, 22.18, 20.42, 20.42, 27.76, 29.5 ,\n",
              "       27.76, 27.76, 22.92, 21.64, 25.82, 21.64, 21.38, 22.02, 24.8 ,\n",
              "       21.88, 25.22, 25.64, 25.98, 25.98, 23.28, 25.98, 24.02, 25.58,\n",
              "       25.58, 25.06, 26.34, 26.04, 30.1 , 24.84, 23.62, 24.32, 28.52,\n",
              "       24.96, 22.1 , 22.2 , 15.34, 19.74, 19.74, 19.66, 19.56, 21.34,\n",
              "       19.66, 19.56, 22.08, 20.1 , 19.6 , 17.54, 20.1 , 17.7 , 20.2 ,\n",
              "       20.1 , 20.66, 19.8 , 22.76, 20.6 , 19.66, 18.52, 19.66, 20.6 ,\n",
              "       18.52, 16.62, 18.04, 16.88, 18.4 , 18.4 , 18.78, 18.56, 20.24,\n",
              "       17.44, 17.8 , 18.4 , 15.88, 17.06, 15.24, 14.76, 15.62, 15.62,\n",
              "       15.62, 18.26, 18.26, 15.62, 17.82, 17.44, 37.22, 20.66, 19.28,\n",
              "       20.24, 20.24, 15.34, 15.34, 37.78, 25.52, 32.08, 20.66, 42.56,\n",
              "       44.54, 44.54, 30.34, 20.24, 37.22, 19.52, 19.98, 20.24, 19.98,\n",
              "       18.74, 21.9 , 24.4 , 23.74, 25.82, 22.34, 24.2 , 23.84, 38.56,\n",
              "       33.24, 38.56, 33.24, 31.6 , 33.24, 38.56, 37.84, 32.72, 33.14,\n",
              "       32.72, 33.14, 32.72, 33.72, 31.8 , 31.8 , 34.9 , 26.78, 25.24,\n",
              "       26.78, 29.38, 29.5 , 25.2 , 25.3 , 41.28, 41.28, 23.76, 23.78,\n",
              "       20.74, 22.9 , 21.1 , 21.1 , 21.1 , 23.9 , 28.84, 22.6 , 27.28,\n",
              "       22.96, 21.9 , 21.1 , 23.38, 25.42, 17.32, 31.8 , 24.46, 37.82,\n",
              "       36.46, 36.14, 35.96, 29.5 , 29.44, 34.  , 41.28, 38.28, 38.16,\n",
              "       28.12, 29.3 , 34.12, 34.12, 21.44, 21.92, 21.44, 21.4 , 22.1 ,\n",
              "       21.74, 20.  , 19.68, 22.16, 20.  , 21.38, 31.22, 31.22, 26.28,\n",
              "       29.56, 31.22, 27.08, 24.86, 38.28, 42.44, 38.9 , 36.48, 38.82,\n",
              "       41.88, 41.88, 37.9 , 41.88, 34.6 , 38.82, 36.16, 32.42, 31.74,\n",
              "       32.58, 28.82, 31.74, 26.88, 31.96, 31.96, 31.96, 31.96, 31.96,\n",
              "       30.58, 31.74, 32.58, 36.62, 42.8 , 24.84, 21.88, 38.64, 21.88,\n",
              "       24.44, 22.62, 34.9 , 34.9 , 31.88, 24.54, 23.28, 24.44, 23.22,\n",
              "       22.94, 25.28, 29.12, 25.42, 25.78, 28.02, 30.58, 31.22, 27.02,\n",
              "       31.96, 27.02, 23.72, 21.6 , 29.  , 21.32, 21.02, 20.94, 21.44,\n",
              "       21.6 , 18.54, 19.52, 20.5 , 21.3 , 23.32, 23.76, 23.32, 22.9 ,\n",
              "       22.06, 23.76, 26.14, 22.06, 19.7 , 21.22, 19.92, 21.86, 22.98,\n",
              "       23.6 , 21.16, 20.78, 25.74, 24.3 , 20.72, 22.64, 24.32, 24.44,\n",
              "       19.8 , 29.36, 26.58, 19.  , 18.84, 26.48, 33.32, 25.78, 25.78,\n",
              "       28.  , 30.46, 42.8 , 20.96, 24.8 , 15.88, 19.06, 20.94, 21.42,\n",
              "       33.8 , 25.6 , 30.94, 25.6 , 27.22, 27.22, 16.98, 14.58, 39.16,\n",
              "       39.16, 26.46, 36.6 , 27.22, 11.36, 10.54, 10.82, 12.36, 12.5 ,\n",
              "        9.6 , 10.22,  6.86, 10.26, 11.62, 11.62, 14.16, 11.  ,  8.94,\n",
              "        9.74, 13.18, 12.5 , 13.52, 21.66, 11.88, 15.58, 11.74, 13.54,\n",
              "       13.98, 12.46,  8.5 , 14.82,  9.54, 11.14, 15.88, 10.5 , 14.28,\n",
              "        6.86, 13.18, 18.56, 14.52, 17.62, 10.34, 12.74, 11.88, 17.18,\n",
              "       10.92, 11.88, 11.2 , 14.58, 11.96, 10.44, 16.98, 16.98, 14.16,\n",
              "       13.58, 12.94, 11.74, 12.56, 10.26, 13.52, 11.58, 14.  , 12.6 ,\n",
              "       13.52, 13.3 , 12.9 , 12.16, 12.1 , 10.56, 12.12, 11.96, 10.6 ,\n",
              "       14.56, 13.84, 13.34, 13.44, 12.44, 16.98, 13.34, 14.48, 16.06,\n",
              "       13.58, 15.54, 17.04, 16.62, 12.54, 12.2 , 13.58, 12.94, 14.84,\n",
              "       20.24, 14.34, 19.82, 20.24, 20.38, 22.28, 17.56, 12.74, 18.56,\n",
              "       23.7 , 21.26, 20.24, 18.6 , 22.72, 23.28, 15.54, 16.06, 14.18,\n",
              "       14.96, 15.88, 16.36, 22.28, 22.72, 23.44, 20.86, 22.8 , 21.34,\n",
              "       21.42, 21.34, 17.04, 11.54, 12.28, 14.86, 18.3 , 22.08, 21.82,\n",
              "       22.02, 18.7 , 18.7 , 20.64, 18.7 , 19.96, 21.18, 23.12, 20.88,\n",
              "       21.9 , 21.42])"
            ]
          },
          "execution_count": 12,
          "metadata": {},
          "output_type": "execute_result"
        }
      ],
      "source": [
        "y_hat = knn.predict(X=df.iloc[:,:-1])\n",
        "y_hat"
      ]
    },
    {
      "cell_type": "markdown",
      "metadata": {
        "id": "b2NXwS5YsPef"
      },
      "source": [
        "Let's see how our predicted prices look relative to the true prices:"
      ]
    },
    {
      "cell_type": "code",
      "execution_count": null,
      "metadata": {
        "id": "l6xV_p01sPeg",
        "outputId": "3b9a514f-dd21-4114-ef1e-2f4c2bb09040"
      },
      "outputs": [
        {
          "data": {
            "text/plain": [
              "<AxesSubplot:xlabel='PRICE'>"
            ]
          },
          "execution_count": 14,
          "metadata": {},
          "output_type": "execute_result"
        },
        {
          "data": {
            "image/png": "[encoded data removed]",
            "text/plain": [
              "<Figure size 432x288 with 1 Axes>"
            ]
          },
          "metadata": {
            "needs_background": "light"
          },
          "output_type": "display_data"
        }
      ],
      "source": [
        "sns.regplot(x=df.PRICE, y = y_hat)"
      ]
    },
    {
      "cell_type": "code",
      "execution_count": null,
      "metadata": {
        "id": "iYxSqm9qsPeg",
        "outputId": "e1624473-6d28-40a9-f5db-e1c08399f7fe"
      },
      "outputs": [
        {
          "data": {
            "text/plain": [
              "<AxesSubplot:xlabel='PRICE'>"
            ]
          },
          "execution_count": 13,
          "metadata": {},
          "output_type": "execute_result"
        },
        {
          "data": {
            "image/png": "[encoded data removed]",
            "text/plain": [
              "<Figure size 432x288 with 1 Axes>"
            ]
          },
          "metadata": {
            "needs_background": "light"
          },
          "output_type": "display_data"
        }
      ],
      "source": [
        "sns.scatterplot(x=df.PRICE, y=y_hat)"
      ]
    },
    {
      "cell_type": "markdown",
      "metadata": {
        "id": "QkQwqutTsPeg"
      },
      "source": [
        "## <font color='#31394d'> Model Evaluation </font>\n",
        "\n",
        "We should never be used to evaulate a model's performance. Instead, we should evaluate our model on new, unseen data. We can do this in one of two ways: (1) split the data into training and test sets or (2) use cross-validation. Let's see how we would implement these"
      ]
    },
    {
      "cell_type": "markdown",
      "metadata": {
        "id": "9RmfQjG0sPeg"
      },
      "source": [
        "### <font color='#31394d'> 1. Train/Test Split </font>\n",
        "\n",
        "Before we train our KNN model (i.e. call the `fit` method), we can split the data into training and test sets. We then call the `fit` method on the training set and the `predict` method on the test set. Usually, the training set is larger than the test set (75%/25% and 80%/20% splits are common).\n",
        "\n",
        "We can use the `train_test_split` function from the `sklearn` module to easily split the dataset into training and test subsets. We use the argument `test_size` to define the % size of the test dataset.\n",
        "\n",
        "The full dataset is divided row-wise into training and test sets *at random*. This means that each time we run `train_test_split`, we will get different datasets. In order to make sure that we get the same splits again and again, we can fix the *random seed*; that is, the number that numpy uses to start its random number generation (used to calculate the splits). We can use the argument `random_state` to set the random seed for `train_test_split`."
      ]
    },
    {
      "cell_type": "code",
      "execution_count": null,
      "metadata": {
        "id": "MrOAbIUqsPeg",
        "outputId": "a30c3252-0391-4cbe-c10d-4a3b119bca2c"
      },
      "outputs": [
        {
          "name": "stdout",
          "output_type": "stream",
          "text": [
            "Training set has 404 rows\n",
            "Test set has 102 rows\n"
          ]
        }
      ],
      "source": [
        "from sklearn.model_selection import train_test_split\n",
        "\n",
        "train, test = train_test_split(df, test_size=0.2, random_state=12345)\n",
        "\n",
        "print('Training set has', train.shape[0], 'rows')\n",
        "print('Test set has', test.shape[0], 'rows')"
      ]
    },
    {
      "cell_type": "markdown",
      "metadata": {
        "id": "IAmkdYhhsPeg"
      },
      "source": [
        "Now we <font color='#d9c4b1'>**FIT**</font> the model on the <font color='#d9c4b1'>**TRAINING DATA**</font>:"
      ]
    },
    {
      "cell_type": "code",
      "execution_count": null,
      "metadata": {
        "id": "WHA9RxlnsPeg",
        "outputId": "c44a0abb-6dc1-4e9a-882a-f55cc45ea464"
      },
      "outputs": [
        {
          "data": {
            "text/plain": [
              "KNeighborsRegressor()"
            ]
          },
          "execution_count": 16,
          "metadata": {},
          "output_type": "execute_result"
        }
      ],
      "source": [
        "model = KNeighborsRegressor()\n",
        "model.fit(X=train.iloc[:,:-1], y=train.PRICE)"
      ]
    },
    {
      "cell_type": "markdown",
      "metadata": {
        "id": "Dkknr3V_sPeh"
      },
      "source": [
        "And <font color='#d9c4b1'>**PREDICT**</font> on the <font color='#d9c4b1'>**TEST DATA**</font>:"
      ]
    },
    {
      "cell_type": "code",
      "execution_count": null,
      "metadata": {
        "id": "bIhkRWSRsPeh"
      },
      "outputs": [],
      "source": [
        "y_hat = model.predict(X=test.iloc[:,:-1])"
      ]
    },
    {
      "cell_type": "markdown",
      "metadata": {
        "id": "96H6FoTXsPeh"
      },
      "source": [
        "Now we can calculate our evaluation metrics using scikit-learn's `metrics` submodule. These functions take the actual values and predicted values of the outcome variable as arguments:"
      ]
    },
    {
      "cell_type": "code",
      "execution_count": null,
      "metadata": {
        "id": "KeXQvJc3sPeh",
        "outputId": "4051e15c-75d0-4918-8eb9-cab9af6869b5"
      },
      "outputs": [
        {
          "data": {
            "text/plain": [
              "<AxesSubplot:xlabel='PRICE'>"
            ]
          },
          "execution_count": 21,
          "metadata": {},
          "output_type": "execute_result"
        },
        {
          "data": {
            "image/png": "[encoded data removed]",
            "text/plain": [
              "<Figure size 432x288 with 1 Axes>"
            ]
          },
          "metadata": {
            "needs_background": "light"
          },
          "output_type": "display_data"
        }
      ],
      "source": [
        "sns.regplot(x=test.PRICE, y=y_hat)"
      ]
    },
    {
      "cell_type": "code",
      "execution_count": null,
      "metadata": {
        "id": "2qoVMbyOsPeh"
      },
      "outputs": [],
      "source": [
        "from sklearn.metrics import mean_squared_error, mean_absolute_error, r2_score"
      ]
    },
    {
      "cell_type": "code",
      "execution_count": null,
      "metadata": {
        "id": "p_ajpvFLsPei",
        "outputId": "c35b320f-6def-46b6-931f-6201a7a6b163"
      },
      "outputs": [
        {
          "data": {
            "text/plain": [
              "41.42091372549021"
            ]
          },
          "execution_count": 19,
          "metadata": {},
          "output_type": "execute_result"
        }
      ],
      "source": [
        "mean_squared_error(y_true=test['PRICE'], y_pred=y_hat)"
      ]
    },
    {
      "cell_type": "code",
      "execution_count": null,
      "metadata": {
        "id": "tY9MiVsEsPei",
        "outputId": "5606254a-ce77-43b6-8509-2ee75fcb4e93"
      },
      "outputs": [
        {
          "data": {
            "text/plain": [
              "4.732352941176471"
            ]
          },
          "execution_count": 22,
          "metadata": {},
          "output_type": "execute_result"
        }
      ],
      "source": [
        "mean_absolute_error(y_true=test['PRICE'], y_pred=y_hat)"
      ]
    },
    {
      "cell_type": "markdown",
      "metadata": {
        "id": "pppFlRaIsPei"
      },
      "source": [
        "The magnitudes of the MSE and MAE are dependent on how the outcome variable is measured. They are therefore not comparable across datasets, but are useful for model and feature selection on a given dataset."
      ]
    },
    {
      "cell_type": "markdown",
      "metadata": {
        "id": "koknv5hksPei"
      },
      "source": [
        "#### <font color='#d9c4b1'> Choosing k </font>\n",
        "\n",
        "We can use the train/test split to find the optimal value for k:"
      ]
    },
    {
      "cell_type": "code",
      "execution_count": null,
      "metadata": {
        "id": "XPhIylkNsPei"
      },
      "outputs": [],
      "source": [
        "knn1 = KNeighborsRegressor(n_neighbors = 1) # K = 1\n",
        "knn1.fit(X=train.iloc[:,:-1], y=train.PRICE)\n",
        "y_hat1 = knn1.predict(X=test.iloc[:,:-1])\n",
        "\n",
        "knn3 = KNeighborsRegressor(n_neighbors = 3) # K = 3\n",
        "knn3.fit(X=train.iloc[:,:-1], y=train.PRICE)\n",
        "y_hat3 = knn3.predict(X=test.iloc[:,:-1])\n",
        "\n",
        "knn5 = KNeighborsRegressor(n_neighbors = 5) # K = 5\n",
        "knn5.fit(X=train.iloc[:,:-1], y=train.PRICE)\n",
        "y_hat5 = knn5.predict(X=test.iloc[:,:-1])"
      ]
    },
    {
      "cell_type": "code",
      "execution_count": null,
      "metadata": {
        "id": "GBFYWisHsPei",
        "outputId": "7a857bd5-ec07-41b9-9832-3468dab87e22"
      },
      "outputs": [
        {
          "name": "stdout",
          "output_type": "stream",
          "text": [
            "MAE\n",
            "K = 1\t 5.447058823529412\n",
            "K = 3\t 4.669607843137255\n",
            "K = 5\t 4.732352941176471\n"
          ]
        }
      ],
      "source": [
        "print('MAE')\n",
        "print('K = 1\\t', mean_absolute_error(y_true=test['PRICE'], y_pred=y_hat1))\n",
        "print('K = 3\\t', mean_absolute_error(y_true=test['PRICE'], y_pred=y_hat3))\n",
        "print('K = 5\\t', mean_absolute_error(y_true=test['PRICE'], y_pred=y_hat5))"
      ]
    },
    {
      "cell_type": "markdown",
      "metadata": {
        "id": "jskmrR2NsPei"
      },
      "source": [
        "The KNN model with k=3 has the lowest MAE on new data and is therefore the best. \n",
        "\n",
        "🚀 <font color='#d9c4b1'> Exercise: </font> Try the MSE metric and see if you reach the same conclusion."
      ]
    },
    {
      "cell_type": "code",
      "execution_count": null,
      "metadata": {
        "id": "dR8nCkcbsPej",
        "outputId": "f2d83f3a-ade8-4022-a701-d95369ece5d3"
      },
      "outputs": [
        {
          "name": "stdout",
          "output_type": "stream",
          "text": [
            "MSE\n",
            "K = 1\t 58.586078431372556\n",
            "K = 3\t 45.35454248366013\n",
            "K = 5\t 41.42091372549021\n"
          ]
        }
      ],
      "source": [
        "print('MSE')\n",
        "print('K = 1\\t', mean_squared_error(y_true=test['PRICE'], y_pred=y_hat1))\n",
        "print('K = 3\\t', mean_squared_error(y_true=test['PRICE'], y_pred= y_hat3))\n",
        "print('K = 5\\t', mean_squared_error(y_true=test['PRICE'], y_pred= y_hat5))"
      ]
    },
    {
      "cell_type": "markdown",
      "metadata": {
        "id": "djCRSicdsPej"
      },
      "source": [
        "### <font color='#31394d'> 2. Cross Validation </font>\n",
        "\n",
        "Cross validation is an alternative approach to evaluate out-of-sample model performance. To do cross validation, we simply split the data into *K* folds, and for each fold, we train the model on the data from the *K*-1 remaining folds and evaluate on the one that was not included in the training set. That way, we get out-of-sample predictions and errors for every data point, so we don't rely on a single test set. \n",
        "\n",
        "For example, a 5 fold cross validation would look like this:\n",
        "\n",
        "![title](media/cross_validation.png)\n",
        "\n",
        "The `cross_val_score` function in `scikit-learn` computes your choice of evaluation metric for each fold. To use this function, we first need to see what \"scoring methods\" are available:"
      ]
    },
    {
      "cell_type": "code",
      "execution_count": null,
      "metadata": {
        "id": "9tI6IVTVsPej",
        "outputId": "502b888d-3270-4a22-84e3-3d6ff7aaefdf"
      },
      "outputs": [
        {
          "data": {
            "text/plain": [
              "dict_keys(['explained_variance', 'r2', 'max_error', 'neg_median_absolute_error', 'neg_mean_absolute_error', 'neg_mean_absolute_percentage_error', 'neg_mean_squared_error', 'neg_mean_squared_log_error', 'neg_root_mean_squared_error', 'neg_mean_poisson_deviance', 'neg_mean_gamma_deviance', 'accuracy', 'top_k_accuracy', 'roc_auc', 'roc_auc_ovr', 'roc_auc_ovo', 'roc_auc_ovr_weighted', 'roc_auc_ovo_weighted', 'balanced_accuracy', 'average_precision', 'neg_log_loss', 'neg_brier_score', 'adjusted_rand_score', 'rand_score', 'homogeneity_score', 'completeness_score', 'v_measure_score', 'mutual_info_score', 'adjusted_mutual_info_score', 'normalized_mutual_info_score', 'fowlkes_mallows_score', 'precision', 'precision_macro', 'precision_micro', 'precision_samples', 'precision_weighted', 'recall', 'recall_macro', 'recall_micro', 'recall_samples', 'recall_weighted', 'f1', 'f1_macro', 'f1_micro', 'f1_samples', 'f1_weighted', 'jaccard', 'jaccard_macro', 'jaccard_micro', 'jaccard_samples', 'jaccard_weighted'])"
            ]
          },
          "execution_count": 28,
          "metadata": {},
          "output_type": "execute_result"
        }
      ],
      "source": [
        "from sklearn.metrics import SCORERS\n",
        "SCORERS.keys()"
      ]
    },
    {
      "cell_type": "markdown",
      "metadata": {
        "id": "gJyBGXHVsPej"
      },
      "source": [
        "Looks like it defines the evaluation metrics such that \"bigger is better\". So, if we want to use MSE, for example, we need to choose \"neg_mean_squared_error\" (the negative MSE).\n",
        "\n",
        "Note that we do **NOT** do a train/test split. We use the full dataset in the dataframe `df`."
      ]
    },
    {
      "cell_type": "code",
      "execution_count": null,
      "metadata": {
        "id": "ZCtTXrxXsPej",
        "outputId": "8449a88a-995d-4f31-c058-d2ad9773f418"
      },
      "outputs": [
        {
          "data": {
            "text/plain": [
              "array([ -72.84204314,  -77.44044752, -114.19790495,  -89.00506931,\n",
              "        -31.22948515])"
            ]
          },
          "execution_count": 29,
          "metadata": {},
          "output_type": "execute_result"
        }
      ],
      "source": [
        "from sklearn.model_selection import cross_val_score\n",
        "\n",
        "knn_mod_5 = KNeighborsRegressor(n_neighbors = 5)\n",
        "\n",
        "cv_scores = cross_val_score(estimator=knn_mod_5, X=df.iloc[:,:-1], y=df.PRICE, scoring=\"neg_mean_squared_error\", cv=5)\n",
        "cv_scores"
      ]
    },
    {
      "cell_type": "markdown",
      "metadata": {
        "id": "O_YVXbbjsPek"
      },
      "source": [
        "The cross-validated MSE for KNN model with $K=5$ is therefore:"
      ]
    },
    {
      "cell_type": "code",
      "execution_count": null,
      "metadata": {
        "id": "1MzsHl8csPek",
        "outputId": "6be6f064-e665-467b-b882-712b5f028fd4"
      },
      "outputs": [
        {
          "data": {
            "text/plain": [
              "76.9429900135896"
            ]
          },
          "execution_count": 33,
          "metadata": {},
          "output_type": "execute_result"
        }
      ],
      "source": [
        "-cv_scores.mean()"
      ]
    },
    {
      "cell_type": "markdown",
      "metadata": {
        "id": "iGoR27PgsPek"
      },
      "source": [
        "🚀 <font color='#d9c4b1'> Exercise: </font> Repeat the above for $K=1$ and $K=3$, and determine which value is best using 5-fold cross validation."
      ]
    },
    {
      "cell_type": "code",
      "execution_count": null,
      "metadata": {
        "id": "sVErx_-vsPek"
      },
      "outputs": [],
      "source": [
        "def find_bestK(k:int):\n",
        "    cv_scores = cross_val_score(estimator=KNeighborsRegressor(n_neighbors=k), X=df.iloc[:,:-1], y=df.PRICE, scoring=\"neg_mean_squared_error\", cv=5 )\n",
        "    print(\"K = {}\\t Mean: {}\".format(k,-cv_scores.mean()))"
      ]
    },
    {
      "cell_type": "code",
      "execution_count": null,
      "metadata": {
        "id": "A4nLR-grsPek",
        "outputId": "f4a63aab-0c80-4797-d5ea-c4e611544234"
      },
      "outputs": [
        {
          "name": "stdout",
          "output_type": "stream",
          "text": [
            "K = 1\t Mean: 105.87429605901768\n",
            "K = 3\t Mean: 78.7023856640566\n"
          ]
        }
      ],
      "source": [
        "find_bestK(1)\n",
        "find_bestK(3)"
      ]
    },
    {
      "cell_type": "markdown",
      "metadata": {
        "id": "hDkEOyPXsPek"
      },
      "source": [
        "If we want to get more information about each split, we can use the `cross_validate` function instead. It also accepts multiple scoring functions/evaluation metrics. Think of `cross_val_score` as the simplified version of `cross_validate`..."
      ]
    },
    {
      "cell_type": "code",
      "execution_count": null,
      "metadata": {
        "id": "HbfI62avsPek",
        "outputId": "1a85e459-24d8-4901-f6c5-f84c7d3274a0"
      },
      "outputs": [
        {
          "data": {
            "text/html": [
              "<div>\n",
              "<style scoped>\n",
              "    .dataframe tbody tr th:only-of-type {\n",
              "        vertical-align: middle;\n",
              "    }\n",
              "\n",
              "    .dataframe tbody tr th {\n",
              "        vertical-align: top;\n",
              "    }\n",
              "\n",
              "    .dataframe thead th {\n",
              "        text-align: right;\n",
              "    }\n",
              "</style>\n",
              "<table border=\"1\" class=\"dataframe\">\n",
              "  <thead>\n",
              "    <tr style=\"text-align: right;\">\n",
              "      <th></th>\n",
              "      <th>fit_time</th>\n",
              "      <th>score_time</th>\n",
              "      <th>test_negMSE</th>\n",
              "      <th>test_negMAE</th>\n",
              "    </tr>\n",
              "  </thead>\n",
              "  <tbody>\n",
              "    <tr>\n",
              "      <th>0</th>\n",
              "      <td>0.004987</td>\n",
              "      <td>0.002991</td>\n",
              "      <td>-72.842043</td>\n",
              "      <td>-6.519804</td>\n",
              "    </tr>\n",
              "    <tr>\n",
              "      <th>1</th>\n",
              "      <td>0.002993</td>\n",
              "      <td>0.003016</td>\n",
              "      <td>-77.440448</td>\n",
              "      <td>-5.703960</td>\n",
              "    </tr>\n",
              "    <tr>\n",
              "      <th>2</th>\n",
              "      <td>0.001969</td>\n",
              "      <td>0.003018</td>\n",
              "      <td>-114.197905</td>\n",
              "      <td>-7.652871</td>\n",
              "    </tr>\n",
              "    <tr>\n",
              "      <th>3</th>\n",
              "      <td>0.001970</td>\n",
              "      <td>0.002020</td>\n",
              "      <td>-89.005069</td>\n",
              "      <td>-6.091881</td>\n",
              "    </tr>\n",
              "    <tr>\n",
              "      <th>4</th>\n",
              "      <td>0.001995</td>\n",
              "      <td>0.001994</td>\n",
              "      <td>-31.229485</td>\n",
              "      <td>-4.113465</td>\n",
              "    </tr>\n",
              "  </tbody>\n",
              "</table>\n",
              "</div>"
            ],
            "text/plain": [
              "   fit_time  score_time  test_negMSE  test_negMAE\n",
              "0  0.004987    0.002991   -72.842043    -6.519804\n",
              "1  0.002993    0.003016   -77.440448    -5.703960\n",
              "2  0.001969    0.003018  -114.197905    -7.652871\n",
              "3  0.001970    0.002020   -89.005069    -6.091881\n",
              "4  0.001995    0.001994   -31.229485    -4.113465"
            ]
          },
          "execution_count": 45,
          "metadata": {},
          "output_type": "execute_result"
        }
      ],
      "source": [
        "from sklearn.model_selection import cross_validate\n",
        "scoring_functions = {\"negMSE\": \"neg_mean_squared_error\", \"negMAE\": \"neg_mean_absolute_error\"}\n",
        "cv_info = cross_validate(estimator=model, X=df.iloc[:,:-1], y=df.PRICE, scoring=scoring_functions, cv=5, return_train_score=False)\n",
        "cv_df = pd.DataFrame(cv_info)\n",
        "cv_df"
      ]
    },
    {
      "cell_type": "markdown",
      "metadata": {
        "id": "c1OBwxUGsPel"
      },
      "source": [
        "We get results for each one of the folds:\n",
        "- fit time = how long it took to train the model\n",
        "- score time = how long it took to make predictions and compute the score\n",
        "- test and train scores are given for each one of the scoring functions"
      ]
    },
    {
      "cell_type": "code",
      "execution_count": null,
      "metadata": {
        "id": "gr7_jREFsPel",
        "outputId": "78f6172a-1927-435a-e04c-230026abde4b"
      },
      "outputs": [
        {
          "data": {
            "text/plain": [
              "test_negMSE   -76.942990\n",
              "test_negMAE    -6.016396\n",
              "dtype: float64"
            ]
          },
          "execution_count": 47,
          "metadata": {},
          "output_type": "execute_result"
        }
      ],
      "source": [
        "cv_df.loc[:,cv_df.columns.str.startswith('test')].mean()"
      ]
    }
  ],
  "metadata": {
    "kernelspec": {
      "display_name": "base",
      "language": "python",
      "name": "python3"
    },
    "language_info": {
      "codemirror_mode": {
        "name": "ipython",
        "version": 3
      },
      "file_extension": ".py",
      "mimetype": "text/x-python",
      "name": "python",
      "nbconvert_exporter": "python",
      "pygments_lexer": "ipython3",
      "version": "3.9.12"
    },
    "vscode": {
      "interpreter": {
        "hash": "a71a9e4fb054fff428071484f7faa898cb9ecb31a518fe88e3463da9af879578"
      }
    },
    "colab": {
      "provenance": [],
      "include_colab_link": true
    }
  },
  "nbformat": 4,
  "nbformat_minor": 0
}