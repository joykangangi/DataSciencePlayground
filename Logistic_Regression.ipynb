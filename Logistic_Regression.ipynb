{
  "cells": [
    {
      "cell_type": "markdown",
      "metadata": {
        "id": "view-in-github",
        "colab_type": "text"
      },
      "source": [
        "<a href=\"https://colab.research.google.com/github/joykangangi/DataSciencePlayground/blob/main/Logistic_Regression.ipynb\" target=\"_parent\"><img src=\"https://colab.research.google.com/assets/colab-badge.svg\" alt=\"Open In Colab\"/></a>"
      ]
    },
    {
      "cell_type": "markdown",
      "metadata": {
        "id": "v42FfEXbV_in"
      },
      "source": [
        "# <font color='#31394d'> Practical Exercise: Logistic Regression </font>\n",
        "\n",
        "In this module, we'll be exploring how to build a logistic regression model using scikit-learn. Remember, logistic regression is a binary classification algorithm, so instead of predicting a number (regression) or a group of labels (i.e. multi-class classification) we'll be predicting either true (1) or false (0). Let's start by importing our usual toolkit."
      ]
    },
    {
      "cell_type": "code",
      "execution_count": 1,
      "metadata": {
        "id": "WzwS70-DV_io"
      },
      "outputs": [],
      "source": [
        "import pandas as pd\n",
        "import numpy as np"
      ]
    },
    {
      "cell_type": "markdown",
      "metadata": {
        "id": "f8Mi73UBV_iq"
      },
      "source": [
        "## <font color='#31394d'> Breast Cancer Data </font>"
      ]
    },
    {
      "cell_type": "markdown",
      "metadata": {
        "id": "65zlfQCjV_iq"
      },
      "source": [
        "We are going to use the [Wisconsin Breast Cancer Dataset](https://archive.ics.uci.edu/ml/datasets/Breast+Cancer+Wisconsin+(Diagnostic)). It is a dataset that contains measurements taken on breast cancer cell images. The goal of the dataset is to predict whether a cancer tumor is benign or malignant.\n",
        "\n",
        "\n",
        "![title](media/breast_cancer.png)"
      ]
    },
    {
      "cell_type": "code",
      "execution_count": 4,
      "metadata": {
        "colab": {
          "base_uri": "https://localhost:8080/"
        },
        "id": "5a2PLjteV_iq",
        "outputId": "06c7ecf9-199c-4a9e-c2e7-709fcd562be8"
      },
      "outputs": [
        {
          "output_type": "execute_result",
          "data": {
            "text/plain": [
              "dict_keys(['data', 'target', 'frame', 'target_names', 'DESCR', 'feature_names', 'filename', 'data_module'])"
            ]
          },
          "metadata": {},
          "execution_count": 4
        }
      ],
      "source": [
        "from sklearn.datasets import load_breast_cancer\n",
        "cancer_data = load_breast_cancer()\n",
        "cancer_data.keys()"
      ]
    },
    {
      "cell_type": "code",
      "execution_count": 5,
      "metadata": {
        "colab": {
          "base_uri": "https://localhost:8080/"
        },
        "id": "hGgjbT79V_ir",
        "outputId": "7cdd334e-6252-444f-de13-0597e55b4042"
      },
      "outputs": [
        {
          "output_type": "stream",
          "name": "stdout",
          "text": [
            ".. _breast_cancer_dataset:\n",
            "\n",
            "Breast cancer wisconsin (diagnostic) dataset\n",
            "--------------------------------------------\n",
            "\n",
            "**Data Set Characteristics:**\n",
            "\n",
            "    :Number of Instances: 569\n",
            "\n",
            "    :Number of Attributes: 30 numeric, predictive attributes and the class\n",
            "\n",
            "    :Attribute Information:\n",
            "        - radius (mean of distances from center to points on the perimeter)\n",
            "        - texture (standard deviation of gray-scale values)\n",
            "        - perimeter\n",
            "        - area\n",
            "        - smoothness (local variation in radius lengths)\n",
            "        - compactness (perimeter^2 / area - 1.0)\n",
            "        - concavity (severity of concave portions of the contour)\n",
            "        - concave points (number of concave portions of the contour)\n",
            "        - symmetry\n",
            "        - fractal dimension (\"coastline approximation\" - 1)\n",
            "\n",
            "        The mean, standard error, and \"worst\" or largest (mean of the three\n",
            "        worst/largest values) of these features were computed for each image,\n",
            "        resulting in 30 features.  For instance, field 0 is Mean Radius, field\n",
            "        10 is Radius SE, field 20 is Worst Radius.\n",
            "\n",
            "        - class:\n",
            "                - WDBC-Malignant\n",
            "                - WDBC-Benign\n",
            "\n",
            "    :Summary Statistics:\n",
            "\n",
            "    ===================================== ====== ======\n",
            "                                           Min    Max\n",
            "    ===================================== ====== ======\n",
            "    radius (mean):                        6.981  28.11\n",
            "    texture (mean):                       9.71   39.28\n",
            "    perimeter (mean):                     43.79  188.5\n",
            "    area (mean):                          143.5  2501.0\n",
            "    smoothness (mean):                    0.053  0.163\n",
            "    compactness (mean):                   0.019  0.345\n",
            "    concavity (mean):                     0.0    0.427\n",
            "    concave points (mean):                0.0    0.201\n",
            "    symmetry (mean):                      0.106  0.304\n",
            "    fractal dimension (mean):             0.05   0.097\n",
            "    radius (standard error):              0.112  2.873\n",
            "    texture (standard error):             0.36   4.885\n",
            "    perimeter (standard error):           0.757  21.98\n",
            "    area (standard error):                6.802  542.2\n",
            "    smoothness (standard error):          0.002  0.031\n",
            "    compactness (standard error):         0.002  0.135\n",
            "    concavity (standard error):           0.0    0.396\n",
            "    concave points (standard error):      0.0    0.053\n",
            "    symmetry (standard error):            0.008  0.079\n",
            "    fractal dimension (standard error):   0.001  0.03\n",
            "    radius (worst):                       7.93   36.04\n",
            "    texture (worst):                      12.02  49.54\n",
            "    perimeter (worst):                    50.41  251.2\n",
            "    area (worst):                         185.2  4254.0\n",
            "    smoothness (worst):                   0.071  0.223\n",
            "    compactness (worst):                  0.027  1.058\n",
            "    concavity (worst):                    0.0    1.252\n",
            "    concave points (worst):               0.0    0.291\n",
            "    symmetry (worst):                     0.156  0.664\n",
            "    fractal dimension (worst):            0.055  0.208\n",
            "    ===================================== ====== ======\n",
            "\n",
            "    :Missing Attribute Values: None\n",
            "\n",
            "    :Class Distribution: 212 - Malignant, 357 - Benign\n",
            "\n",
            "    :Creator:  Dr. William H. Wolberg, W. Nick Street, Olvi L. Mangasarian\n",
            "\n",
            "    :Donor: Nick Street\n",
            "\n",
            "    :Date: November, 1995\n",
            "\n",
            "This is a copy of UCI ML Breast Cancer Wisconsin (Diagnostic) datasets.\n",
            "https://goo.gl/U2Uwz2\n",
            "\n",
            "Features are computed from a digitized image of a fine needle\n",
            "aspirate (FNA) of a breast mass.  They describe\n",
            "characteristics of the cell nuclei present in the image.\n",
            "\n",
            "Separating plane described above was obtained using\n",
            "Multisurface Method-Tree (MSM-T) [K. P. Bennett, \"Decision Tree\n",
            "Construction Via Linear Programming.\" Proceedings of the 4th\n",
            "Midwest Artificial Intelligence and Cognitive Science Society,\n",
            "pp. 97-101, 1992], a classification method which uses linear\n",
            "programming to construct a decision tree.  Relevant features\n",
            "were selected using an exhaustive search in the space of 1-4\n",
            "features and 1-3 separating planes.\n",
            "\n",
            "The actual linear program used to obtain the separating plane\n",
            "in the 3-dimensional space is that described in:\n",
            "[K. P. Bennett and O. L. Mangasarian: \"Robust Linear\n",
            "Programming Discrimination of Two Linearly Inseparable Sets\",\n",
            "Optimization Methods and Software 1, 1992, 23-34].\n",
            "\n",
            "This database is also available through the UW CS ftp server:\n",
            "\n",
            "ftp ftp.cs.wisc.edu\n",
            "cd math-prog/cpo-dataset/machine-learn/WDBC/\n",
            "\n",
            ".. topic:: References\n",
            "\n",
            "   - W.N. Street, W.H. Wolberg and O.L. Mangasarian. Nuclear feature extraction \n",
            "     for breast tumor diagnosis. IS&T/SPIE 1993 International Symposium on \n",
            "     Electronic Imaging: Science and Technology, volume 1905, pages 861-870,\n",
            "     San Jose, CA, 1993.\n",
            "   - O.L. Mangasarian, W.N. Street and W.H. Wolberg. Breast cancer diagnosis and \n",
            "     prognosis via linear programming. Operations Research, 43(4), pages 570-577, \n",
            "     July-August 1995.\n",
            "   - W.H. Wolberg, W.N. Street, and O.L. Mangasarian. Machine learning techniques\n",
            "     to diagnose breast cancer from fine-needle aspirates. Cancer Letters 77 (1994) \n",
            "     163-171.\n"
          ]
        }
      ],
      "source": [
        "print(cancer_data[\"DESCR\"])"
      ]
    },
    {
      "cell_type": "markdown",
      "metadata": {
        "id": "EXpvI115V_ir"
      },
      "source": [
        "This dataset is a binary classification problem, where the target variable indicates whether a tumor is malignant or benign, encoded as 0 and 1, respectively. The features are measurements taken from the cell images, mostly measures of the cell nucleii."
      ]
    },
    {
      "cell_type": "code",
      "execution_count": 6,
      "metadata": {
        "colab": {
          "base_uri": "https://localhost:8080/"
        },
        "id": "z1LNP0s_V_ir",
        "outputId": "7069c95e-8e87-4fed-dce4-f1e01d7deac0"
      },
      "outputs": [
        {
          "output_type": "execute_result",
          "data": {
            "text/plain": [
              "array(['malignant', 'benign'], dtype='<U9')"
            ]
          },
          "metadata": {},
          "execution_count": 6
        }
      ],
      "source": [
        "cancer_data.target_names"
      ]
    },
    {
      "cell_type": "code",
      "execution_count": 7,
      "metadata": {
        "colab": {
          "base_uri": "https://localhost:8080/"
        },
        "id": "2Rxd5a53V_ir",
        "outputId": "b35c865d-5155-4597-f49b-3cfd1f531c42"
      },
      "outputs": [
        {
          "output_type": "execute_result",
          "data": {
            "text/plain": [
              "0    0.372583\n",
              "1    0.627417\n",
              "dtype: float64"
            ]
          },
          "metadata": {},
          "execution_count": 7
        }
      ],
      "source": [
        "pd.Series(cancer_data[\"target\"]).value_counts(normalize=True).sort_index()"
      ]
    },
    {
      "cell_type": "markdown",
      "metadata": {
        "id": "mWHTP94-V_ir"
      },
      "source": [
        "In this dataset, 62.7% of tumors are benign and 37.3% are malignant.\n",
        "\n",
        "There are lots of features in this dataset. Let's limit ourselves to just the \"mean\" features:"
      ]
    },
    {
      "cell_type": "code",
      "execution_count": 8,
      "metadata": {
        "colab": {
          "base_uri": "https://localhost:8080/"
        },
        "id": "174EUqgDV_is",
        "outputId": "e93fc11c-47fc-40bb-b54a-815093f9f230"
      },
      "outputs": [
        {
          "output_type": "execute_result",
          "data": {
            "text/plain": [
              "array(['mean radius', 'mean texture', 'mean perimeter', 'mean area',\n",
              "       'mean smoothness', 'mean compactness', 'mean concavity',\n",
              "       'mean concave points', 'mean symmetry', 'mean fractal dimension',\n",
              "       'radius error', 'texture error', 'perimeter error', 'area error',\n",
              "       'smoothness error', 'compactness error', 'concavity error',\n",
              "       'concave points error', 'symmetry error',\n",
              "       'fractal dimension error', 'worst radius', 'worst texture',\n",
              "       'worst perimeter', 'worst area', 'worst smoothness',\n",
              "       'worst compactness', 'worst concavity', 'worst concave points',\n",
              "       'worst symmetry', 'worst fractal dimension'], dtype='<U23')"
            ]
          },
          "metadata": {},
          "execution_count": 8
        }
      ],
      "source": [
        "cancer_data.feature_names"
      ]
    },
    {
      "cell_type": "code",
      "execution_count": 9,
      "metadata": {
        "colab": {
          "base_uri": "https://localhost:8080/",
          "height": 285
        },
        "id": "IXp9vOokV_is",
        "outputId": "7e405c4d-d165-4864-99da-856a694de0d2"
      },
      "outputs": [
        {
          "output_type": "stream",
          "name": "stdout",
          "text": [
            "The dataset has 569 rows and 11 features\n"
          ]
        },
        {
          "output_type": "execute_result",
          "data": {
            "text/plain": [
              "   mean radius  mean texture  mean perimeter  mean area  mean smoothness  \\\n",
              "0        17.99         10.38          122.80     1001.0          0.11840   \n",
              "1        20.57         17.77          132.90     1326.0          0.08474   \n",
              "2        19.69         21.25          130.00     1203.0          0.10960   \n",
              "3        11.42         20.38           77.58      386.1          0.14250   \n",
              "4        20.29         14.34          135.10     1297.0          0.10030   \n",
              "\n",
              "   mean compactness  mean concavity  mean concave points  mean symmetry  \\\n",
              "0           0.27760          0.3001              0.14710         0.2419   \n",
              "1           0.07864          0.0869              0.07017         0.1812   \n",
              "2           0.15990          0.1974              0.12790         0.2069   \n",
              "3           0.28390          0.2414              0.10520         0.2597   \n",
              "4           0.13280          0.1980              0.10430         0.1809   \n",
              "\n",
              "   mean fractal dimension  target  \n",
              "0                 0.07871       0  \n",
              "1                 0.05667       0  \n",
              "2                 0.05999       0  \n",
              "3                 0.09744       0  \n",
              "4                 0.05883       0  "
            ],
            "text/html": [
              "\n",
              "  <div id=\"df-c7fa6e12-f8f4-4382-b59f-43c9355b3b84\">\n",
              "    <div class=\"colab-df-container\">\n",
              "      <div>\n",
              "<style scoped>\n",
              "    .dataframe tbody tr th:only-of-type {\n",
              "        vertical-align: middle;\n",
              "    }\n",
              "\n",
              "    .dataframe tbody tr th {\n",
              "        vertical-align: top;\n",
              "    }\n",
              "\n",
              "    .dataframe thead th {\n",
              "        text-align: right;\n",
              "    }\n",
              "</style>\n",
              "<table border=\"1\" class=\"dataframe\">\n",
              "  <thead>\n",
              "    <tr style=\"text-align: right;\">\n",
              "      <th></th>\n",
              "      <th>mean radius</th>\n",
              "      <th>mean texture</th>\n",
              "      <th>mean perimeter</th>\n",
              "      <th>mean area</th>\n",
              "      <th>mean smoothness</th>\n",
              "      <th>mean compactness</th>\n",
              "      <th>mean concavity</th>\n",
              "      <th>mean concave points</th>\n",
              "      <th>mean symmetry</th>\n",
              "      <th>mean fractal dimension</th>\n",
              "      <th>target</th>\n",
              "    </tr>\n",
              "  </thead>\n",
              "  <tbody>\n",
              "    <tr>\n",
              "      <th>0</th>\n",
              "      <td>17.99</td>\n",
              "      <td>10.38</td>\n",
              "      <td>122.80</td>\n",
              "      <td>1001.0</td>\n",
              "      <td>0.11840</td>\n",
              "      <td>0.27760</td>\n",
              "      <td>0.3001</td>\n",
              "      <td>0.14710</td>\n",
              "      <td>0.2419</td>\n",
              "      <td>0.07871</td>\n",
              "      <td>0</td>\n",
              "    </tr>\n",
              "    <tr>\n",
              "      <th>1</th>\n",
              "      <td>20.57</td>\n",
              "      <td>17.77</td>\n",
              "      <td>132.90</td>\n",
              "      <td>1326.0</td>\n",
              "      <td>0.08474</td>\n",
              "      <td>0.07864</td>\n",
              "      <td>0.0869</td>\n",
              "      <td>0.07017</td>\n",
              "      <td>0.1812</td>\n",
              "      <td>0.05667</td>\n",
              "      <td>0</td>\n",
              "    </tr>\n",
              "    <tr>\n",
              "      <th>2</th>\n",
              "      <td>19.69</td>\n",
              "      <td>21.25</td>\n",
              "      <td>130.00</td>\n",
              "      <td>1203.0</td>\n",
              "      <td>0.10960</td>\n",
              "      <td>0.15990</td>\n",
              "      <td>0.1974</td>\n",
              "      <td>0.12790</td>\n",
              "      <td>0.2069</td>\n",
              "      <td>0.05999</td>\n",
              "      <td>0</td>\n",
              "    </tr>\n",
              "    <tr>\n",
              "      <th>3</th>\n",
              "      <td>11.42</td>\n",
              "      <td>20.38</td>\n",
              "      <td>77.58</td>\n",
              "      <td>386.1</td>\n",
              "      <td>0.14250</td>\n",
              "      <td>0.28390</td>\n",
              "      <td>0.2414</td>\n",
              "      <td>0.10520</td>\n",
              "      <td>0.2597</td>\n",
              "      <td>0.09744</td>\n",
              "      <td>0</td>\n",
              "    </tr>\n",
              "    <tr>\n",
              "      <th>4</th>\n",
              "      <td>20.29</td>\n",
              "      <td>14.34</td>\n",
              "      <td>135.10</td>\n",
              "      <td>1297.0</td>\n",
              "      <td>0.10030</td>\n",
              "      <td>0.13280</td>\n",
              "      <td>0.1980</td>\n",
              "      <td>0.10430</td>\n",
              "      <td>0.1809</td>\n",
              "      <td>0.05883</td>\n",
              "      <td>0</td>\n",
              "    </tr>\n",
              "  </tbody>\n",
              "</table>\n",
              "</div>\n",
              "      <button class=\"colab-df-convert\" onclick=\"convertToInteractive('df-c7fa6e12-f8f4-4382-b59f-43c9355b3b84')\"\n",
              "              title=\"Convert this dataframe to an interactive table.\"\n",
              "              style=\"display:none;\">\n",
              "        \n",
              "  <svg xmlns=\"http://www.w3.org/2000/svg\" height=\"24px\"viewBox=\"0 0 24 24\"\n",
              "       width=\"24px\">\n",
              "    <path d=\"M0 0h24v24H0V0z\" fill=\"none\"/>\n",
              "    <path d=\"M18.56 5.44l.94 2.06.94-2.06 2.06-.94-2.06-.94-.94-2.06-.94 2.06-2.06.94zm-11 1L8.5 8.5l.94-2.06 2.06-.94-2.06-.94L8.5 2.5l-.94 2.06-2.06.94zm10 10l.94 2.06.94-2.06 2.06-.94-2.06-.94-.94-2.06-.94 2.06-2.06.94z\"/><path d=\"M17.41 7.96l-1.37-1.37c-.4-.4-.92-.59-1.43-.59-.52 0-1.04.2-1.43.59L10.3 9.45l-7.72 7.72c-.78.78-.78 2.05 0 2.83L4 21.41c.39.39.9.59 1.41.59.51 0 1.02-.2 1.41-.59l7.78-7.78 2.81-2.81c.8-.78.8-2.07 0-2.86zM5.41 20L4 18.59l7.72-7.72 1.47 1.35L5.41 20z\"/>\n",
              "  </svg>\n",
              "      </button>\n",
              "      \n",
              "  <style>\n",
              "    .colab-df-container {\n",
              "      display:flex;\n",
              "      flex-wrap:wrap;\n",
              "      gap: 12px;\n",
              "    }\n",
              "\n",
              "    .colab-df-convert {\n",
              "      background-color: #E8F0FE;\n",
              "      border: none;\n",
              "      border-radius: 50%;\n",
              "      cursor: pointer;\n",
              "      display: none;\n",
              "      fill: #1967D2;\n",
              "      height: 32px;\n",
              "      padding: 0 0 0 0;\n",
              "      width: 32px;\n",
              "    }\n",
              "\n",
              "    .colab-df-convert:hover {\n",
              "      background-color: #E2EBFA;\n",
              "      box-shadow: 0px 1px 2px rgba(60, 64, 67, 0.3), 0px 1px 3px 1px rgba(60, 64, 67, 0.15);\n",
              "      fill: #174EA6;\n",
              "    }\n",
              "\n",
              "    [theme=dark] .colab-df-convert {\n",
              "      background-color: #3B4455;\n",
              "      fill: #D2E3FC;\n",
              "    }\n",
              "\n",
              "    [theme=dark] .colab-df-convert:hover {\n",
              "      background-color: #434B5C;\n",
              "      box-shadow: 0px 1px 3px 1px rgba(0, 0, 0, 0.15);\n",
              "      filter: drop-shadow(0px 1px 2px rgba(0, 0, 0, 0.3));\n",
              "      fill: #FFFFFF;\n",
              "    }\n",
              "  </style>\n",
              "\n",
              "      <script>\n",
              "        const buttonEl =\n",
              "          document.querySelector('#df-c7fa6e12-f8f4-4382-b59f-43c9355b3b84 button.colab-df-convert');\n",
              "        buttonEl.style.display =\n",
              "          google.colab.kernel.accessAllowed ? 'block' : 'none';\n",
              "\n",
              "        async function convertToInteractive(key) {\n",
              "          const element = document.querySelector('#df-c7fa6e12-f8f4-4382-b59f-43c9355b3b84');\n",
              "          const dataTable =\n",
              "            await google.colab.kernel.invokeFunction('convertToInteractive',\n",
              "                                                     [key], {});\n",
              "          if (!dataTable) return;\n",
              "\n",
              "          const docLinkHtml = 'Like what you see? Visit the ' +\n",
              "            '<a target=\"_blank\" href=https://colab.research.google.com/notebooks/data_table.ipynb>data table notebook</a>'\n",
              "            + ' to learn more about interactive tables.';\n",
              "          element.innerHTML = '';\n",
              "          dataTable['output_type'] = 'display_data';\n",
              "          await google.colab.output.renderOutput(dataTable, element);\n",
              "          const docLink = document.createElement('div');\n",
              "          docLink.innerHTML = docLinkHtml;\n",
              "          element.appendChild(docLink);\n",
              "        }\n",
              "      </script>\n",
              "    </div>\n",
              "  </div>\n",
              "  "
            ]
          },
          "metadata": {},
          "execution_count": 9
        }
      ],
      "source": [
        "df = pd.DataFrame(cancer_data[\"data\"], columns=cancer_data.feature_names)\n",
        "\n",
        "df = df[df.columns[df.columns.str.startswith('mean')]]\n",
        "\n",
        "df['target'] = cancer_data.target\n",
        "print('The dataset has', df.shape[0], 'rows and', df.shape[1], 'features')\n",
        "df.head()"
      ]
    },
    {
      "cell_type": "markdown",
      "metadata": {
        "id": "kBfB8DcbV_is"
      },
      "source": [
        "Its always a good idea to check that our variables are of the expected data types. Any non-numerical variables would need to be converted to numeric variables (e.g. via one-hot encoding) before we can fit a model."
      ]
    },
    {
      "cell_type": "code",
      "execution_count": 10,
      "metadata": {
        "colab": {
          "base_uri": "https://localhost:8080/"
        },
        "id": "gUJeECxhV_is",
        "outputId": "845046d4-11d9-4b47-eea9-b2439e02ab34"
      },
      "outputs": [
        {
          "output_type": "execute_result",
          "data": {
            "text/plain": [
              "mean radius               float64\n",
              "mean texture              float64\n",
              "mean perimeter            float64\n",
              "mean area                 float64\n",
              "mean smoothness           float64\n",
              "mean compactness          float64\n",
              "mean concavity            float64\n",
              "mean concave points       float64\n",
              "mean symmetry             float64\n",
              "mean fractal dimension    float64\n",
              "target                      int64\n",
              "dtype: object"
            ]
          },
          "metadata": {},
          "execution_count": 10
        }
      ],
      "source": [
        "df.dtypes"
      ]
    },
    {
      "cell_type": "markdown",
      "metadata": {
        "id": "H4B9bIzzV_is"
      },
      "source": [
        "Let's split our dataset into training and test sets:"
      ]
    },
    {
      "cell_type": "code",
      "execution_count": 12,
      "metadata": {
        "colab": {
          "base_uri": "https://localhost:8080/"
        },
        "id": "0T7nsFc0V_is",
        "outputId": "0f1e4274-9b36-4858-815f-164f875936e9"
      },
      "outputs": [
        {
          "output_type": "stream",
          "name": "stdout",
          "text": [
            "The training set has 455 rows\n",
            "The test set has 114 rows\n"
          ]
        }
      ],
      "source": [
        "from sklearn.model_selection import train_test_split\n",
        "\n",
        "X_train, X_test, y_train, y_test = train_test_split(df.iloc[:,:-1], df.target, test_size=0.2, random_state=12345)\n",
        "\n",
        "\n",
        "print('The training set has', X_train.shape[0], 'rows')\n",
        "print('The test set has', X_test.shape[0], 'rows')"
      ]
    },
    {
      "cell_type": "markdown",
      "metadata": {
        "id": "4XTeSr-MV_it"
      },
      "source": [
        "Shortly, we will be fitting our first logistic regression model. From an optimisation point of view, this involves finding the coefficients that minimise the cross-entropy loss function. The internal procedures that perform this operation work best if the features are *standardized*; that is, for each feature, we subtract its mean and divide by its standard deviation. This ensures that all features have the same scale, but doesn't change the nature of the relationship between the features and the target variable.\n",
        "\n",
        "We can do this in `sklearn` by instantiating a `StandardScaler` object from the `preprocessing` submodule. We use the `fit_transform` method to compute the means and standard deviations for the training data and then apply the transformation to the training data. We then use the `transform` method to standardize the test data using the means and standard deviations estimated from the training set. \n",
        "\n",
        "🙋‍♀️ <font color='#d9c4b1'> Question: </font> Why do we not apply the `fit_transform` method on the test set?"
      ]
    },
    {
      "cell_type": "markdown",
      "source": [
        "##### This is not appropriate, as the goal of the test set is to evaluate the performance of the model on unseen data. If we use information from the test set to transform the training set, we would be introducing information from the future into the past, which would invalidate the evaluation of the model's performance"
      ],
      "metadata": {
        "id": "ACzDMJIKIRVy"
      }
    },
    {
      "cell_type": "code",
      "execution_count": 13,
      "metadata": {
        "id": "DbJHVkw8V_it"
      },
      "outputs": [],
      "source": [
        "from sklearn.preprocessing import StandardScaler\n",
        "scaler = StandardScaler()\n",
        "\n",
        "X_train = scaler.fit_transform(X_train)\n",
        "\n",
        "X_test = scaler.transform(X_test)"
      ]
    },
    {
      "cell_type": "code",
      "source": [
        "type(X_train)"
      ],
      "metadata": {
        "colab": {
          "base_uri": "https://localhost:8080/"
        },
        "id": "T3eBqPv2JgtC",
        "outputId": "d581f81d-f908-4226-c04c-754441581464"
      },
      "execution_count": 22,
      "outputs": [
        {
          "output_type": "execute_result",
          "data": {
            "text/plain": [
              "numpy.ndarray"
            ]
          },
          "metadata": {},
          "execution_count": 22
        }
      ]
    },
    {
      "cell_type": "code",
      "execution_count": 21,
      "metadata": {
        "id": "GnbrSBI8V_it",
        "colab": {
          "base_uri": "https://localhost:8080/",
          "height": 485
        },
        "outputId": "78d4a369-a80a-4651-a0a1-a1849e9171df"
      },
      "outputs": [
        {
          "output_type": "execute_result",
          "data": {
            "text/plain": [
              "     mean radius  mean texture  mean perimeter  mean area  mean smoothness  \\\n",
              "0       3.707522      0.636479        3.689347   4.490213         0.916322   \n",
              "1      -0.846158      0.527808       -0.869192  -0.778375         0.378619   \n",
              "2      -0.786614     -0.067518       -0.819157  -0.734134        -0.659290   \n",
              "3      -0.403833     -0.355732       -0.457836  -0.437412        -1.237321   \n",
              "4      -0.157151     -0.315571       -0.242111  -0.237342        -1.200530   \n",
              "..           ...           ...             ...        ...              ...   \n",
              "450    -0.729906     -0.032082       -0.735901  -0.695529        -0.777443   \n",
              "451     1.600807      1.404261        1.569001   1.508897         0.357394   \n",
              "452    -0.443528     -0.183276       -0.505001  -0.472071        -0.885691   \n",
              "453    -0.480389     -0.653395       -0.381143  -0.506731        -0.092579   \n",
              "454    -0.191176     -1.208560       -0.197817  -0.310607         0.753596   \n",
              "\n",
              "     mean compactness  mean concavity  mean concave points  mean symmetry  \\\n",
              "0            1.606814        2.440709             3.519566      -0.046691   \n",
              "1           -0.850715       -1.001404            -0.982007      -0.703805   \n",
              "2           -1.031827       -0.815342            -0.703074       0.709879   \n",
              "3           -1.122570       -0.938723            -0.789017      -1.257912   \n",
              "4           -1.210326       -0.865090            -0.940815      -0.852988   \n",
              "..                ...             ...                  ...            ...   \n",
              "450         -0.525086       -0.433442            -0.892504       0.773814   \n",
              "451          0.999994        2.037276             1.665947       1.381201   \n",
              "452         -1.179705       -1.089206            -1.181252      -0.412544   \n",
              "453          0.854357        0.798514            -0.023414       0.954965   \n",
              "454          0.189655       -0.396192             0.083379      -0.121282   \n",
              "\n",
              "     mean fractal dimension  \n",
              "0                 -0.745130  \n",
              "1                 -0.206592  \n",
              "2                 -0.478741  \n",
              "3                 -1.070557  \n",
              "4                 -1.105115  \n",
              "..                      ...  \n",
              "450               -0.029479  \n",
              "451               -0.251230  \n",
              "452               -0.622735  \n",
              "453                1.493979  \n",
              "454                0.506179  \n",
              "\n",
              "[455 rows x 10 columns]"
            ],
            "text/html": [
              "\n",
              "  <div id=\"df-70fe0e1a-99ee-4981-8748-21867117bdbb\">\n",
              "    <div class=\"colab-df-container\">\n",
              "      <div>\n",
              "<style scoped>\n",
              "    .dataframe tbody tr th:only-of-type {\n",
              "        vertical-align: middle;\n",
              "    }\n",
              "\n",
              "    .dataframe tbody tr th {\n",
              "        vertical-align: top;\n",
              "    }\n",
              "\n",
              "    .dataframe thead th {\n",
              "        text-align: right;\n",
              "    }\n",
              "</style>\n",
              "<table border=\"1\" class=\"dataframe\">\n",
              "  <thead>\n",
              "    <tr style=\"text-align: right;\">\n",
              "      <th></th>\n",
              "      <th>mean radius</th>\n",
              "      <th>mean texture</th>\n",
              "      <th>mean perimeter</th>\n",
              "      <th>mean area</th>\n",
              "      <th>mean smoothness</th>\n",
              "      <th>mean compactness</th>\n",
              "      <th>mean concavity</th>\n",
              "      <th>mean concave points</th>\n",
              "      <th>mean symmetry</th>\n",
              "      <th>mean fractal dimension</th>\n",
              "    </tr>\n",
              "  </thead>\n",
              "  <tbody>\n",
              "    <tr>\n",
              "      <th>0</th>\n",
              "      <td>3.707522</td>\n",
              "      <td>0.636479</td>\n",
              "      <td>3.689347</td>\n",
              "      <td>4.490213</td>\n",
              "      <td>0.916322</td>\n",
              "      <td>1.606814</td>\n",
              "      <td>2.440709</td>\n",
              "      <td>3.519566</td>\n",
              "      <td>-0.046691</td>\n",
              "      <td>-0.745130</td>\n",
              "    </tr>\n",
              "    <tr>\n",
              "      <th>1</th>\n",
              "      <td>-0.846158</td>\n",
              "      <td>0.527808</td>\n",
              "      <td>-0.869192</td>\n",
              "      <td>-0.778375</td>\n",
              "      <td>0.378619</td>\n",
              "      <td>-0.850715</td>\n",
              "      <td>-1.001404</td>\n",
              "      <td>-0.982007</td>\n",
              "      <td>-0.703805</td>\n",
              "      <td>-0.206592</td>\n",
              "    </tr>\n",
              "    <tr>\n",
              "      <th>2</th>\n",
              "      <td>-0.786614</td>\n",
              "      <td>-0.067518</td>\n",
              "      <td>-0.819157</td>\n",
              "      <td>-0.734134</td>\n",
              "      <td>-0.659290</td>\n",
              "      <td>-1.031827</td>\n",
              "      <td>-0.815342</td>\n",
              "      <td>-0.703074</td>\n",
              "      <td>0.709879</td>\n",
              "      <td>-0.478741</td>\n",
              "    </tr>\n",
              "    <tr>\n",
              "      <th>3</th>\n",
              "      <td>-0.403833</td>\n",
              "      <td>-0.355732</td>\n",
              "      <td>-0.457836</td>\n",
              "      <td>-0.437412</td>\n",
              "      <td>-1.237321</td>\n",
              "      <td>-1.122570</td>\n",
              "      <td>-0.938723</td>\n",
              "      <td>-0.789017</td>\n",
              "      <td>-1.257912</td>\n",
              "      <td>-1.070557</td>\n",
              "    </tr>\n",
              "    <tr>\n",
              "      <th>4</th>\n",
              "      <td>-0.157151</td>\n",
              "      <td>-0.315571</td>\n",
              "      <td>-0.242111</td>\n",
              "      <td>-0.237342</td>\n",
              "      <td>-1.200530</td>\n",
              "      <td>-1.210326</td>\n",
              "      <td>-0.865090</td>\n",
              "      <td>-0.940815</td>\n",
              "      <td>-0.852988</td>\n",
              "      <td>-1.105115</td>\n",
              "    </tr>\n",
              "    <tr>\n",
              "      <th>...</th>\n",
              "      <td>...</td>\n",
              "      <td>...</td>\n",
              "      <td>...</td>\n",
              "      <td>...</td>\n",
              "      <td>...</td>\n",
              "      <td>...</td>\n",
              "      <td>...</td>\n",
              "      <td>...</td>\n",
              "      <td>...</td>\n",
              "      <td>...</td>\n",
              "    </tr>\n",
              "    <tr>\n",
              "      <th>450</th>\n",
              "      <td>-0.729906</td>\n",
              "      <td>-0.032082</td>\n",
              "      <td>-0.735901</td>\n",
              "      <td>-0.695529</td>\n",
              "      <td>-0.777443</td>\n",
              "      <td>-0.525086</td>\n",
              "      <td>-0.433442</td>\n",
              "      <td>-0.892504</td>\n",
              "      <td>0.773814</td>\n",
              "      <td>-0.029479</td>\n",
              "    </tr>\n",
              "    <tr>\n",
              "      <th>451</th>\n",
              "      <td>1.600807</td>\n",
              "      <td>1.404261</td>\n",
              "      <td>1.569001</td>\n",
              "      <td>1.508897</td>\n",
              "      <td>0.357394</td>\n",
              "      <td>0.999994</td>\n",
              "      <td>2.037276</td>\n",
              "      <td>1.665947</td>\n",
              "      <td>1.381201</td>\n",
              "      <td>-0.251230</td>\n",
              "    </tr>\n",
              "    <tr>\n",
              "      <th>452</th>\n",
              "      <td>-0.443528</td>\n",
              "      <td>-0.183276</td>\n",
              "      <td>-0.505001</td>\n",
              "      <td>-0.472071</td>\n",
              "      <td>-0.885691</td>\n",
              "      <td>-1.179705</td>\n",
              "      <td>-1.089206</td>\n",
              "      <td>-1.181252</td>\n",
              "      <td>-0.412544</td>\n",
              "      <td>-0.622735</td>\n",
              "    </tr>\n",
              "    <tr>\n",
              "      <th>453</th>\n",
              "      <td>-0.480389</td>\n",
              "      <td>-0.653395</td>\n",
              "      <td>-0.381143</td>\n",
              "      <td>-0.506731</td>\n",
              "      <td>-0.092579</td>\n",
              "      <td>0.854357</td>\n",
              "      <td>0.798514</td>\n",
              "      <td>-0.023414</td>\n",
              "      <td>0.954965</td>\n",
              "      <td>1.493979</td>\n",
              "    </tr>\n",
              "    <tr>\n",
              "      <th>454</th>\n",
              "      <td>-0.191176</td>\n",
              "      <td>-1.208560</td>\n",
              "      <td>-0.197817</td>\n",
              "      <td>-0.310607</td>\n",
              "      <td>0.753596</td>\n",
              "      <td>0.189655</td>\n",
              "      <td>-0.396192</td>\n",
              "      <td>0.083379</td>\n",
              "      <td>-0.121282</td>\n",
              "      <td>0.506179</td>\n",
              "    </tr>\n",
              "  </tbody>\n",
              "</table>\n",
              "<p>455 rows × 10 columns</p>\n",
              "</div>\n",
              "      <button class=\"colab-df-convert\" onclick=\"convertToInteractive('df-70fe0e1a-99ee-4981-8748-21867117bdbb')\"\n",
              "              title=\"Convert this dataframe to an interactive table.\"\n",
              "              style=\"display:none;\">\n",
              "        \n",
              "  <svg xmlns=\"http://www.w3.org/2000/svg\" height=\"24px\"viewBox=\"0 0 24 24\"\n",
              "       width=\"24px\">\n",
              "    <path d=\"M0 0h24v24H0V0z\" fill=\"none\"/>\n",
              "    <path d=\"M18.56 5.44l.94 2.06.94-2.06 2.06-.94-2.06-.94-.94-2.06-.94 2.06-2.06.94zm-11 1L8.5 8.5l.94-2.06 2.06-.94-2.06-.94L8.5 2.5l-.94 2.06-2.06.94zm10 10l.94 2.06.94-2.06 2.06-.94-2.06-.94-.94-2.06-.94 2.06-2.06.94z\"/><path d=\"M17.41 7.96l-1.37-1.37c-.4-.4-.92-.59-1.43-.59-.52 0-1.04.2-1.43.59L10.3 9.45l-7.72 7.72c-.78.78-.78 2.05 0 2.83L4 21.41c.39.39.9.59 1.41.59.51 0 1.02-.2 1.41-.59l7.78-7.78 2.81-2.81c.8-.78.8-2.07 0-2.86zM5.41 20L4 18.59l7.72-7.72 1.47 1.35L5.41 20z\"/>\n",
              "  </svg>\n",
              "      </button>\n",
              "      \n",
              "  <style>\n",
              "    .colab-df-container {\n",
              "      display:flex;\n",
              "      flex-wrap:wrap;\n",
              "      gap: 12px;\n",
              "    }\n",
              "\n",
              "    .colab-df-convert {\n",
              "      background-color: #E8F0FE;\n",
              "      border: none;\n",
              "      border-radius: 50%;\n",
              "      cursor: pointer;\n",
              "      display: none;\n",
              "      fill: #1967D2;\n",
              "      height: 32px;\n",
              "      padding: 0 0 0 0;\n",
              "      width: 32px;\n",
              "    }\n",
              "\n",
              "    .colab-df-convert:hover {\n",
              "      background-color: #E2EBFA;\n",
              "      box-shadow: 0px 1px 2px rgba(60, 64, 67, 0.3), 0px 1px 3px 1px rgba(60, 64, 67, 0.15);\n",
              "      fill: #174EA6;\n",
              "    }\n",
              "\n",
              "    [theme=dark] .colab-df-convert {\n",
              "      background-color: #3B4455;\n",
              "      fill: #D2E3FC;\n",
              "    }\n",
              "\n",
              "    [theme=dark] .colab-df-convert:hover {\n",
              "      background-color: #434B5C;\n",
              "      box-shadow: 0px 1px 3px 1px rgba(0, 0, 0, 0.15);\n",
              "      filter: drop-shadow(0px 1px 2px rgba(0, 0, 0, 0.3));\n",
              "      fill: #FFFFFF;\n",
              "    }\n",
              "  </style>\n",
              "\n",
              "      <script>\n",
              "        const buttonEl =\n",
              "          document.querySelector('#df-70fe0e1a-99ee-4981-8748-21867117bdbb button.colab-df-convert');\n",
              "        buttonEl.style.display =\n",
              "          google.colab.kernel.accessAllowed ? 'block' : 'none';\n",
              "\n",
              "        async function convertToInteractive(key) {\n",
              "          const element = document.querySelector('#df-70fe0e1a-99ee-4981-8748-21867117bdbb');\n",
              "          const dataTable =\n",
              "            await google.colab.kernel.invokeFunction('convertToInteractive',\n",
              "                                                     [key], {});\n",
              "          if (!dataTable) return;\n",
              "\n",
              "          const docLinkHtml = 'Like what you see? Visit the ' +\n",
              "            '<a target=\"_blank\" href=https://colab.research.google.com/notebooks/data_table.ipynb>data table notebook</a>'\n",
              "            + ' to learn more about interactive tables.';\n",
              "          element.innerHTML = '';\n",
              "          dataTable['output_type'] = 'display_data';\n",
              "          await google.colab.output.renderOutput(dataTable, element);\n",
              "          const docLink = document.createElement('div');\n",
              "          docLink.innerHTML = docLinkHtml;\n",
              "          element.appendChild(docLink);\n",
              "        }\n",
              "      </script>\n",
              "    </div>\n",
              "  </div>\n",
              "  "
            ]
          },
          "metadata": {},
          "execution_count": 21
        }
      ],
      "source": [
        "pd.DataFrame(X_train, columns=df.columns[:-1]) # just so you can see what the transformed data looks like"
      ]
    },
    {
      "cell_type": "markdown",
      "metadata": {
        "id": "b-SzUko_V_iu"
      },
      "source": [
        "## <font color='#31394d'> Logistic Regression in Scikit-Learn </font>\n",
        "\n",
        "In this section, we will fit a logistic regression model and use it to make predictions. Take note of how similar the process is to linear regression. This is the case for all estimators in `sklearn` and is the primary reason for the module's popularity. Even though the models are very different, the training and prediction steps look almost identical in `sklearn`!\n",
        "\n"
      ]
    },
    {
      "cell_type": "code",
      "execution_count": 23,
      "metadata": {
        "id": "yE36hOfHV_iu"
      },
      "outputs": [],
      "source": [
        "from sklearn.linear_model import LogisticRegression\n",
        "?LogisticRegression"
      ]
    },
    {
      "cell_type": "markdown",
      "metadata": {
        "id": "moxXdUDVV_iu"
      },
      "source": [
        "<font color='#d9c4b1'> A side note... </font>\n",
        "\n",
        "Note (from the help file) that `LogisticRegression` has a `penalty` argument that is set to `l2` by default. This is an example of *regularization* - a technique that introduces some bias (a simpler model) in an attempt to reduce sampling variability (the bias-variance trade-off!). In linear regression, an `l2` penalty leads to ridge regression, while the `l1` penalty corresponds to the lasso. Importantly, if you are going to use a regularized model, then you **MUST** always standardize your features.\n",
        "\n",
        "We are going to ignore the penalty for the rest of this notebook and fit a standard logistic regression model..."
      ]
    },
    {
      "cell_type": "code",
      "execution_count": 24,
      "metadata": {
        "id": "DnJPdUZ3V_iu"
      },
      "outputs": [],
      "source": [
        "clf = LogisticRegression(penalty='none') # instantiate the model"
      ]
    },
    {
      "cell_type": "code",
      "execution_count": 25,
      "metadata": {
        "id": "alVHO85xV_iu",
        "colab": {
          "base_uri": "https://localhost:8080/"
        },
        "outputId": "6f98f14a-30b4-4ed9-cbcf-60e5277559ae"
      },
      "outputs": [
        {
          "output_type": "execute_result",
          "data": {
            "text/plain": [
              "LogisticRegression(penalty='none')"
            ]
          },
          "metadata": {},
          "execution_count": 25
        }
      ],
      "source": [
        "clf.fit(X=X_train, y=y_train) "
      ]
    },
    {
      "cell_type": "markdown",
      "metadata": {
        "id": "v4IiE0HjV_iu"
      },
      "source": [
        "## <font color='#31394d'> Interpretation </font>"
      ]
    },
    {
      "cell_type": "markdown",
      "metadata": {
        "id": "QHkUCFFtV_iv"
      },
      "source": [
        "We can examine the estimated coefficients in the usual way. Note that because we standardized our features, the absolute values of the coefficients give us a measure of feature importance:"
      ]
    },
    {
      "cell_type": "code",
      "execution_count": 26,
      "metadata": {
        "id": "A6s8ih1EV_iv",
        "colab": {
          "base_uri": "https://localhost:8080/"
        },
        "outputId": "81930405-cab0-42a1-cc1e-d7a708127494"
      },
      "outputs": [
        {
          "output_type": "execute_result",
          "data": {
            "text/plain": [
              "array([[  7.19487054,  -1.60430416,   3.01201434, -14.91546234,\n",
              "         -1.01345318,   0.21490822,  -0.26285507,  -3.9696922 ,\n",
              "         -0.47854287,   0.52456356]])"
            ]
          },
          "metadata": {},
          "execution_count": 26
        }
      ],
      "source": [
        "clf.coef_"
      ]
    },
    {
      "cell_type": "code",
      "execution_count": 27,
      "metadata": {
        "id": "G64Zt529V_iv",
        "colab": {
          "base_uri": "https://localhost:8080/"
        },
        "outputId": "420e9dc9-7def-403c-e20d-736be9957582"
      },
      "outputs": [
        {
          "output_type": "execute_result",
          "data": {
            "text/plain": [
              "Index(['mean radius', 'mean texture', 'mean perimeter', 'mean area',\n",
              "       'mean smoothness', 'mean compactness', 'mean concavity',\n",
              "       'mean concave points', 'mean symmetry', 'mean fractal dimension'],\n",
              "      dtype='object')"
            ]
          },
          "metadata": {},
          "execution_count": 27
        }
      ],
      "source": [
        "df.columns[:-1]"
      ]
    },
    {
      "cell_type": "code",
      "execution_count": 28,
      "metadata": {
        "id": "7WY3lXjVV_iv",
        "colab": {
          "base_uri": "https://localhost:8080/"
        },
        "outputId": "60458de6-365a-4908-faca-9cb4e0541c56"
      },
      "outputs": [
        {
          "output_type": "execute_result",
          "data": {
            "text/plain": [
              "mean area                -14.915462\n",
              "mean concave points       -3.969692\n",
              "mean texture              -1.604304\n",
              "mean smoothness           -1.013453\n",
              "mean symmetry             -0.478543\n",
              "mean concavity            -0.262855\n",
              "mean compactness           0.214908\n",
              "mean fractal dimension     0.524564\n",
              "mean perimeter             3.012014\n",
              "mean radius                7.194871\n",
              "dtype: float64"
            ]
          },
          "metadata": {},
          "execution_count": 28
        }
      ],
      "source": [
        "pd.Series(clf.coef_[0], index=df.columns[:-1]).sort_values()"
      ]
    },
    {
      "cell_type": "code",
      "execution_count": 29,
      "metadata": {
        "id": "U6UEW4i1V_iv",
        "colab": {
          "base_uri": "https://localhost:8080/",
          "height": 374
        },
        "outputId": "b4275743-a46e-406a-e4c9-ef8e4aaf4bdc"
      },
      "outputs": [
        {
          "output_type": "display_data",
          "data": {
            "text/plain": [
              "<Figure size 432x288 with 1 Axes>"
            ],
            "image/png": "[encoded data removed]"
          },
          "metadata": {
            "needs_background": "light"
          }
        }
      ],
      "source": [
        "import matplotlib.pyplot as plt\n",
        "import seaborn as sns\n",
        "\n",
        "sns.barplot(x=df.columns[:-1], y=np.abs(clf.coef_[0]))\n",
        "plt.xticks(rotation=90);\n"
      ]
    },
    {
      "cell_type": "markdown",
      "metadata": {
        "id": "zh6K6RFoV_iv"
      },
      "source": [
        "Area and radius look like the most important features for classifying cancer tumors."
      ]
    },
    {
      "cell_type": "markdown",
      "metadata": {
        "id": "BHCf9LpNV_iv"
      },
      "source": [
        "## <font color='#31394d'> Predictions </font>"
      ]
    },
    {
      "cell_type": "markdown",
      "metadata": {
        "id": "Yjo2xLHcV_iv"
      },
      "source": [
        "Let's now make some predictions on the test data:"
      ]
    },
    {
      "cell_type": "code",
      "execution_count": 32,
      "metadata": {
        "id": "p2ASFUFUV_iw",
        "colab": {
          "base_uri": "https://localhost:8080/"
        },
        "outputId": "ac0bf658-eea9-4867-91fa-b3ee3c6dc4ca"
      },
      "outputs": [
        {
          "output_type": "execute_result",
          "data": {
            "text/plain": [
              "array([1, 1, 1, 1, 1, 1, 1, 1, 1, 1, 0, 0, 1, 0, 1, 1, 1, 0, 1, 0])"
            ]
          },
          "metadata": {},
          "execution_count": 32
        }
      ],
      "source": [
        "y_hat = clf.predict(X_test)\n",
        "# first 20 predicted values\n",
        "y_hat[:20]"
      ]
    },
    {
      "cell_type": "markdown",
      "metadata": {
        "id": "YlfVVRD4V_iw"
      },
      "source": [
        "We see that the `predict` method directly outputs the predicted class (0 or 1), assuming a classification threshold of 0.5. If we want to see the underlying probabilities, we can use the `predict_proba` method:"
      ]
    },
    {
      "cell_type": "code",
      "execution_count": 35,
      "metadata": {
        "id": "8nTSjV9wV_iw",
        "colab": {
          "base_uri": "https://localhost:8080/"
        },
        "outputId": "ac238659-fe91-4858-e72c-a6d649099ca0"
      },
      "outputs": [
        {
          "output_type": "execute_result",
          "data": {
            "text/plain": [
              "array([[0.01, 0.99],\n",
              "       [0.  , 1.  ],\n",
              "       [0.03, 0.97],\n",
              "       [0.  , 1.  ],\n",
              "       [0.  , 1.  ],\n",
              "       [0.03, 0.97],\n",
              "       [0.  , 1.  ],\n",
              "       [0.32, 0.68],\n",
              "       [0.  , 1.  ],\n",
              "       [0.  , 1.  ],\n",
              "       [1.  , 0.  ],\n",
              "       [1.  , 0.  ],\n",
              "       [0.  , 1.  ],\n",
              "       [1.  , 0.  ],\n",
              "       [0.  , 1.  ],\n",
              "       [0.02, 0.98],\n",
              "       [0.  , 1.  ],\n",
              "       [1.  , 0.  ],\n",
              "       [0.12, 0.88],\n",
              "       [0.99, 0.01]])"
            ]
          },
          "metadata": {},
          "execution_count": 35
        }
      ],
      "source": [
        "y_prob = clf.predict_proba(X_test)\n",
        "np.around(y_prob[:20,:], 2) # rounding to 2 decimal places"
      ]
    },
    {
      "cell_type": "markdown",
      "metadata": {
        "id": "eGIpSunUV_iw"
      },
      "source": [
        "🙋‍♀️ <font color='#d9c4b1'> Question: </font> Why are there two columns of results here?"
      ]
    },
    {
      "cell_type": "markdown",
      "source": [
        "#####  The two columns represent the predicted probabilities of belonging to each of the two classes, 1-Bening and 0-Malignant. For example, the first row is predicted to be 1. The predict_proba shows us that it's one since it has a 99% chance of being bening but 1% of being malignant hence the predicted value is 1"
      ],
      "metadata": {
        "id": "wM11sje9OhL4"
      }
    },
    {
      "cell_type": "markdown",
      "metadata": {
        "id": "9fUawDofV_iw"
      },
      "source": [
        "🚀 <font color='#d9c4b1'> Exercise: </font> Using the estimated probabilities, confirm that the `predict` method does indeed use a 0.5 classification threshold."
      ]
    },
    {
      "cell_type": "markdown",
      "source": [
        "###### Output True if the predict method indeed uses a 0.5 classification threshold, and False otherwise."
      ],
      "metadata": {
        "id": "6nqehWNDSp4n"
      }
    },
    {
      "cell_type": "code",
      "source": [
        "y_hat_proba = (y_prob[:,1] >= 0.5).astype(int) #using only the 2nd column\n",
        "print(type(y_hat_proba))\n",
        "print(np.array_equal(y_hat_proba, y_hat))\n"
      ],
      "metadata": {
        "colab": {
          "base_uri": "https://localhost:8080/"
        },
        "id": "aFwM8uhjPsOn",
        "outputId": "05815b94-ade0-45d1-98a2-9a651129b07f"
      },
      "execution_count": 37,
      "outputs": [
        {
          "output_type": "stream",
          "name": "stdout",
          "text": [
            "<class 'numpy.ndarray'>\n",
            "True\n"
          ]
        }
      ]
    },
    {
      "cell_type": "markdown",
      "metadata": {
        "id": "_Ciyl5eIV_iw"
      },
      "source": [
        "## <font color='#31394d'> Model Evaluation </font>\n",
        "\n",
        "In binary classification, we have: \n",
        "\n",
        "- *Positive cases*: Cases of labelled as 1 (benign cancers)\n",
        "- *Negative cases*: Cases of labelled as 0 (malignant cancers)\n",
        "\n",
        "Since actual positive cases can be classified correctly as positive or incorrectly as negative, and actual negative cases can be classified incorrectly as positive or correctly as negative, we have four possible scenarios:\n",
        "\n",
        "- *True Positives* (TP): the cancers that are benign and are correctly classified as benign\n",
        "- *False Positives* (FP): malignant cancers that are incorrectly classified as benign\n",
        "- *True Negatives* (TN): malignant cancers that are correctly classified as malignant\n",
        "- *False Negatives* (FN): benign cancers that are incorrectly classified as malignant\n",
        "\n",
        "![title](media/classification_errors.png)\n",
        "\n",
        "### <font color='#31394d'> **Confusion Matrix** </font>\n",
        "\n",
        "We can use a confusion matrix to easily examine how a classifier has performed in each one of these categories. The `metrics` submodule in `sklearn` has a `confusion_matrix` function. NB: Read the documentation (`?confusion_matrix`) to see what the rows and columns represent."
      ]
    },
    {
      "cell_type": "code",
      "execution_count": 38,
      "metadata": {
        "id": "nVDfkA05V_ix",
        "colab": {
          "base_uri": "https://localhost:8080/",
          "height": 112
        },
        "outputId": "1eb8fe1a-beb0-4ab0-d7fd-dbb23c78a1e2"
      },
      "outputs": [
        {
          "output_type": "execute_result",
          "data": {
            "text/plain": [
              "         pred0  pred1\n",
              "actual0     37      5\n",
              "actual1      3     69"
            ],
            "text/html": [
              "\n",
              "  <div id=\"df-f0844039-aaef-42cb-a1cc-ad616f9bd36e\">\n",
              "    <div class=\"colab-df-container\">\n",
              "      <div>\n",
              "<style scoped>\n",
              "    .dataframe tbody tr th:only-of-type {\n",
              "        vertical-align: middle;\n",
              "    }\n",
              "\n",
              "    .dataframe tbody tr th {\n",
              "        vertical-align: top;\n",
              "    }\n",
              "\n",
              "    .dataframe thead th {\n",
              "        text-align: right;\n",
              "    }\n",
              "</style>\n",
              "<table border=\"1\" class=\"dataframe\">\n",
              "  <thead>\n",
              "    <tr style=\"text-align: right;\">\n",
              "      <th></th>\n",
              "      <th>pred0</th>\n",
              "      <th>pred1</th>\n",
              "    </tr>\n",
              "  </thead>\n",
              "  <tbody>\n",
              "    <tr>\n",
              "      <th>actual0</th>\n",
              "      <td>37</td>\n",
              "      <td>5</td>\n",
              "    </tr>\n",
              "    <tr>\n",
              "      <th>actual1</th>\n",
              "      <td>3</td>\n",
              "      <td>69</td>\n",
              "    </tr>\n",
              "  </tbody>\n",
              "</table>\n",
              "</div>\n",
              "      <button class=\"colab-df-convert\" onclick=\"convertToInteractive('df-f0844039-aaef-42cb-a1cc-ad616f9bd36e')\"\n",
              "              title=\"Convert this dataframe to an interactive table.\"\n",
              "              style=\"display:none;\">\n",
              "        \n",
              "  <svg xmlns=\"http://www.w3.org/2000/svg\" height=\"24px\"viewBox=\"0 0 24 24\"\n",
              "       width=\"24px\">\n",
              "    <path d=\"M0 0h24v24H0V0z\" fill=\"none\"/>\n",
              "    <path d=\"M18.56 5.44l.94 2.06.94-2.06 2.06-.94-2.06-.94-.94-2.06-.94 2.06-2.06.94zm-11 1L8.5 8.5l.94-2.06 2.06-.94-2.06-.94L8.5 2.5l-.94 2.06-2.06.94zm10 10l.94 2.06.94-2.06 2.06-.94-2.06-.94-.94-2.06-.94 2.06-2.06.94z\"/><path d=\"M17.41 7.96l-1.37-1.37c-.4-.4-.92-.59-1.43-.59-.52 0-1.04.2-1.43.59L10.3 9.45l-7.72 7.72c-.78.78-.78 2.05 0 2.83L4 21.41c.39.39.9.59 1.41.59.51 0 1.02-.2 1.41-.59l7.78-7.78 2.81-2.81c.8-.78.8-2.07 0-2.86zM5.41 20L4 18.59l7.72-7.72 1.47 1.35L5.41 20z\"/>\n",
              "  </svg>\n",
              "      </button>\n",
              "      \n",
              "  <style>\n",
              "    .colab-df-container {\n",
              "      display:flex;\n",
              "      flex-wrap:wrap;\n",
              "      gap: 12px;\n",
              "    }\n",
              "\n",
              "    .colab-df-convert {\n",
              "      background-color: #E8F0FE;\n",
              "      border: none;\n",
              "      border-radius: 50%;\n",
              "      cursor: pointer;\n",
              "      display: none;\n",
              "      fill: #1967D2;\n",
              "      height: 32px;\n",
              "      padding: 0 0 0 0;\n",
              "      width: 32px;\n",
              "    }\n",
              "\n",
              "    .colab-df-convert:hover {\n",
              "      background-color: #E2EBFA;\n",
              "      box-shadow: 0px 1px 2px rgba(60, 64, 67, 0.3), 0px 1px 3px 1px rgba(60, 64, 67, 0.15);\n",
              "      fill: #174EA6;\n",
              "    }\n",
              "\n",
              "    [theme=dark] .colab-df-convert {\n",
              "      background-color: #3B4455;\n",
              "      fill: #D2E3FC;\n",
              "    }\n",
              "\n",
              "    [theme=dark] .colab-df-convert:hover {\n",
              "      background-color: #434B5C;\n",
              "      box-shadow: 0px 1px 3px 1px rgba(0, 0, 0, 0.15);\n",
              "      filter: drop-shadow(0px 1px 2px rgba(0, 0, 0, 0.3));\n",
              "      fill: #FFFFFF;\n",
              "    }\n",
              "  </style>\n",
              "\n",
              "      <script>\n",
              "        const buttonEl =\n",
              "          document.querySelector('#df-f0844039-aaef-42cb-a1cc-ad616f9bd36e button.colab-df-convert');\n",
              "        buttonEl.style.display =\n",
              "          google.colab.kernel.accessAllowed ? 'block' : 'none';\n",
              "\n",
              "        async function convertToInteractive(key) {\n",
              "          const element = document.querySelector('#df-f0844039-aaef-42cb-a1cc-ad616f9bd36e');\n",
              "          const dataTable =\n",
              "            await google.colab.kernel.invokeFunction('convertToInteractive',\n",
              "                                                     [key], {});\n",
              "          if (!dataTable) return;\n",
              "\n",
              "          const docLinkHtml = 'Like what you see? Visit the ' +\n",
              "            '<a target=\"_blank\" href=https://colab.research.google.com/notebooks/data_table.ipynb>data table notebook</a>'\n",
              "            + ' to learn more about interactive tables.';\n",
              "          element.innerHTML = '';\n",
              "          dataTable['output_type'] = 'display_data';\n",
              "          await google.colab.output.renderOutput(dataTable, element);\n",
              "          const docLink = document.createElement('div');\n",
              "          docLink.innerHTML = docLinkHtml;\n",
              "          element.appendChild(docLink);\n",
              "        }\n",
              "      </script>\n",
              "    </div>\n",
              "  </div>\n",
              "  "
            ]
          },
          "metadata": {},
          "execution_count": 38
        }
      ],
      "source": [
        "from sklearn.metrics import confusion_matrix \n",
        "\n",
        "\n",
        "C = confusion_matrix(y_test, y_hat)\n",
        "\n",
        "\n",
        "pd.DataFrame(C, index=['actual0','actual1'], columns=['pred0','pred1'])\n",
        "\n"
      ]
    },
    {
      "cell_type": "markdown",
      "metadata": {
        "id": "PgN2KiVzV_ix"
      },
      "source": [
        "### <font color='#31394d'> Evaluation Metrics for Classification </font>\n",
        "\n",
        "#### <font color='#d9c4b1'> Classification Accuracy </font>\n",
        "\n",
        "Accuracy is a general measure of the model's performance. It simply measures the percentage of cases correctly classified.\n",
        "\n",
        "$$\\text{Accuracy}=\\frac{\\text{Number of correctly classified observations}}{\\text{Total number of observations}}= \\frac{\\text{TP}+\\text{TN}}{\\text{TP}+\\text{TN}+\\text{FP}+\\text{FN}}$$"
      ]
    },
    {
      "cell_type": "code",
      "execution_count": 39,
      "metadata": {
        "id": "BrRUUoTvV_ix",
        "colab": {
          "base_uri": "https://localhost:8080/"
        },
        "outputId": "3cf17c9e-9ce1-416d-9745-2ddd9ff1c335"
      },
      "outputs": [
        {
          "output_type": "execute_result",
          "data": {
            "text/plain": [
              "0.9298245614035088"
            ]
          },
          "metadata": {},
          "execution_count": 39
        }
      ],
      "source": [
        "(C[0,0]+C[1,1])/C.sum()"
      ]
    },
    {
      "cell_type": "code",
      "execution_count": 40,
      "metadata": {
        "id": "fFLPronfV_ix",
        "colab": {
          "base_uri": "https://localhost:8080/"
        },
        "outputId": "54adc1c3-dd43-45e5-faef-f667a7ed6f0e"
      },
      "outputs": [
        {
          "output_type": "execute_result",
          "data": {
            "text/plain": [
              "0.9298245614035088"
            ]
          },
          "metadata": {},
          "execution_count": 40
        }
      ],
      "source": [
        "from sklearn import metrics\n",
        "metrics.accuracy_score(y_test, y_hat)"
      ]
    },
    {
      "cell_type": "markdown",
      "metadata": {
        "id": "O0UMPJNIV_ix"
      },
      "source": [
        "#### <font color='#d9c4b1'> Precision </font>\n",
        "\n",
        "Precision measures the accuracy of a model's positive predictions - when a model says a case is positive, how confident can we be that it is correct?\n",
        "\n",
        "$$\\text{Precision}=\\frac{\\text{Number of positive cases correctly classified}}{\\text{Number of cases classified as positive}}= \\frac{\\text{TP}}{\\text{TP}+\\text{FP}}$$\n",
        "\n",
        "<img src=\"media/precision_accuracy.png\" style=\"width:30em;\">"
      ]
    },
    {
      "cell_type": "code",
      "execution_count": 41,
      "metadata": {
        "id": "dLwpkaHqV_ix",
        "colab": {
          "base_uri": "https://localhost:8080/"
        },
        "outputId": "cc8bdb83-3547-439b-909d-f338aa4ae3f3"
      },
      "outputs": [
        {
          "output_type": "execute_result",
          "data": {
            "text/plain": [
              "0.9324324324324325"
            ]
          },
          "metadata": {},
          "execution_count": 41
        }
      ],
      "source": [
        "C[1,1]/(C[1,1]+C[0,1])"
      ]
    },
    {
      "cell_type": "code",
      "execution_count": 42,
      "metadata": {
        "id": "JR9low7lV_iy",
        "colab": {
          "base_uri": "https://localhost:8080/"
        },
        "outputId": "14f460f5-cff6-4575-b7b2-54dc1eb1e331"
      },
      "outputs": [
        {
          "output_type": "execute_result",
          "data": {
            "text/plain": [
              "0.9324324324324325"
            ]
          },
          "metadata": {},
          "execution_count": 42
        }
      ],
      "source": [
        "metrics.precision_score(y_test, y_hat)"
      ]
    },
    {
      "cell_type": "markdown",
      "metadata": {
        "id": "W5v5iHEzV_iy"
      },
      "source": [
        "#### <font color='#d9c4b1'> Recall/ True Positive Rate (TPR) </font>\n",
        " \n",
        "Recall gives us an idea of the model's ability to find (detect) the true positive cases.\n",
        "\n",
        "$$\\text{Recall}=\\frac{\\text{Number of positive cases correctly classified}}{\\text{Number of positive classes}}= \\frac{\\text{TP}}{\\text{TP}+\\text{FN}}$$\n",
        "\n",
        "\n",
        "![title](media/precision_recall.png)"
      ]
    },
    {
      "cell_type": "code",
      "execution_count": 43,
      "metadata": {
        "id": "ptQAbkyXV_iy",
        "colab": {
          "base_uri": "https://localhost:8080/"
        },
        "outputId": "0036e785-ac8d-49f8-9004-90bff1d2b92a"
      },
      "outputs": [
        {
          "output_type": "execute_result",
          "data": {
            "text/plain": [
              "0.9583333333333334"
            ]
          },
          "metadata": {},
          "execution_count": 43
        }
      ],
      "source": [
        "C[1,1]/(C[1,1]+C[1,0])"
      ]
    },
    {
      "cell_type": "code",
      "execution_count": 45,
      "metadata": {
        "id": "Lrp0Lbb5V_iy",
        "colab": {
          "base_uri": "https://localhost:8080/"
        },
        "outputId": "870d3f9c-61b1-4936-8c7b-1de032f9abda"
      },
      "outputs": [
        {
          "output_type": "execute_result",
          "data": {
            "text/plain": [
              "0.9583333333333334"
            ]
          },
          "metadata": {},
          "execution_count": 45
        }
      ],
      "source": [
        "metrics.recall_score(y_test, y_hat)"
      ]
    }
  ],
  "metadata": {
    "kernelspec": {
      "display_name": "Python 3",
      "language": "python",
      "name": "python3"
    },
    "language_info": {
      "codemirror_mode": {
        "name": "ipython",
        "version": 3
      },
      "file_extension": ".py",
      "mimetype": "text/x-python",
      "name": "python",
      "nbconvert_exporter": "python",
      "pygments_lexer": "ipython3",
      "version": "3.8.8"
    },
    "colab": {
      "provenance": [],
      "include_colab_link": true
    }
  },
  "nbformat": 4,
  "nbformat_minor": 0
}